{
    "cells": [
        {
            "cell_type": "markdown",
            "metadata": {},
            "source": [
                "<h1>🏋🏽‍♀️ Multi-collinearity vs Model Predictions</h1>\n",
                "\n",
                "---\n",
                "\n",
                "The goal of this exercise is to see how multi-collinearity can affect the predictions of a model.\n",
                "\n",
                "For this, perform a multi-linear regression on the given dataset and compare the coefficients with those from simple linear regression of the individual predictors.\n",
                "\n",
                "<br>\n",
                "\n",
                "<h3>Instructions:</h3>\n",
                "\n",
                "* Read the dataset 'colinearity.csv' as a dataframe.\n",
                "\n",
                "* For each of the predictor variable, create a linear regression model with the same response variable.\n",
                "\n",
                "* Compute the coefficients for each model and store in a list.\n",
                "\n",
                "* Fit all predictors using a separate multi-linear regression object.\n",
                "\n",
                "* Calculate the coefficients of each model.\n",
                "\n",
                "* Compare the coefficients of the multi-linear regression model with those of the simple linear regression model.\n",
                "\n",
                "**DISCUSSION:** Why do you think the coefficients change and what does it mean? \n",
                "\n",
                "<br>\n",
                "\n",
                "<h3>Hints:</h3>\n",
                "\n",
                "**The following are direct links to documentation for some of the functions used in this exercise. As always, if you are unsure how to use a function, refer to its documentation.**\n",
                "\n",
                "<br>\n",
                "\n",
                "[pd.read_csv(filename)](https://pandas.pydata.org/pandas-docs/stable/reference/api/pandas.read_csv.html)\n",
                "\n",
                "Returns a pandas dataframe containing the data and labels from the file data.\n",
                "\n",
                "<br>\n",
                "\n",
                "[pd.DataFrame.drop()](https://pandas.pydata.org/pandas-docs/stable/reference/api/pandas.DataFrame.drop.html)\n",
                "\n",
                "Drop specified labels from rows or columns.\n",
                "\n",
                "<br>\n",
                "\n",
                "[sklearn.linear_model.LinearRegression](https://scikit-learn.org/stable/modules/generated/sklearn.linear_model.LinearRegression.html)\n",
                "\n",
                "Returns a linear regression object from the sklearn library.\n",
                "\n",
                "<br>\n",
                "\n",
                "[sklearn.linear_model.LinearRegression.coef_](https://scikit-learn.org/stable/modules/generated/sklearn.linear_model.LinearRegression.html)\n",
                "\n",
                "This attribute returns the coefficient(s) of the linear regression object.\n",
                "\n",
                "<br>\n",
                "\n",
                "[sklearn.linear_model.LinearRegression.fit()](https://scikit-learn.org/stable/modules/generated/sklearn.linear_model.LinearRegression.html#sklearn.linear_model.LinearRegression.fit)\n",
                "\n",
                "Fit linear model to the data.\n",
                "\n",
                "<br>\n",
                "\n",
                "[pd.Series.reshape()](https://pandas.pydata.org/pandas-docs/version/0.22.0/generated/pandas.Series.reshape.html)\n",
                "\n",
                "Return a np.ndndarray with the values in the specified shape.\n",
                "\n",
                "---"
            ]
        },
        {
            "cell_type": "code",
            "execution_count": 1,
            "metadata": {},
            "outputs": [],
            "source": [
                "# Import necessary libraries\n",
                "import numpy as np\n",
                "import pandas as pd\n",
                "import seaborn as sns \n",
                "from pprint import pprint\n",
                "import matplotlib.pyplot as plt\n",
                "from sklearn.linear_model import LinearRegression\n",
                "%matplotlib inline"
            ]
        },
        {
            "cell_type": "code",
            "execution_count": 2,
            "metadata": {},
            "outputs": [],
            "source": [
                "# Read the file named \"colinearity.csv\" into a Pandas dataframe\n",
                "df = pd.read_csv('colinearity.csv')"
            ]
        },
        {
            "cell_type": "code",
            "execution_count": 3,
            "metadata": {},
            "outputs": [
                {
                    "data": {
                        "text/html": [
                            "<div>\n",
                            "<style scoped>\n",
                            "    .dataframe tbody tr th:only-of-type {\n",
                            "        vertical-align: middle;\n",
                            "    }\n",
                            "\n",
                            "    .dataframe tbody tr th {\n",
                            "        vertical-align: top;\n",
                            "    }\n",
                            "\n",
                            "    .dataframe thead th {\n",
                            "        text-align: right;\n",
                            "    }\n",
                            "</style>\n",
                            "<table border=\"1\" class=\"dataframe\">\n",
                            "  <thead>\n",
                            "    <tr style=\"text-align: right;\">\n",
                            "      <th></th>\n",
                            "      <th>x1</th>\n",
                            "      <th>x2</th>\n",
                            "      <th>x3</th>\n",
                            "      <th>x4</th>\n",
                            "      <th>y</th>\n",
                            "    </tr>\n",
                            "  </thead>\n",
                            "  <tbody>\n",
                            "    <tr>\n",
                            "      <th>0</th>\n",
                            "      <td>-1.109823</td>\n",
                            "      <td>-1.172554</td>\n",
                            "      <td>-0.897949</td>\n",
                            "      <td>-6.572526</td>\n",
                            "      <td>-158.193913</td>\n",
                            "    </tr>\n",
                            "    <tr>\n",
                            "      <th>1</th>\n",
                            "      <td>0.288381</td>\n",
                            "      <td>0.360526</td>\n",
                            "      <td>2.298690</td>\n",
                            "      <td>3.884887</td>\n",
                            "      <td>198.312926</td>\n",
                            "    </tr>\n",
                            "    <tr>\n",
                            "      <th>2</th>\n",
                            "      <td>-1.059194</td>\n",
                            "      <td>0.833067</td>\n",
                            "      <td>0.285517</td>\n",
                            "      <td>-1.225931</td>\n",
                            "      <td>12.152087</td>\n",
                            "    </tr>\n",
                            "    <tr>\n",
                            "      <th>3</th>\n",
                            "      <td>0.226017</td>\n",
                            "      <td>1.979367</td>\n",
                            "      <td>0.744038</td>\n",
                            "      <td>5.380823</td>\n",
                            "      <td>190.281938</td>\n",
                            "    </tr>\n",
                            "    <tr>\n",
                            "      <th>4</th>\n",
                            "      <td>0.664165</td>\n",
                            "      <td>-1.373739</td>\n",
                            "      <td>0.317570</td>\n",
                            "      <td>-0.437413</td>\n",
                            "      <td>-72.681681</td>\n",
                            "    </tr>\n",
                            "  </tbody>\n",
                            "</table>\n",
                            "</div>"
                        ],
                        "text/plain": [
                            "         x1        x2        x3        x4           y\n",
                            "0 -1.109823 -1.172554 -0.897949 -6.572526 -158.193913\n",
                            "1  0.288381  0.360526  2.298690  3.884887  198.312926\n",
                            "2 -1.059194  0.833067  0.285517 -1.225931   12.152087\n",
                            "3  0.226017  1.979367  0.744038  5.380823  190.281938\n",
                            "4  0.664165 -1.373739  0.317570 -0.437413  -72.681681"
                        ]
                    },
                    "execution_count": 3,
                    "metadata": {},
                    "output_type": "execute_result"
                }
            ],
            "source": [
                "# Take a quick look at the dataset\n",
                "df.head()"
            ]
        },
        {
            "attachments": {},
            "cell_type": "markdown",
            "metadata": {},
            "source": [
                "#### Creation of Linear Regression Objects"
            ]
        },
        {
            "cell_type": "code",
            "execution_count": 4,
            "metadata": {},
            "outputs": [],
            "source": [
                "# Choose all the predictors as the variable 'X' (note capitalization of X for multiple features)\n",
                "X = df.drop(['y'],axis=1)\n",
                "\n",
                "# Choose the response variable 'y' \n",
                "y = df.y"
            ]
        },
        {
            "cell_type": "code",
            "execution_count": 5,
            "metadata": {},
            "outputs": [],
            "source": [
                "### edTest(test_coeff) ###\n",
                "\n",
                "# Initialize a list to store the beta values for each linear regression model\n",
                "linear_coef = []\n",
                "\n",
                "# Loop over all the predictors\n",
                "# In each loop \"i\" holds the name of the predictor \n",
                "for i in X:\n",
                "    \n",
                "    # Set the current predictor as the variable x\n",
                "    x = df[[i]]\n",
                "\n",
                "    # Create a linear regression object\n",
                "    linreg = LinearRegression()\n",
                "\n",
                "    # Fit the model with training data \n",
                "    # Remember to choose only one column at a time i.e. given by x (not X)\n",
                "    linreg.fit(x, y)\n",
                "    \n",
                "    # Add the coefficient value of the model to the list\n",
                "    linear_coef.append(linreg.coef_)"
            ]
        },
        {
            "attachments": {},
            "cell_type": "markdown",
            "metadata": {},
            "source": [
                "### Multi-Linear Regression using all variables"
            ]
        },
        {
            "cell_type": "code",
            "execution_count": 6,
            "metadata": {},
            "outputs": [],
            "source": [
                "### edTest(test_multi_coeff) ###\n",
                "\n",
                "# Perform multi-linear regression with all predictors\n",
                "multi_linear = LinearRegression()\n",
                "\n",
                "# Fit the multi-linear regression on all features of the entire data\n",
                "multi_linear.fit(X, y)\n",
                "\n",
                "# Get the coefficients (plural) of the model\n",
                "multi_coef = multi_linear.coef_"
            ]
        },
        {
            "attachments": {},
            "cell_type": "markdown",
            "metadata": {},
            "source": [
                "#### Printing the individual $\\beta$ values"
            ]
        },
        {
            "cell_type": "code",
            "execution_count": 7,
            "metadata": {},
            "outputs": [
                {
                    "name": "stdout",
                    "output_type": "stream",
                    "text": [
                        "By simple(one variable) linear regression for each variable:\n",
                        "'Value of beta1 = 34.73'\n",
                        "'Value of beta2 = 68.63'\n",
                        "'Value of beta3 = 59.40'\n",
                        "'Value of beta4 = 20.92'\n"
                    ]
                }
            ],
            "source": [
                "# Helper code to see the beta values of the linear regression models\n",
                "\n",
                "print('By simple(one variable) linear regression for each variable:', sep = '\\n')\n",
                "\n",
                "for i in range(4):\n",
                "    pprint(f'Value of beta{i+1} = {linear_coef[i][0]:.2f}')"
            ]
        },
        {
            "cell_type": "code",
            "execution_count": 8,
            "metadata": {},
            "outputs": [
                {
                    "name": "stdout",
                    "output_type": "stream",
                    "text": [
                        "By multi-Linear regression on all variables\n",
                        "'Value of beta1 = -24.61'\n",
                        "'Value of beta2 = 27.72'\n",
                        "'Value of beta3 = 37.67'\n",
                        "'Value of beta4 = 19.27'\n"
                    ]
                }
            ],
            "source": [
                "# Helper code to compare with the values from the multi-linear regression\n",
                "print('By multi-Linear regression on all variables')\n",
                "for i in range(4):\n",
                "    pprint(f'Value of beta{i+1} = {round(multi_coef[i],2)}')"
            ]
        },
        {
            "attachments": {},
            "cell_type": "markdown",
            "metadata": {},
            "source": [
                "⏸ Why do you think the $\\beta$ values are different in the two cases?\n",
                "\n",
                "#### A. Because the random seed selected is not as random as we would imagine.\n",
                "#### B. Because of collinearity between $\\beta_1$ and $\\beta_4$\n",
                "#### C. Because multi-linear regression is not a stable model\n",
                "#### D. Because of the measurement error in the data\n"
            ]
        },
        {
            "cell_type": "code",
            "execution_count": 9,
            "metadata": {},
            "outputs": [],
            "source": [
                "### edTest(test_chow1) ###\n",
                "# Submit an answer choice as a string below \n",
                "# (Eg. if you choose option C, put 'C')\n",
                "answer1 = 'B'"
            ]
        },
        {
            "cell_type": "code",
            "execution_count": 10,
            "metadata": {},
            "outputs": [
                {
                    "data": {
                        "image/png": "[encoded data removed]",
                        "text/plain": [
                            "<Figure size 640x480 with 2 Axes>"
                        ]
                    },
                    "metadata": {},
                    "output_type": "display_data"
                }
            ],
            "source": [
                "# Helper code to visualize the heatmap of the covariance matrix\n",
                "corrMatrix = df[['x1','x2','x3','x4']].corr() \n",
                "sns.heatmap(corrMatrix, annot=True) \n",
                "plt.show()"
            ]
        }
    ],
    "metadata": {
        "kernelspec": {
            "display_name": "Python 3 (ipykernel)",
            "language": "python",
            "name": "python3"
        }
    },
    "nbformat": 4,
    "nbformat_minor": 4
}
