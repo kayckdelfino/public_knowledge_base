{
    "cells": [
        {
            "cell_type": "markdown",
            "metadata": {},
            "source": [
                "<h1>🏋🏽‍♀️Exercise: Simple Data Plotting</h1>\n",
                "\n",
                "---\n",
                "\n",
                "The aim of this exercise is to **plot** TV Ads vs Sales based on the Advertisement dataset which should look similar to the graph given below. \n",
                "\n",
                "<br>\n",
                "\n",
                "![Plot](img/plot.png)\n",
                "\n",
                "<br>\n",
                "\n",
                "<h3>Instructions:</h3>\n",
                "\n",
                "- Read the Advertisement data and view the top rows of the dataframe to get an understanding of the data and the columns.\n",
                "\n",
                "- Select the first 7 observations and the columns ```TV``` and ```sales```  to make a new data frame.\n",
                "\n",
                "- Create a scatter plot of the new data frame TV ```budget``` vs ```sales```.\n",
                "\n",
                "<br>\n",
                "\n",
                "<h3>Hints:</h3>\n",
                "\n",
                "**The following are direct links to documentation for some of the functions used in this exercise. As always, if you are unsure how to use a function, refer to its documentation.**\n",
                "\n",
                "<br>\n",
                "\n",
                "[pd.read_csv(filename)](https://pandas.pydata.org/pandas-docs/stable/reference/api/pandas.read_csv.html)\n",
                "\n",
                "Returns a pandas dataframe containing the data and labels from the file data\n",
                "\n",
                "<br>\n",
                "\n",
                "[df.iloc[]](https://pandas.pydata.org/pandas-docs/stable/reference/api/pandas.DataFrame.iloc.html#pandas.DataFrame.iloc)\n",
                "\n",
                "Returns a subset of the dataframe that is contained in the row range passed as the argument\n",
                "\n",
                "<br>\n",
                "\n",
                "[df.head()](https://pandas.pydata.org/pandas-docs/stable/reference/api/pandas.DataFrame.head.html#pandas.DataFrame.head)\n",
                "\n",
                "Returns the first 5 rows of the dataframe with the column names\n",
                "\n",
                "<br>\n",
                "\n",
                "[plt.scatter()](https://matplotlib.org/3.2.2/api/_as_gen/matplotlib.pyplot.scatter.html)\n",
                "\n",
                "A scatter plot of y vs. x with varying marker size and/or color\n",
                "\n",
                "<br>\n",
                "\n",
                "[plt.xlabel()](https://matplotlib.org/stable/api/_as_gen/matplotlib.pyplot.xlabel.html)\n",
                "\n",
                "This is used to specify the text to be displayed as the label for the x-axis\n",
                "\n",
                "<br>\n",
                "\n",
                "[plt.ylabel()](https://matplotlib.org/stable/api/_as_gen/matplotlib.pyplot.ylabel.html)\n",
                "\n",
                "This is used to specify the text to be displayed as the label for the y-axis\n",
                "\n",
                "<br>\n",
                "\n",
                "[plt.title()](https://matplotlib.org/stable/api/_as_gen/matplotlib.pyplot.title.html)\n",
                "\n",
                "This is used to specify the title to be displayed for the plot \n",
                "\n",
                "<br>\n",
                "\n",
                "---"
            ]
        },
        {
            "cell_type": "code",
            "execution_count": 1,
            "metadata": {},
            "outputs": [],
            "source": [
                "# Import necessary libraries\n",
                "import pandas as pd\n",
                "import matplotlib.pyplot as plt\n",
                "%matplotlib inline"
            ]
        },
        {
            "attachments": {},
            "cell_type": "markdown",
            "metadata": {},
            "source": [
                "### Reading the Advertisement dataset"
            ]
        },
        {
            "cell_type": "code",
            "execution_count": 2,
            "metadata": {},
            "outputs": [],
            "source": [
                "# \"Advertising.csv\" containts the data set used in this exercise\n",
                "data_filename = 'Advertising.csv'\n",
                "\n",
                "# Read the file \"Advertising.csv\" file using the pandas library\n",
                "df = pd.read_csv(data_filename)"
            ]
        },
        {
            "cell_type": "code",
            "execution_count": 3,
            "metadata": {},
            "outputs": [
                {
                    "data": {
                        "text/html": [
                            "<div>\n",
                            "<style scoped>\n",
                            "    .dataframe tbody tr th:only-of-type {\n",
                            "        vertical-align: middle;\n",
                            "    }\n",
                            "\n",
                            "    .dataframe tbody tr th {\n",
                            "        vertical-align: top;\n",
                            "    }\n",
                            "\n",
                            "    .dataframe thead th {\n",
                            "        text-align: right;\n",
                            "    }\n",
                            "</style>\n",
                            "<table border=\"1\" class=\"dataframe\">\n",
                            "  <thead>\n",
                            "    <tr style=\"text-align: right;\">\n",
                            "      <th></th>\n",
                            "      <th>TV</th>\n",
                            "      <th>Radio</th>\n",
                            "      <th>Newspaper</th>\n",
                            "      <th>Sales</th>\n",
                            "    </tr>\n",
                            "  </thead>\n",
                            "  <tbody>\n",
                            "    <tr>\n",
                            "      <th>0</th>\n",
                            "      <td>230.1</td>\n",
                            "      <td>37.8</td>\n",
                            "      <td>69.2</td>\n",
                            "      <td>22.1</td>\n",
                            "    </tr>\n",
                            "    <tr>\n",
                            "      <th>1</th>\n",
                            "      <td>44.5</td>\n",
                            "      <td>39.3</td>\n",
                            "      <td>45.1</td>\n",
                            "      <td>10.4</td>\n",
                            "    </tr>\n",
                            "    <tr>\n",
                            "      <th>2</th>\n",
                            "      <td>17.2</td>\n",
                            "      <td>45.9</td>\n",
                            "      <td>69.3</td>\n",
                            "      <td>9.3</td>\n",
                            "    </tr>\n",
                            "    <tr>\n",
                            "      <th>3</th>\n",
                            "      <td>151.5</td>\n",
                            "      <td>41.3</td>\n",
                            "      <td>58.5</td>\n",
                            "      <td>18.5</td>\n",
                            "    </tr>\n",
                            "    <tr>\n",
                            "      <th>4</th>\n",
                            "      <td>180.8</td>\n",
                            "      <td>10.8</td>\n",
                            "      <td>58.4</td>\n",
                            "      <td>12.9</td>\n",
                            "    </tr>\n",
                            "  </tbody>\n",
                            "</table>\n",
                            "</div>"
                        ],
                        "text/plain": [
                            "      TV  Radio  Newspaper  Sales\n",
                            "0  230.1   37.8       69.2   22.1\n",
                            "1   44.5   39.3       45.1   10.4\n",
                            "2   17.2   45.9       69.3    9.3\n",
                            "3  151.5   41.3       58.5   18.5\n",
                            "4  180.8   10.8       58.4   12.9"
                        ]
                    },
                    "execution_count": 3,
                    "metadata": {},
                    "output_type": "execute_result"
                }
            ],
            "source": [
                "# Get a quick look of the data\n",
                "df.head()"
            ]
        },
        {
            "cell_type": "code",
            "execution_count": 17,
            "metadata": {},
            "outputs": [],
            "source": [
                "### edTest(test_pandas) ###\n",
                "# Create a new dataframe by selecting the first 7 rows of\n",
                "# the current dataframe\n",
                "df_new = df.iloc[:7, [0, 3]]"
            ]
        },
        {
            "cell_type": "code",
            "execution_count": 11,
            "metadata": {},
            "outputs": [
                {
                    "name": "stdout",
                    "output_type": "stream",
                    "text": [
                        "      TV  Sales\n",
                        "0  230.1   22.1\n",
                        "1   44.5   10.4\n",
                        "2   17.2    9.3\n",
                        "3  151.5   18.5\n",
                        "4  180.8   12.9\n",
                        "5    8.7    7.2\n",
                        "6   57.5   11.8\n"
                    ]
                }
            ],
            "source": [
                "# Print your new dataframe to see if you have selected 7 rows correctly\n",
                "print(df_new)"
            ]
        },
        {
            "attachments": {},
            "cell_type": "markdown",
            "metadata": {},
            "source": [
                "### Plotting the graph"
            ]
        },
        {
            "cell_type": "code",
            "execution_count": 14,
            "metadata": {},
            "outputs": [
                {
                    "data": {
                        "text/plain": [
                            "Text(0.5, 1.0, 'Simple Data Plotting')"
                        ]
                    },
                    "execution_count": 14,
                    "metadata": {},
                    "output_type": "execute_result"
                },
                {
                    "data": {
                        "image/png": "[encoded data removed]",
                        "text/plain": [
                            "<Figure size 640x480 with 1 Axes>"
                        ]
                    },
                    "metadata": {},
                    "output_type": "display_data"
                }
            ],
            "source": [
                "# Use a scatter plot for plotting a graph of TV vs Sales\n",
                "plt.scatter(df_new.iloc[:, 0], df_new.iloc[:, 1], label=\"Data Points\")\n",
                "\n",
                "# Add axis labels for clarity (x : TV budget, y : Sales)\n",
                "plt.xlabel(\"TV budget\")\n",
                "plt.ylabel(\"Sales\")\n",
                "\n",
                "# Add plot title \n",
                "plt.title(\"Simple Data Plotting\")"
            ]
        },
        {
            "attachments": {},
            "cell_type": "markdown",
            "metadata": {},
            "source": [
                "## Post-Exercise Question\n",
                "\n",
                "Instead of just plotting seven points, experiment to plot all points."
            ]
        },
        {
            "cell_type": "code",
            "execution_count": 15,
            "metadata": {},
            "outputs": [
                {
                    "data": {
                        "text/plain": [
                            "Text(0.5, 1.0, 'Simple Data Plotting')"
                        ]
                    },
                    "execution_count": 15,
                    "metadata": {},
                    "output_type": "execute_result"
                },
                {
                    "data": {
                        "image/png": "[encoded data removed]",
                        "text/plain": [
                            "<Figure size 640x480 with 1 Axes>"
                        ]
                    },
                    "metadata": {},
                    "output_type": "display_data"
                }
            ],
            "source": [
                "plt.scatter(df.iloc[:, 0], df.iloc[:, 3], label=\"Data Points\")\n",
                "\n",
                "plt.xlabel(\"TV budget\")\n",
                "plt.ylabel(\"Sales\")\n",
                "\n",
                "plt.title(\"Simple Data Plotting\")"
            ]
        }
    ],
    "metadata": {
        "kernelspec": {
            "display_name": "Python 3 (ipykernel)",
            "language": "python",
            "name": "python3"
        }
    },
    "nbformat": 4,
    "nbformat_minor": 2
}
