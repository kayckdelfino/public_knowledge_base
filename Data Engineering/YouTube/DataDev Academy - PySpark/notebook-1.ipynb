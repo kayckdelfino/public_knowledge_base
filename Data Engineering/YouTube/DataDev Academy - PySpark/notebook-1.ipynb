{
 "cells": [
  {
   "cell_type": "markdown",
   "metadata": {},
   "source": [
    "# PySpark YouTube Course - Lesson 01\n",
    "\n",
    "This notebook contains all the materials and notes from the PySpark Course: 'PySpark - Aula 01 - Fundamentos - Tutorial em Português na Prática' by DataDev Academy, available on YouTube. You can find the video [here](https://www.youtube.com/watch?v=ycZZs4371us)."
   ]
  },
  {
   "cell_type": "markdown",
   "metadata": {},
   "source": [
    "## Summary\n",
    "\n",
    "- [PySpark YouTube Course - Lesson 01](#pyspark-youtube-course)\n",
    "  - [Summary](#summary)\n",
    "  - [Importing PySpark](#importing-pyspark)\n",
    "  - [Starting PySpark Session](#starting-pyspark-session)\n",
    "  - [Reading a File](#reading-a-file)\n",
    "  - [Displaying the DataFrame](#displaying-the-dataframe)\n",
    "  - [Checking Column Types](#checking-column-types)\n",
    "  - [Renaming Columns](#renaming-columns)\n",
    "  - [Checking for Null Values](#checking-for-null-values)\n",
    "  - [Selecting Columns](#selecting-columns)\n",
    "    - [Alias](#alias)\n",
    "  - [Organizing Select Statement](#organizing-select-statement)\n",
    "  - [Filtering DataFrame](#filtering-dataframe)\n",
    "    - [AND Condition (&)](#and-condition-)\n",
    "    - [OR Condition (|)](#or-condition-)\n",
    "    - [Combined AND and OR Conditions](#combined-and-and-or-conditions)\n",
    "  - [Creating New Columns](#creating-new-columns)\n",
    "    - [Lit function](#lit-function)\n",
    "    - [Substring function](#substring-function)\n",
    "    - [Concat function](#concat-function)\n",
    "  - [Changing Column Type](#changing-column-type)\n",
    "  - [Challenge: Birth Date Column Transformation](#challenge-birth-date-column-transformation)"
   ]
  },
  {
   "cell_type": "markdown",
   "metadata": {},
   "source": [
    "## Importing PySpark"
   ]
  },
  {
   "cell_type": "code",
   "execution_count": 1,
   "metadata": {},
   "outputs": [],
   "source": [
    "# Importing necessary modules from PySpark\n",
    "from pyspark.sql import SparkSession\n",
    "from pyspark.sql.functions import *\n",
    "from pyspark.sql.types import *"
   ]
  },
  {
   "cell_type": "markdown",
   "metadata": {},
   "source": [
    "## Starting PySpark Session"
   ]
  },
  {
   "cell_type": "code",
   "execution_count": 2,
   "metadata": {},
   "outputs": [],
   "source": [
    "# Creating a Spark session\n",
    "# - master: defines the cluster manager, 'local' means running on a local machine\n",
    "# - appName: sets the name of your application\n",
    "spark = SparkSession.builder \\\n",
    "    .master(\"local\") \\\n",
    "    .appName(\"pyspark-01\") \\\n",
    "    .getOrCreate()"
   ]
  },
  {
   "cell_type": "markdown",
   "metadata": {},
   "source": [
    "## Reading a File"
   ]
  },
  {
   "cell_type": "code",
   "execution_count": 3,
   "metadata": {},
   "outputs": [],
   "source": [
    "# Reading a CSV file into a DataFrame\n",
    "# - path: specifies the location of the file\n",
    "# - header: indicates if the file contains a header row\n",
    "# - inferSchema: automatically infers the data types of the columns\n",
    "df = spark.read.csv(\"./data/wc2018-players.csv\", header=True, inferSchema=True)"
   ]
  },
  {
   "cell_type": "markdown",
   "metadata": {},
   "source": [
    "## Displaying the DataFrame"
   ]
  },
  {
   "cell_type": "code",
   "execution_count": 4,
   "metadata": {},
   "outputs": [
    {
     "name": "stdout",
     "output_type": "stream",
     "text": [
      "+---------+---+----+------------------+----------+----------+--------------------+------+------+\n",
      "|     Team|  #|Pos.| FIFA Popular Name|Birth Date|Shirt Name|                Club|Height|Weight|\n",
      "+---------+---+----+------------------+----------+----------+--------------------+------+------+\n",
      "|Argentina|  3|  DF|TAGLIAFICO Nicolas|31.08.1992|TAGLIAFICO|      AFC Ajax (NED)|   169|    65|\n",
      "|Argentina| 22|  MF|    PAVON Cristian|21.01.1996|     PAVÓN|CA Boca Juniors (...|   169|    65|\n",
      "|Argentina| 15|  MF|    LANZINI Manuel|15.02.1993|   LANZINI|West Ham United F...|   167|    66|\n",
      "|Argentina| 18|  DF|    SALVIO Eduardo|13.07.1990|    SALVIO|    SL Benfica (POR)|   167|    69|\n",
      "|Argentina| 10|  FW|      MESSI Lionel|24.06.1987|     MESSI|  FC Barcelona (ESP)|   170|    72|\n",
      "+---------+---+----+------------------+----------+----------+--------------------+------+------+\n",
      "only showing top 5 rows\n",
      "\n"
     ]
    }
   ],
   "source": [
    "# - show(5): shows the first 5 rows of the DataFrame\n",
    "df.show(5)"
   ]
  },
  {
   "cell_type": "markdown",
   "metadata": {},
   "source": [
    "## Checking Column Types"
   ]
  },
  {
   "cell_type": "code",
   "execution_count": 5,
   "metadata": {},
   "outputs": [
    {
     "name": "stdout",
     "output_type": "stream",
     "text": [
      "root\n",
      " |-- Team: string (nullable = true)\n",
      " |-- #: integer (nullable = true)\n",
      " |-- Pos.: string (nullable = true)\n",
      " |-- FIFA Popular Name: string (nullable = true)\n",
      " |-- Birth Date: string (nullable = true)\n",
      " |-- Shirt Name: string (nullable = true)\n",
      " |-- Club: string (nullable = true)\n",
      " |-- Height: integer (nullable = true)\n",
      " |-- Weight: integer (nullable = true)\n",
      "\n"
     ]
    }
   ],
   "source": [
    "# Checking the column types\n",
    "# - printSchema(): prints the schema of the DataFrame, including column names and data types\n",
    "df.printSchema()"
   ]
  },
  {
   "cell_type": "markdown",
   "metadata": {},
   "source": [
    "## Renaming Columns"
   ]
  },
  {
   "cell_type": "code",
   "execution_count": 6,
   "metadata": {},
   "outputs": [
    {
     "name": "stdout",
     "output_type": "stream",
     "text": [
      "+---------+------+--------+------------------+----------+----------+--------------------+------+------+\n",
      "|     Team|Number|Position| FIFA Popular Name|Birth Date|Shirt Name|                Club|Height|Weight|\n",
      "+---------+------+--------+------------------+----------+----------+--------------------+------+------+\n",
      "|Argentina|     3|      DF|TAGLIAFICO Nicolas|31.08.1992|TAGLIAFICO|      AFC Ajax (NED)|   169|    65|\n",
      "|Argentina|    22|      MF|    PAVON Cristian|21.01.1996|     PAVÓN|CA Boca Juniors (...|   169|    65|\n",
      "|Argentina|    15|      MF|    LANZINI Manuel|15.02.1993|   LANZINI|West Ham United F...|   167|    66|\n",
      "|Argentina|    18|      DF|    SALVIO Eduardo|13.07.1990|    SALVIO|    SL Benfica (POR)|   167|    69|\n",
      "|Argentina|    10|      FW|      MESSI Lionel|24.06.1987|     MESSI|  FC Barcelona (ESP)|   170|    72|\n",
      "+---------+------+--------+------------------+----------+----------+--------------------+------+------+\n",
      "only showing top 5 rows\n",
      "\n"
     ]
    }
   ],
   "source": [
    "# Renaming columns in the DataFrame\n",
    "# - withColumnRenamed(\"oldName\", \"newName\"): renames a column from oldName to newName\n",
    "df = df.withColumnRenamed(\"Pos.\", \"Position\") \\\n",
    "       .withColumnRenamed(\"#\", \"Number\")\n",
    "\n",
    "# Displaying the updated DataFrame to verify changes\n",
    "df.show(5)"
   ]
  },
  {
   "cell_type": "markdown",
   "metadata": {},
   "source": [
    "## Checking for Null Values"
   ]
  },
  {
   "cell_type": "code",
   "execution_count": 7,
   "metadata": {},
   "outputs": [
    {
     "data": {
      "text/plain": [
       "Team                 0\n",
       "Number               0\n",
       "Position             0\n",
       "FIFA Popular Name    0\n",
       "Birth Date           0\n",
       "Shirt Name           0\n",
       "Club                 0\n",
       "Height               0\n",
       "Weight               0\n",
       "dtype: int64"
      ]
     },
     "execution_count": 7,
     "metadata": {},
     "output_type": "execute_result"
    }
   ],
   "source": [
    "# Small dataset\n",
    "# - toPandas(): converts the DataFrame to a Pandas DataFrame\n",
    "# - isna().sum(): counts the number of null values in each column\n",
    "df.toPandas().isna().sum()"
   ]
  },
  {
   "cell_type": "code",
   "execution_count": 8,
   "metadata": {},
   "outputs": [
    {
     "name": "stdout",
     "output_type": "stream",
     "text": [
      "Team 0\n",
      "Number 0\n",
      "Position 0\n",
      "FIFA Popular Name 0\n",
      "Birth Date 0\n",
      "Shirt Name 0\n",
      "Club 0\n",
      "Height 0\n",
      "Weight 0\n"
     ]
    }
   ],
   "source": [
    "# Large dataset\n",
    "# Iterating through each column to count null values in the DataFrame\n",
    "for column in df.columns:\n",
    "    # Filter rows where the column value is null, then count them\n",
    "    null_count = df.filter(col(column).isNull()).count()\n",
    "    print(column, null_count)"
   ]
  },
  {
   "cell_type": "markdown",
   "metadata": {},
   "source": [
    "## Selecting Columns"
   ]
  },
  {
   "cell_type": "code",
   "execution_count": 9,
   "metadata": {},
   "outputs": [
    {
     "name": "stdout",
     "output_type": "stream",
     "text": [
      "+---------+------------------+\n",
      "|     Team| FIFA Popular Name|\n",
      "+---------+------------------+\n",
      "|Argentina|TAGLIAFICO Nicolas|\n",
      "|Argentina|    PAVON Cristian|\n",
      "|Argentina|    LANZINI Manuel|\n",
      "|Argentina|    SALVIO Eduardo|\n",
      "|Argentina|      MESSI Lionel|\n",
      "+---------+------------------+\n",
      "only showing top 5 rows\n",
      "\n"
     ]
    }
   ],
   "source": [
    "# Selecting specific columns from the DataFrame\n",
    "# - select(\"col1\", \"col2\"): selects columns 'Team' and 'FIFA Popular Name' from the DataFrame\n",
    "df.select(\"Team\", \"FIFA Popular Name\").show(5)"
   ]
  },
  {
   "cell_type": "code",
   "execution_count": 10,
   "metadata": {},
   "outputs": [
    {
     "name": "stdout",
     "output_type": "stream",
     "text": [
      "+---------+------------------+\n",
      "|     Team| FIFA Popular Name|\n",
      "+---------+------------------+\n",
      "|Argentina|TAGLIAFICO Nicolas|\n",
      "|Argentina|    PAVON Cristian|\n",
      "|Argentina|    LANZINI Manuel|\n",
      "|Argentina|    SALVIO Eduardo|\n",
      "|Argentina|      MESSI Lionel|\n",
      "+---------+------------------+\n",
      "only showing top 5 rows\n",
      "\n"
     ]
    }
   ],
   "source": [
    "# Selecting specific columns using col() function\n",
    "# - col(\"Team\"): selects the 'Team' column\n",
    "# - col(\"FIFA Popular Name\"): selects the 'FIFA Popular Name' column\n",
    "df.select(col(\"Team\"), col(\"FIFA Popular Name\")).show(5)"
   ]
  },
  {
   "cell_type": "code",
   "execution_count": 11,
   "metadata": {},
   "outputs": [
    {
     "name": "stdout",
     "output_type": "stream",
     "text": [
      "+---------+------------------+\n",
      "|     Team| FIFA Popular Name|\n",
      "+---------+------------------+\n",
      "|Argentina|TAGLIAFICO Nicolas|\n",
      "|Argentina|    PAVON Cristian|\n",
      "|Argentina|    LANZINI Manuel|\n",
      "|Argentina|    SALVIO Eduardo|\n",
      "|Argentina|      MESSI Lionel|\n",
      "+---------+------------------+\n",
      "only showing top 5 rows\n",
      "\n"
     ]
    }
   ],
   "source": [
    "# Selecting specific columns using DataFrame indexing\n",
    "# - df[\"Team\"]: selects the 'Team' column\n",
    "# - df[\"FIFA Popular Name\"]: selects the 'FIFA Popular Name' column\n",
    "df.select(df[\"Team\"], df[\"FIFA Popular Name\"]).show(5)"
   ]
  },
  {
   "cell_type": "markdown",
   "metadata": {},
   "source": [
    "### Alias"
   ]
  },
  {
   "cell_type": "code",
   "execution_count": 12,
   "metadata": {},
   "outputs": [
    {
     "name": "stdout",
     "output_type": "stream",
     "text": [
      "+-------------+\n",
      "|National Team|\n",
      "+-------------+\n",
      "|    Argentina|\n",
      "|    Argentina|\n",
      "|    Argentina|\n",
      "|    Argentina|\n",
      "|    Argentina|\n",
      "+-------------+\n",
      "only showing top 5 rows\n",
      "\n"
     ]
    }
   ],
   "source": [
    "# Selecting a column with an alias\n",
    "# - col(\"Team\").alias(\"National Team\"): selects the 'Team' column and renames it to 'National Team'\n",
    "df.select(col(\"Team\").alias(\"National Team\")).show(5)"
   ]
  },
  {
   "cell_type": "code",
   "execution_count": 13,
   "metadata": {},
   "outputs": [
    {
     "name": "stdout",
     "output_type": "stream",
     "text": [
      "+-------------+\n",
      "|National Team|\n",
      "+-------------+\n",
      "|    Argentina|\n",
      "|    Argentina|\n",
      "|    Argentina|\n",
      "|    Argentina|\n",
      "|    Argentina|\n",
      "+-------------+\n",
      "only showing top 5 rows\n",
      "\n"
     ]
    }
   ],
   "source": [
    "# Selecting a column with an alias using DataFrame indexing\n",
    "# - df[\"Team\"].alias(\"National Team\"): selects the 'Team' column and renames it to 'National Team'\n",
    "df.select(df[\"Team\"].alias(\"National Team\")).show(5)"
   ]
  },
  {
   "cell_type": "markdown",
   "metadata": {},
   "source": [
    "## Organizing Select Statement"
   ]
  },
  {
   "cell_type": "code",
   "execution_count": 14,
   "metadata": {},
   "outputs": [
    {
     "name": "stdout",
     "output_type": "stream",
     "text": [
      "+------------------+------+------+\n",
      "| FIFA Popular Name|Weight|Height|\n",
      "+------------------+------+------+\n",
      "|TAGLIAFICO Nicolas|    65|   169|\n",
      "|    PAVON Cristian|    65|   169|\n",
      "|    LANZINI Manuel|    66|   167|\n",
      "|    SALVIO Eduardo|    69|   167|\n",
      "|      MESSI Lionel|    72|   170|\n",
      "+------------------+------+------+\n",
      "only showing top 5 rows\n",
      "\n"
     ]
    }
   ],
   "source": [
    "# Selecting and organizing specific columns in the DataFrame\n",
    "df.select(\"FIFA Popular Name\", \"Weight\", \"Height\").show(5)"
   ]
  },
  {
   "cell_type": "markdown",
   "metadata": {},
   "source": [
    "## Filtering DataFrame"
   ]
  },
  {
   "cell_type": "code",
   "execution_count": 15,
   "metadata": {},
   "outputs": [
    {
     "name": "stdout",
     "output_type": "stream",
     "text": [
      "+------+------+--------+-----------------+----------+-----------+--------------------+------+------+\n",
      "|  Team|Number|Position|FIFA Popular Name|Birth Date| Shirt Name|                Club|Height|Weight|\n",
      "+------+------+--------+-----------------+----------+-----------+--------------------+------+------+\n",
      "|Brazil|    18|      MF|             FRED|05.03.1993|       FRED|FC Shakhtar Donet...|   169|    64|\n",
      "|Brazil|    21|      FW|           TAISON|13.01.1988|     TAISON|FC Shakhtar Donet...|   172|    64|\n",
      "|Brazil|    17|      MF|      FERNANDINHO|04.05.1985|FERNANDINHO|Manchester City F...|   179|    67|\n",
      "|Brazil|    22|      DF|           FAGNER|11.06.1989|     FAGNER|SC Corinthians (BRA)|   168|    67|\n",
      "|Brazil|    10|      FW|           NEYMAR|05.02.1992|  NEYMAR JR|Paris Saint-Germa...|   175|    68|\n",
      "|Brazil|    11|      MF|PHILIPPE COUTINHO|12.06.1992|P. COUTINHO|  FC Barcelona (ESP)|   172|    68|\n",
      "|Brazil|     7|      FW|    DOUGLAS COSTA|14.09.1990|   D. COSTA|   Juventus FC (ITA)|   182|    70|\n",
      "|Brazil|     6|      DF|      FILIPE LUIS|09.08.1985|FILIPE LUIS|Atletico Madrid (...|   182|    73|\n",
      "|Brazil|     9|      FW|    GABRIEL JESUS|03.04.1997|   G. JESUS|Manchester City F...|   175|    73|\n",
      "|Brazil|    13|      DF|       MARQUINHOS|14.05.1994| MARQUINHOS|Paris Saint-Germa...|   183|    75|\n",
      "+------+------+--------+-----------------+----------+-----------+--------------------+------+------+\n",
      "only showing top 10 rows\n",
      "\n"
     ]
    }
   ],
   "source": [
    "# Filtering the DataFrame based on a condition\n",
    "df.filter(\"Team = 'Brazil'\").show(10)"
   ]
  },
  {
   "cell_type": "code",
   "execution_count": 16,
   "metadata": {},
   "outputs": [
    {
     "name": "stdout",
     "output_type": "stream",
     "text": [
      "+------+------+--------+-----------------+----------+----------+--------------------+------+------+\n",
      "|  Team|Number|Position|FIFA Popular Name|Birth Date|Shirt Name|                Club|Height|Weight|\n",
      "+------+------+--------+-----------------+----------+----------+--------------------+------+------+\n",
      "|Brazil|    18|      MF|             FRED|05.03.1993|      FRED|FC Shakhtar Donet...|   169|    64|\n",
      "+------+------+--------+-----------------+----------+----------+--------------------+------+------+\n",
      "\n"
     ]
    }
   ],
   "source": [
    "# Filtering the DataFrame based on a column condition using col() function\n",
    "df.filter(col(\"FIFA Popular Name\") == \"FRED\").show()"
   ]
  },
  {
   "cell_type": "code",
   "execution_count": 17,
   "metadata": {},
   "outputs": [
    {
     "name": "stdout",
     "output_type": "stream",
     "text": [
      "+---------+------+--------+------------------+----------+----------+--------------------+------+------+\n",
      "|     Team|Number|Position| FIFA Popular Name|Birth Date|Shirt Name|                Club|Height|Weight|\n",
      "+---------+------+--------+------------------+----------+----------+--------------------+------+------+\n",
      "|Argentina|     3|      DF|TAGLIAFICO Nicolas|31.08.1992|TAGLIAFICO|      AFC Ajax (NED)|   169|    65|\n",
      "|Argentina|    22|      MF|    PAVON Cristian|21.01.1996|     PAVÓN|CA Boca Juniors (...|   169|    65|\n",
      "|Argentina|    15|      MF|    LANZINI Manuel|15.02.1993|   LANZINI|West Ham United F...|   167|    66|\n",
      "|Argentina|    18|      DF|    SALVIO Eduardo|13.07.1990|    SALVIO|    SL Benfica (POR)|   167|    69|\n",
      "|Argentina|    10|      FW|      MESSI Lionel|24.06.1987|     MESSI|  FC Barcelona (ESP)|   170|    72|\n",
      "+---------+------+--------+------------------+----------+----------+--------------------+------+------+\n",
      "only showing top 5 rows\n",
      "\n"
     ]
    }
   ],
   "source": [
    "# Displaying the DataFrame\n",
    "df.show(5)"
   ]
  },
  {
   "cell_type": "markdown",
   "metadata": {},
   "source": [
    "### AND Condition (&)"
   ]
  },
  {
   "cell_type": "code",
   "execution_count": 18,
   "metadata": {},
   "outputs": [
    {
     "name": "stdout",
     "output_type": "stream",
     "text": [
      "+---------+------+--------+-----------------+----------+----------+--------------------+------+------+\n",
      "|     Team|Number|Position|FIFA Popular Name|Birth Date|Shirt Name|                Club|Height|Weight|\n",
      "+---------+------+--------+-----------------+----------+----------+--------------------+------+------+\n",
      "|Argentina|     6|      DF|   FAZIO Federico|17.03.1987|     FAZIO|       AS Roma (ITA)|   199|    85|\n",
      "|Argentina|    12|      GK|    ARMANI Franco|16.10.1986|    ARMANI|CA River Plate (ARG)|   189|    85|\n",
      "|Argentina|     1|      GK|    GUZMAN Nahuel|10.02.1986|    GUZMÁN|   Tigres UANL (MEX)|   192|    90|\n",
      "+---------+------+--------+-----------------+----------+----------+--------------------+------+------+\n",
      "\n"
     ]
    }
   ],
   "source": [
    "# Filtering the DataFrame based on multiple conditions using logical AND (&) operator\n",
    "df.filter((col(\"Team\") == \"Argentina\") & (col(\"Height\") > 180) & (col(\"Weight\") >= 85)).show(5)"
   ]
  },
  {
   "cell_type": "code",
   "execution_count": 19,
   "metadata": {},
   "outputs": [
    {
     "name": "stdout",
     "output_type": "stream",
     "text": [
      "+------+------+--------+-----------------+----------+----------+--------------------+------+------+\n",
      "|  Team|Number|Position|FIFA Popular Name|Birth Date|Shirt Name|                Club|Height|Weight|\n",
      "+------+------+--------+-----------------+----------+----------+--------------------+------+------+\n",
      "|Brazil|    21|      FW|           TAISON|13.01.1988|    TAISON|FC Shakhtar Donet...|   172|    64|\n",
      "|Brazil|    22|      DF|           FAGNER|11.06.1989|    FAGNER|SC Corinthians (BRA)|   168|    67|\n",
      "|Brazil|    23|      GK|          EDERSON|17.08.1993|   EDERSON|Manchester City F...|   188|    86|\n",
      "+------+------+--------+-----------------+----------+----------+--------------------+------+------+\n",
      "\n"
     ]
    }
   ],
   "source": [
    "# Filtering the DataFrame with chained filter operations\n",
    "df.filter(col(\"Team\") == \"Brazil\").filter(col(\"Number\") > 20).show(5)"
   ]
  },
  {
   "cell_type": "markdown",
   "metadata": {},
   "source": [
    "### OR Condition (|)"
   ]
  },
  {
   "cell_type": "code",
   "execution_count": 20,
   "metadata": {},
   "outputs": [
    {
     "name": "stdout",
     "output_type": "stream",
     "text": [
      "+---------+------+--------+-----------------+----------+----------+------------------+------+------+\n",
      "|     Team|Number|Position|FIFA Popular Name|Birth Date|Shirt Name|              Club|Height|Weight|\n",
      "+---------+------+--------+-----------------+----------+----------+------------------+------+------+\n",
      "|Argentina|    18|      DF|   SALVIO Eduardo|13.07.1990|    SALVIO|  SL Benfica (POR)|   167|    69|\n",
      "|Argentina|    10|      FW|     MESSI Lionel|24.06.1987|     MESSI|FC Barcelona (ESP)|   170|    72|\n",
      "|Argentina|     6|      DF|   FAZIO Federico|17.03.1987|     FAZIO|     AS Roma (ITA)|   199|    85|\n",
      "|  Belgium|     1|      GK| COURTOIS Thibaut|11.05.1992|  COURTOIS|  Chelsea FC (ENG)|   199|    91|\n",
      "+---------+------+--------+-----------------+----------+----------+------------------+------+------+\n",
      "\n"
     ]
    }
   ],
   "source": [
    "# Filtering the DataFrame based on multiple OR conditions using logical OR (|) operator\n",
    "df.filter((col(\"FIFA Popular Name\") == \"MESSI Lionel\") | \n",
    "          (col(\"FIFA Popular Name\") == \"SALVIO Eduardo\") | \n",
    "          (col(\"Height\") == 199)).show(5)"
   ]
  },
  {
   "cell_type": "markdown",
   "metadata": {},
   "source": [
    "### Combined AND and OR Conditions"
   ]
  },
  {
   "cell_type": "code",
   "execution_count": 21,
   "metadata": {},
   "outputs": [
    {
     "name": "stdout",
     "output_type": "stream",
     "text": [
      "+-------+------+--------+-----------------+----------+-----------+--------------------+------+------+\n",
      "|   Team|Number|Position|FIFA Popular Name|Birth Date| Shirt Name|                Club|Height|Weight|\n",
      "+-------+------+--------+-----------------+----------+-----------+--------------------+------+------+\n",
      "|Belgium|     1|      GK| COURTOIS Thibaut|11.05.1992|   COURTOIS|    Chelsea FC (ENG)|   199|    91|\n",
      "| Brazil|    22|      DF|           FAGNER|11.06.1989|     FAGNER|SC Corinthians (BRA)|   168|    67|\n",
      "| Brazil|     6|      DF|      FILIPE LUIS|09.08.1985|FILIPE LUIS|Atletico Madrid (...|   182|    73|\n",
      "| Brazil|    13|      DF|       MARQUINHOS|14.05.1994| MARQUINHOS|Paris Saint-Germa...|   183|    75|\n",
      "| Brazil|     3|      DF|          MIRANDA|07.09.1984|    MIRANDA|FC Internazionale...|   186|    78|\n",
      "| Brazil|    14|      DF|           DANILO|15.07.1991|     DANILO|Manchester City F...|   184|    78|\n",
      "| Brazil|     2|      DF|     THIAGO SILVA|22.09.1984|   T. SILVA|Paris Saint-Germa...|   183|    79|\n",
      "| Brazil|    12|      DF|          MARCELO|12.05.1988|    MARCELO|Real Madrid CF (ESP)|   174|    80|\n",
      "| Brazil|     4|      DF|    PEDRO GEROMEL|21.09.1985|    GEROMEL|   Grêmio FBPA (BRA)|   190|    84|\n",
      "+-------+------+--------+-----------------+----------+-----------+--------------------+------+------+\n",
      "\n"
     ]
    }
   ],
   "source": [
    "# Filtering the DataFrame with combined AND (&) and OR (|) conditions\n",
    "df.filter(((col(\"Team\") == \"Brazil\") & (col(\"Position\") == \"DF\")) |\n",
    "          ((col(\"Height\") == 199) & (col(\"Team\") == \"Belgium\"))).show()"
   ]
  },
  {
   "cell_type": "markdown",
   "metadata": {},
   "source": [
    "## Creating New Columns"
   ]
  },
  {
   "cell_type": "markdown",
   "metadata": {},
   "source": [
    "### Lit function"
   ]
  },
  {
   "cell_type": "code",
   "execution_count": 22,
   "metadata": {},
   "outputs": [
    {
     "name": "stdout",
     "output_type": "stream",
     "text": [
      "+---------+------+--------+------------------+----------+----------+--------------------+------+------+---------+\n",
      "|     Team|Number|Position| FIFA Popular Name|Birth Date|Shirt Name|                Club|Height|Weight|World Cup|\n",
      "+---------+------+--------+------------------+----------+----------+--------------------+------+------+---------+\n",
      "|Argentina|     3|      DF|TAGLIAFICO Nicolas|31.08.1992|TAGLIAFICO|      AFC Ajax (NED)|   169|    65|     2018|\n",
      "|Argentina|    22|      MF|    PAVON Cristian|21.01.1996|     PAVÓN|CA Boca Juniors (...|   169|    65|     2018|\n",
      "|Argentina|    15|      MF|    LANZINI Manuel|15.02.1993|   LANZINI|West Ham United F...|   167|    66|     2018|\n",
      "|Argentina|    18|      DF|    SALVIO Eduardo|13.07.1990|    SALVIO|    SL Benfica (POR)|   167|    69|     2018|\n",
      "|Argentina|    10|      FW|      MESSI Lionel|24.06.1987|     MESSI|  FC Barcelona (ESP)|   170|    72|     2018|\n",
      "+---------+------+--------+------------------+----------+----------+--------------------+------+------+---------+\n",
      "only showing top 5 rows\n",
      "\n"
     ]
    }
   ],
   "source": [
    "# Creating new columns in the DataFrame using lit()\n",
    "df.withColumn(\"World Cup\", lit(2018)).show(5)"
   ]
  },
  {
   "cell_type": "code",
   "execution_count": 23,
   "metadata": {},
   "outputs": [
    {
     "name": "stdout",
     "output_type": "stream",
     "text": [
      "+---------+------+--------+------------------+----------+----------+--------------------+------+------+----------+\n",
      "|     Team|Number|Position| FIFA Popular Name|Birth Date|Shirt Name|                Club|Height|Weight|New Column|\n",
      "+---------+------+--------+------------------+----------+----------+--------------------+------+------+----------+\n",
      "|Argentina|     3|      DF|TAGLIAFICO Nicolas|31.08.1992|TAGLIAFICO|      AFC Ajax (NED)|   169|    65|       104|\n",
      "|Argentina|    22|      MF|    PAVON Cristian|21.01.1996|     PAVÓN|CA Boca Juniors (...|   169|    65|       104|\n",
      "|Argentina|    15|      MF|    LANZINI Manuel|15.02.1993|   LANZINI|West Ham United F...|   167|    66|       101|\n",
      "|Argentina|    18|      DF|    SALVIO Eduardo|13.07.1990|    SALVIO|    SL Benfica (POR)|   167|    69|        98|\n",
      "|Argentina|    10|      FW|      MESSI Lionel|24.06.1987|     MESSI|  FC Barcelona (ESP)|   170|    72|        98|\n",
      "+---------+------+--------+------------------+----------+----------+--------------------+------+------+----------+\n",
      "only showing top 5 rows\n",
      "\n"
     ]
    }
   ],
   "source": [
    "# Creating a new column in the DataFrame with a computed value using lit() and column operations\n",
    "df.withColumn(\"New Column\", lit(col(\"Height\") - col(\"Weight\"))).show(5)"
   ]
  },
  {
   "cell_type": "markdown",
   "metadata": {},
   "source": [
    "### Substring function"
   ]
  },
  {
   "cell_type": "code",
   "execution_count": 24,
   "metadata": {},
   "outputs": [
    {
     "name": "stdout",
     "output_type": "stream",
     "text": [
      "+---------+------+--------+------------------+----------+----------+--------------------+------+------+---+\n",
      "|     Team|Number|Position| FIFA Popular Name|Birth Date|Shirt Name|                Club|Height|Weight|Sub|\n",
      "+---------+------+--------+------------------+----------+----------+--------------------+------+------+---+\n",
      "|Argentina|     3|      DF|TAGLIAFICO Nicolas|31.08.1992|TAGLIAFICO|      AFC Ajax (NED)|   169|    65|Arg|\n",
      "|Argentina|    22|      MF|    PAVON Cristian|21.01.1996|     PAVÓN|CA Boca Juniors (...|   169|    65|Arg|\n",
      "|Argentina|    15|      MF|    LANZINI Manuel|15.02.1993|   LANZINI|West Ham United F...|   167|    66|Arg|\n",
      "|Argentina|    18|      DF|    SALVIO Eduardo|13.07.1990|    SALVIO|    SL Benfica (POR)|   167|    69|Arg|\n",
      "|Argentina|    10|      FW|      MESSI Lionel|24.06.1987|     MESSI|  FC Barcelona (ESP)|   170|    72|Arg|\n",
      "+---------+------+--------+------------------+----------+----------+--------------------+------+------+---+\n",
      "only showing top 5 rows\n",
      "\n"
     ]
    }
   ],
   "source": [
    "# Creating a conditional column in the DataFrame using substring()\n",
    "df.withColumn(\"Sub\", substring(col(\"Team\"), 1, 3)).show(5)"
   ]
  },
  {
   "cell_type": "code",
   "execution_count": 25,
   "metadata": {},
   "outputs": [
    {
     "name": "stdout",
     "output_type": "stream",
     "text": [
      "+---------+------+--------+------------------+----------+----------+--------------------+------+------+---+\n",
      "|     Team|Number|Position| FIFA Popular Name|Birth Date|Shirt Name|                Club|Height|Weight|Sub|\n",
      "+---------+------+--------+------------------+----------+----------+--------------------+------+------+---+\n",
      "|Argentina|     3|      DF|TAGLIAFICO Nicolas|31.08.1992|TAGLIAFICO|      AFC Ajax (NED)|   169|    65|ina|\n",
      "|Argentina|    22|      MF|    PAVON Cristian|21.01.1996|     PAVÓN|CA Boca Juniors (...|   169|    65|ina|\n",
      "|Argentina|    15|      MF|    LANZINI Manuel|15.02.1993|   LANZINI|West Ham United F...|   167|    66|ina|\n",
      "|Argentina|    18|      DF|    SALVIO Eduardo|13.07.1990|    SALVIO|    SL Benfica (POR)|   167|    69|ina|\n",
      "|Argentina|    10|      FW|      MESSI Lionel|24.06.1987|     MESSI|  FC Barcelona (ESP)|   170|    72|ina|\n",
      "+---------+------+--------+------------------+----------+----------+--------------------+------+------+---+\n",
      "only showing top 5 rows\n",
      "\n"
     ]
    }
   ],
   "source": [
    "# Creating a conditional column in the DataFrame using substring()\n",
    "df.withColumn(\"Sub\", substring(col(\"Team\"), -3, 3)).show(5)"
   ]
  },
  {
   "cell_type": "code",
   "execution_count": 26,
   "metadata": {},
   "outputs": [
    {
     "name": "stdout",
     "output_type": "stream",
     "text": [
      "+---------+------+--------+------------------+----------+----------+--------------------+------+------+----+\n",
      "|     Team|Number|Position| FIFA Popular Name|Birth Date|Shirt Name|                Club|Height|Weight|Year|\n",
      "+---------+------+--------+------------------+----------+----------+--------------------+------+------+----+\n",
      "|Argentina|     3|      DF|TAGLIAFICO Nicolas|31.08.1992|TAGLIAFICO|      AFC Ajax (NED)|   169|    65|1992|\n",
      "|Argentina|    22|      MF|    PAVON Cristian|21.01.1996|     PAVÓN|CA Boca Juniors (...|   169|    65|1996|\n",
      "|Argentina|    15|      MF|    LANZINI Manuel|15.02.1993|   LANZINI|West Ham United F...|   167|    66|1993|\n",
      "|Argentina|    18|      DF|    SALVIO Eduardo|13.07.1990|    SALVIO|    SL Benfica (POR)|   167|    69|1990|\n",
      "|Argentina|    10|      FW|      MESSI Lionel|24.06.1987|     MESSI|  FC Barcelona (ESP)|   170|    72|1987|\n",
      "+---------+------+--------+------------------+----------+----------+--------------------+------+------+----+\n",
      "only showing top 5 rows\n",
      "\n"
     ]
    }
   ],
   "source": [
    "# Creating a new column 'Year' in the DataFrame using the substring function\n",
    "# - substring(col(\"Birth Date\"), -4, 4): extracts the last 4 characters (year) from the 'Birth Date' column\n",
    "df = df.withColumn(\"Year\", substring(col(\"Birth Date\"), -4, 4))\n",
    "\n",
    "# Displaying the DataFrame\n",
    "df.show(5)"
   ]
  },
  {
   "cell_type": "markdown",
   "metadata": {},
   "source": [
    "### Concat function"
   ]
  },
  {
   "cell_type": "code",
   "execution_count": 27,
   "metadata": {},
   "outputs": [
    {
     "name": "stdout",
     "output_type": "stream",
     "text": [
      "+---------+------+--------+------------------+----------+----------+--------------------+------+------+----+--------------------+\n",
      "|     Team|Number|Position| FIFA Popular Name|Birth Date|Shirt Name|                Club|Height|Weight|Year|              Concat|\n",
      "+---------+------+--------+------------------+----------+----------+--------------------+------+------+----+--------------------+\n",
      "|Argentina|     3|      DF|TAGLIAFICO Nicolas|31.08.1992|TAGLIAFICO|      AFC Ajax (NED)|   169|    65|1992|ArgentinaTAGLIAFI...|\n",
      "|Argentina|    22|      MF|    PAVON Cristian|21.01.1996|     PAVÓN|CA Boca Juniors (...|   169|    65|1996|ArgentinaPAVON Cr...|\n",
      "|Argentina|    15|      MF|    LANZINI Manuel|15.02.1993|   LANZINI|West Ham United F...|   167|    66|1993|ArgentinaLANZINI ...|\n",
      "|Argentina|    18|      DF|    SALVIO Eduardo|13.07.1990|    SALVIO|    SL Benfica (POR)|   167|    69|1990|ArgentinaSALVIO E...|\n",
      "|Argentina|    10|      FW|      MESSI Lionel|24.06.1987|     MESSI|  FC Barcelona (ESP)|   170|    72|1987|ArgentinaMESSI Li...|\n",
      "+---------+------+--------+------------------+----------+----------+--------------------+------+------+----+--------------------+\n",
      "only showing top 5 rows\n",
      "\n"
     ]
    }
   ],
   "source": [
    "# Creating a conditional column in the DataFrame using concat()\n",
    "# - concat(col(\"Team\"), col(\"FIFA Popular Name\")): concatenates 'Team' and 'FIFA Popular Name' columns\n",
    "df.withColumn(\"Concat\", concat(col(\"Team\"), col(\"FIFA Popular Name\"))).show(5)"
   ]
  },
  {
   "cell_type": "code",
   "execution_count": 28,
   "metadata": {},
   "outputs": [
    {
     "name": "stdout",
     "output_type": "stream",
     "text": [
      "+---------+------+--------+------------------+----------+----------+--------------------+------+------+----+-------------------+\n",
      "|     Team|Number|Position| FIFA Popular Name|Birth Date|Shirt Name|                Club|Height|Weight|Year|             Concat|\n",
      "+---------+------+--------+------------------+----------+----------+--------------------+------+------+----+-------------------+\n",
      "|Argentina|     3|      DF|TAGLIAFICO Nicolas|31.08.1992|TAGLIAFICO|      AFC Ajax (NED)|   169|    65|1992| Argentina - 3 - DF|\n",
      "|Argentina|    22|      MF|    PAVON Cristian|21.01.1996|     PAVÓN|CA Boca Juniors (...|   169|    65|1996|Argentina - 22 - MF|\n",
      "|Argentina|    15|      MF|    LANZINI Manuel|15.02.1993|   LANZINI|West Ham United F...|   167|    66|1993|Argentina - 15 - MF|\n",
      "|Argentina|    18|      DF|    SALVIO Eduardo|13.07.1990|    SALVIO|    SL Benfica (POR)|   167|    69|1990|Argentina - 18 - DF|\n",
      "|Argentina|    10|      FW|      MESSI Lionel|24.06.1987|     MESSI|  FC Barcelona (ESP)|   170|    72|1987|Argentina - 10 - FW|\n",
      "+---------+------+--------+------------------+----------+----------+--------------------+------+------+----+-------------------+\n",
      "only showing top 5 rows\n",
      "\n"
     ]
    }
   ],
   "source": [
    "# Creating a conditional column in the DataFrame using concat_ws()\n",
    "# - concat_ws(\" - \", col(\"Team\"), col(\"Number\"), col(\"Position\")): concatenates 'Team', 'Number', and 'Position' columns with a separator \"-\"\n",
    "df.withColumn(\"Concat\", concat_ws(\" - \", col(\"Team\"), col(\"Number\"), col(\"Position\"))).show(5)"
   ]
  },
  {
   "cell_type": "markdown",
   "metadata": {},
   "source": [
    "## Changing Column Type"
   ]
  },
  {
   "cell_type": "code",
   "execution_count": 29,
   "metadata": {},
   "outputs": [
    {
     "name": "stdout",
     "output_type": "stream",
     "text": [
      "+---------+------+--------+------------------+----------+----------+--------------------+------+------+----+\n",
      "|     Team|Number|Position| FIFA Popular Name|Birth Date|Shirt Name|                Club|Height|Weight|Year|\n",
      "+---------+------+--------+------------------+----------+----------+--------------------+------+------+----+\n",
      "|Argentina|     3|      DF|TAGLIAFICO Nicolas|31.08.1992|TAGLIAFICO|      AFC Ajax (NED)|   169|    65|1992|\n",
      "|Argentina|    22|      MF|    PAVON Cristian|21.01.1996|     PAVÓN|CA Boca Juniors (...|   169|    65|1996|\n",
      "|Argentina|    15|      MF|    LANZINI Manuel|15.02.1993|   LANZINI|West Ham United F...|   167|    66|1993|\n",
      "|Argentina|    18|      DF|    SALVIO Eduardo|13.07.1990|    SALVIO|    SL Benfica (POR)|   167|    69|1990|\n",
      "|Argentina|    10|      FW|      MESSI Lionel|24.06.1987|     MESSI|  FC Barcelona (ESP)|   170|    72|1987|\n",
      "+---------+------+--------+------------------+----------+----------+--------------------+------+------+----+\n",
      "only showing top 5 rows\n",
      "\n"
     ]
    }
   ],
   "source": [
    "# Displaying the DataFrame\n",
    "df.show(5)"
   ]
  },
  {
   "cell_type": "code",
   "execution_count": 30,
   "metadata": {},
   "outputs": [
    {
     "name": "stdout",
     "output_type": "stream",
     "text": [
      "root\n",
      " |-- Team: string (nullable = true)\n",
      " |-- Number: integer (nullable = true)\n",
      " |-- Position: string (nullable = true)\n",
      " |-- FIFA Popular Name: string (nullable = true)\n",
      " |-- Birth Date: string (nullable = true)\n",
      " |-- Shirt Name: string (nullable = true)\n",
      " |-- Club: string (nullable = true)\n",
      " |-- Height: integer (nullable = true)\n",
      " |-- Weight: integer (nullable = true)\n",
      " |-- Year: string (nullable = true)\n",
      "\n"
     ]
    }
   ],
   "source": [
    "# Checking the column types\n",
    "df.printSchema()"
   ]
  },
  {
   "cell_type": "code",
   "execution_count": 31,
   "metadata": {},
   "outputs": [
    {
     "name": "stdout",
     "output_type": "stream",
     "text": [
      "root\n",
      " |-- Team: string (nullable = true)\n",
      " |-- Number: integer (nullable = true)\n",
      " |-- Position: string (nullable = true)\n",
      " |-- FIFA Popular Name: string (nullable = true)\n",
      " |-- Birth Date: string (nullable = true)\n",
      " |-- Shirt Name: string (nullable = true)\n",
      " |-- Club: string (nullable = true)\n",
      " |-- Height: integer (nullable = true)\n",
      " |-- Weight: integer (nullable = true)\n",
      " |-- Year: integer (nullable = true)\n",
      "\n"
     ]
    }
   ],
   "source": [
    "# Changing the column type in the DataFrame\n",
    "# - col(\"Year\").cast(IntegerType()): casts the 'Year' column to IntegerType\n",
    "df = df.withColumn(\"Year\", col(\"Year\").cast(IntegerType()))\n",
    "\n",
    "# Checking the column types\n",
    "df.printSchema()"
   ]
  },
  {
   "cell_type": "markdown",
   "metadata": {},
   "source": [
    "## Challenge: Birth Date Column Transformation"
   ]
  },
  {
   "cell_type": "code",
   "execution_count": 32,
   "metadata": {},
   "outputs": [
    {
     "name": "stdout",
     "output_type": "stream",
     "text": [
      "+---------+------+--------+------------------+----------+----------+--------------------+------+------+----+\n",
      "|     Team|Number|Position| FIFA Popular Name|Birth Date|Shirt Name|                Club|Height|Weight|Year|\n",
      "+---------+------+--------+------------------+----------+----------+--------------------+------+------+----+\n",
      "|Argentina|     3|      DF|TAGLIAFICO Nicolas|31.08.1992|TAGLIAFICO|      AFC Ajax (NED)|   169|    65|1992|\n",
      "|Argentina|    22|      MF|    PAVON Cristian|21.01.1996|     PAVÓN|CA Boca Juniors (...|   169|    65|1996|\n",
      "|Argentina|    15|      MF|    LANZINI Manuel|15.02.1993|   LANZINI|West Ham United F...|   167|    66|1993|\n",
      "|Argentina|    18|      DF|    SALVIO Eduardo|13.07.1990|    SALVIO|    SL Benfica (POR)|   167|    69|1990|\n",
      "|Argentina|    10|      FW|      MESSI Lionel|24.06.1987|     MESSI|  FC Barcelona (ESP)|   170|    72|1987|\n",
      "+---------+------+--------+------------------+----------+----------+--------------------+------+------+----+\n",
      "only showing top 5 rows\n",
      "\n"
     ]
    }
   ],
   "source": [
    "# Displaying the DataFrame\n",
    "df.show(5)"
   ]
  },
  {
   "cell_type": "code",
   "execution_count": 33,
   "metadata": {},
   "outputs": [
    {
     "name": "stdout",
     "output_type": "stream",
     "text": [
      "+---------+------+--------+------------------+----------+----------+--------------------+------+------+----+---+-----+----------+\n",
      "|     Team|Number|Position| FIFA Popular Name|Birth Date|Shirt Name|                Club|Height|Weight|Year|Day|Month| BirthDate|\n",
      "+---------+------+--------+------------------+----------+----------+--------------------+------+------+----+---+-----+----------+\n",
      "|Argentina|     3|      DF|TAGLIAFICO Nicolas|31.08.1992|TAGLIAFICO|      AFC Ajax (NED)|   169|    65|1992| 31|    8|1992-08-31|\n",
      "|Argentina|    22|      MF|    PAVON Cristian|21.01.1996|     PAVÓN|CA Boca Juniors (...|   169|    65|1996| 21|    1|1996-01-21|\n",
      "|Argentina|    15|      MF|    LANZINI Manuel|15.02.1993|   LANZINI|West Ham United F...|   167|    66|1993| 15|    2|1993-02-15|\n",
      "|Argentina|    18|      DF|    SALVIO Eduardo|13.07.1990|    SALVIO|    SL Benfica (POR)|   167|    69|1990| 13|    7|1990-07-13|\n",
      "|Argentina|    10|      FW|      MESSI Lionel|24.06.1987|     MESSI|  FC Barcelona (ESP)|   170|    72|1987| 24|    6|1987-06-24|\n",
      "+---------+------+--------+------------------+----------+----------+--------------------+------+------+----+---+-----+----------+\n",
      "only showing top 5 rows\n",
      "\n"
     ]
    }
   ],
   "source": [
    "# Transforming the 'Birth Date' column into DateType (YYYY-MM-DD format)\n",
    "\n",
    "# Splitting 'Birth Date' column into Day, Month, and Year columns\n",
    "df = df.withColumn(\"Day\", split(col(\"Birth Date\"), \"\\\\.\").getItem(0).cast(IntegerType()))\n",
    "df = df.withColumn(\"Month\", split(col(\"Birth Date\"), \"\\\\.\").getItem(1).cast(IntegerType()))\n",
    "df = df.withColumn(\"Year\", split(col(\"Birth Date\"), \"\\\\.\").getItem(2).cast(IntegerType()))\n",
    "\n",
    "# Creating a new column 'BirthDate' with DateType format\n",
    "df = df.withColumn(\"BirthDate\", concat_ws(\"-\", col(\"Year\"), col(\"Month\"), col(\"Day\")).cast(\"date\"))\n",
    "\n",
    "# Displaying the updated DataFrame to verify changes\n",
    "df.show(5)"
   ]
  },
  {
   "cell_type": "code",
   "execution_count": 34,
   "metadata": {},
   "outputs": [
    {
     "name": "stdout",
     "output_type": "stream",
     "text": [
      "+---------+------+--------+------------------+----------+----------+--------------------+------+------+----+---+-----+----------+----------+\n",
      "|     Team|Number|Position| FIFA Popular Name|Birth Date|Shirt Name|                Club|Height|Weight|Year|Day|Month| BirthDate|     Birth|\n",
      "+---------+------+--------+------------------+----------+----------+--------------------+------+------+----+---+-----+----------+----------+\n",
      "|Argentina|     3|      DF|TAGLIAFICO Nicolas|31.08.1992|TAGLIAFICO|      AFC Ajax (NED)|   169|    65|1992| 31|    8|1992-08-31|1992-08-31|\n",
      "|Argentina|    22|      MF|    PAVON Cristian|21.01.1996|     PAVÓN|CA Boca Juniors (...|   169|    65|1996| 21|    1|1996-01-21|1996-01-21|\n",
      "|Argentina|    15|      MF|    LANZINI Manuel|15.02.1993|   LANZINI|West Ham United F...|   167|    66|1993| 15|    2|1993-02-15|1993-02-15|\n",
      "|Argentina|    18|      DF|    SALVIO Eduardo|13.07.1990|    SALVIO|    SL Benfica (POR)|   167|    69|1990| 13|    7|1990-07-13|1990-07-13|\n",
      "|Argentina|    10|      FW|      MESSI Lionel|24.06.1987|     MESSI|  FC Barcelona (ESP)|   170|    72|1987| 24|    6|1987-06-24|1987-06-24|\n",
      "+---------+------+--------+------------------+----------+----------+--------------------+------+------+----+---+-----+----------+----------+\n",
      "only showing top 5 rows\n",
      "\n"
     ]
    }
   ],
   "source": [
    "# Creating a new column 'Birth' with DateType format\n",
    "df = df.withColumn(\"Birth\", concat_ws(\"-\", col(\"Year\"), col(\"Month\"), col(\"Day\")).cast(DateType()))\n",
    "\n",
    "# Displaying the updated DataFrame to verify changes\n",
    "df.show(5)"
   ]
  },
  {
   "cell_type": "code",
   "execution_count": 35,
   "metadata": {},
   "outputs": [
    {
     "name": "stdout",
     "output_type": "stream",
     "text": [
      "root\n",
      " |-- Team: string (nullable = true)\n",
      " |-- Number: integer (nullable = true)\n",
      " |-- Position: string (nullable = true)\n",
      " |-- FIFA Popular Name: string (nullable = true)\n",
      " |-- Birth Date: string (nullable = true)\n",
      " |-- Shirt Name: string (nullable = true)\n",
      " |-- Club: string (nullable = true)\n",
      " |-- Height: integer (nullable = true)\n",
      " |-- Weight: integer (nullable = true)\n",
      " |-- Year: integer (nullable = true)\n",
      " |-- Day: integer (nullable = true)\n",
      " |-- Month: integer (nullable = true)\n",
      " |-- BirthDate: date (nullable = true)\n",
      " |-- Birth: date (nullable = true)\n",
      "\n"
     ]
    }
   ],
   "source": [
    "# Checking the column types\n",
    "df.printSchema()"
   ]
  }
 ],
 "metadata": {
  "kernelspec": {
   "display_name": "Python 3",
   "language": "python",
   "name": "python3"
  },
  "language_info": {
   "codemirror_mode": {
    "name": "ipython",
    "version": 3
   },
   "file_extension": ".py",
   "mimetype": "text/x-python",
   "name": "python",
   "nbconvert_exporter": "python",
   "pygments_lexer": "ipython3",
   "version": "3.12.3"
  }
 },
 "nbformat": 4,
 "nbformat_minor": 2
}
