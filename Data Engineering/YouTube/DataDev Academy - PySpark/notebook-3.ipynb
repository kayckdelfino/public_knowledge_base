{
 "cells": [
  {
   "cell_type": "markdown",
   "metadata": {},
   "source": [
    "# PySpark YouTube Course - Lesson 03\n",
    "\n",
    "This notebook contains all the materials and notes from the PySpark Course: 'PySpark - Aula 03 - Union / Joins / When - Otherwise / Collect' by DataDev Academy, available on YouTube. You can find the video [here](https://www.youtube.com/watch?v=EoI3XwxCkfI)."
   ]
  },
  {
   "cell_type": "markdown",
   "metadata": {},
   "source": [
    "## Summary\n",
    "\n",
    "- [PySpark YouTube Course - Lesson 03](#pyspark-youtube-course---lesson-03)\n",
    "  - [Summary](#summary)\n",
    "  - [Importing PySpark](#importing-pyspark)\n",
    "  - [Starting PySpark Session](#starting-pyspark-session)\n",
    "  - [Reading a File](#reading-a-file)\n",
    "  - [Displaying the DataFrame](#displaying-the-dataframe)\n",
    "  - [PySpark 01 Changes](#pyspark-01-changes)\n",
    "  - [PySpark 02 Changes](#pyspark-02-changes)\n",
    "  - [Distinct](#distinct)\n",
    "  - [Collect](#collect)\n",
    "  - [When / Otherwise](#when--otherwise)\n",
    "  - [Union / Concat](#union--concat)\n",
    "  - [Joins](#joins)\n",
    "    - [Simple Join](#simple-join)\n",
    "    - [Inner Join](#inner-join)\n",
    "    - [Left Join](#left-join)\n",
    "    - [Right Join](#right-join)\n",
    "    - [Full Join](#full-join)\n",
    "    - [Semi Join](#semi-join)\n",
    "    - [Anti Join](#anti-join)"
   ]
  },
  {
   "cell_type": "markdown",
   "metadata": {},
   "source": [
    "## Importing PySpark"
   ]
  },
  {
   "cell_type": "code",
   "execution_count": 39,
   "metadata": {},
   "outputs": [],
   "source": [
    "# Importing PySpark modules\n",
    "from pyspark.sql import SparkSession\n",
    "from pyspark.sql.functions import *\n",
    "from pyspark.sql.types import *\n",
    "from pyspark.sql.window import Window  # Importing window functions"
   ]
  },
  {
   "cell_type": "markdown",
   "metadata": {},
   "source": [
    "## Starting PySpark Session"
   ]
  },
  {
   "cell_type": "code",
   "execution_count": 40,
   "metadata": {},
   "outputs": [],
   "source": [
    "# Creating a Spark session\n",
    "# - master: defines the cluster manager, 'local' means running on a local machine\n",
    "# - appName: sets the name of your application\n",
    "spark = SparkSession.builder \\\n",
    "    .master(\"local\") \\\n",
    "    .appName(\"pyspark-03\") \\\n",
    "    .getOrCreate()"
   ]
  },
  {
   "cell_type": "markdown",
   "metadata": {},
   "source": [
    "## Reading a File"
   ]
  },
  {
   "cell_type": "code",
   "execution_count": 41,
   "metadata": {},
   "outputs": [],
   "source": [
    "# Reading a CSV file into a DataFrame\n",
    "# - path: specifies the location of the file\n",
    "# - header: indicates if the file contains a header row\n",
    "# - inferSchema: automatically infers the data types of the columns\n",
    "df = spark.read.csv(\"./data/wc2018-players.csv\", header=True, inferSchema=True)"
   ]
  },
  {
   "cell_type": "markdown",
   "metadata": {},
   "source": [
    "## Displaying the DataFrame"
   ]
  },
  {
   "cell_type": "code",
   "execution_count": 42,
   "metadata": {},
   "outputs": [
    {
     "name": "stdout",
     "output_type": "stream",
     "text": [
      "+---------+---+----+------------------+----------+----------+--------------------+------+------+\n",
      "|     Team|  #|Pos.| FIFA Popular Name|Birth Date|Shirt Name|                Club|Height|Weight|\n",
      "+---------+---+----+------------------+----------+----------+--------------------+------+------+\n",
      "|Argentina|  3|  DF|TAGLIAFICO Nicolas|31.08.1992|TAGLIAFICO|      AFC Ajax (NED)|   169|    65|\n",
      "|Argentina| 22|  MF|    PAVON Cristian|21.01.1996|     PAVÓN|CA Boca Juniors (...|   169|    65|\n",
      "|Argentina| 15|  MF|    LANZINI Manuel|15.02.1993|   LANZINI|West Ham United F...|   167|    66|\n",
      "|Argentina| 18|  DF|    SALVIO Eduardo|13.07.1990|    SALVIO|    SL Benfica (POR)|   167|    69|\n",
      "|Argentina| 10|  FW|      MESSI Lionel|24.06.1987|     MESSI|  FC Barcelona (ESP)|   170|    72|\n",
      "+---------+---+----+------------------+----------+----------+--------------------+------+------+\n",
      "only showing top 5 rows\n",
      "\n"
     ]
    }
   ],
   "source": [
    "# - show(5): shows the first 5 rows of the DataFrame\n",
    "df.show(5)"
   ]
  },
  {
   "cell_type": "markdown",
   "metadata": {},
   "source": [
    "## PySpark 01 Changes"
   ]
  },
  {
   "cell_type": "code",
   "execution_count": 43,
   "metadata": {},
   "outputs": [],
   "source": [
    "# Renaming columns in the DataFrame\n",
    "# - withColumnRenamed(\"oldName\", \"newName\"): renames a column from oldName to newName\n",
    "df = df.withColumnRenamed(\"Pos.\", \"Position\") \\\n",
    "       .withColumnRenamed(\"#\", \"Number\")"
   ]
  },
  {
   "cell_type": "code",
   "execution_count": 44,
   "metadata": {},
   "outputs": [],
   "source": [
    "# Extracting and converting components from the \"Birth Date\" column\n",
    "df = df.withColumn(\"Day\", split(col(\"Birth Date\"), \"\\\\.\").getItem(0).cast(IntegerType())) \\\n",
    "       .withColumn(\"Month\", split(col(\"Birth Date\"), \"\\\\.\").getItem(1).cast(IntegerType())) \\\n",
    "       .withColumn(\"Year\", split(col(\"Birth Date\"), \"\\\\.\").getItem(2).cast(IntegerType()))"
   ]
  },
  {
   "cell_type": "markdown",
   "metadata": {},
   "source": [
    "## PySpark 02 Changes"
   ]
  },
  {
   "cell_type": "code",
   "execution_count": 45,
   "metadata": {},
   "outputs": [],
   "source": [
    "# Copying the DataFrame to a new variable\n",
    "# - df2 = df: creates a copy of the DataFrame df and assigns it to a new variable df2\n",
    "df2 = df\n",
    "\n",
    "# Dropping the \"Birth Date\" column from the DataFrame\n",
    "# - drop(col(\"Birth Date\")): removes the \"Birth Date\" column from the DataFrame\n",
    "df = df.drop(col(\"Birth Date\"))"
   ]
  },
  {
   "cell_type": "markdown",
   "metadata": {},
   "source": [
    "## Distinct"
   ]
  },
  {
   "cell_type": "code",
   "execution_count": 46,
   "metadata": {},
   "outputs": [
    {
     "name": "stdout",
     "output_type": "stream",
     "text": [
      "+--------------+\n",
      "|          Team|\n",
      "+--------------+\n",
      "|        Russia|\n",
      "|       Senegal|\n",
      "|        Sweden|\n",
      "|       IR Iran|\n",
      "|       Germany|\n",
      "|        France|\n",
      "|     Argentina|\n",
      "|       Belgium|\n",
      "|          Peru|\n",
      "|       Croatia|\n",
      "|       Nigeria|\n",
      "|Korea Republic|\n",
      "|         Spain|\n",
      "|       Denmark|\n",
      "|       Morocco|\n",
      "|        Panama|\n",
      "|       Iceland|\n",
      "|       Uruguay|\n",
      "|        Mexico|\n",
      "|       Tunisia|\n",
      "|  Saudi Arabia|\n",
      "|   Switzerland|\n",
      "|        Brazil|\n",
      "|         Japan|\n",
      "|       England|\n",
      "|        Poland|\n",
      "|      Portugal|\n",
      "|     Australia|\n",
      "|    Costa Rica|\n",
      "|         Egypt|\n",
      "|        Serbia|\n",
      "|      Colombia|\n",
      "+--------------+\n",
      "\n"
     ]
    }
   ],
   "source": [
    "# Select the \"Team\" column and display distinct values\n",
    "# - select(col(\"Team\")): selects the \"Team\" column from the DataFrame\n",
    "# - distinct(): returns a new DataFrame containing only distinct (unique) rows from the selected column\n",
    "# - show(50): displays the first 50 distinct values from the \"Team\" column\n",
    "df.select(col(\"Team\")).distinct().show(50)"
   ]
  },
  {
   "cell_type": "markdown",
   "metadata": {},
   "source": [
    "## Collect"
   ]
  },
  {
   "cell_type": "code",
   "execution_count": 47,
   "metadata": {},
   "outputs": [
    {
     "data": {
      "text/plain": [
       "[Row(Team='Russia'),\n",
       " Row(Team='Senegal'),\n",
       " Row(Team='Sweden'),\n",
       " Row(Team='IR Iran'),\n",
       " Row(Team='Germany'),\n",
       " Row(Team='France'),\n",
       " Row(Team='Argentina'),\n",
       " Row(Team='Belgium'),\n",
       " Row(Team='Peru'),\n",
       " Row(Team='Croatia'),\n",
       " Row(Team='Nigeria'),\n",
       " Row(Team='Korea Republic'),\n",
       " Row(Team='Spain'),\n",
       " Row(Team='Denmark'),\n",
       " Row(Team='Morocco'),\n",
       " Row(Team='Panama'),\n",
       " Row(Team='Iceland'),\n",
       " Row(Team='Uruguay'),\n",
       " Row(Team='Mexico'),\n",
       " Row(Team='Tunisia'),\n",
       " Row(Team='Saudi Arabia'),\n",
       " Row(Team='Switzerland'),\n",
       " Row(Team='Brazil'),\n",
       " Row(Team='Japan'),\n",
       " Row(Team='England'),\n",
       " Row(Team='Poland'),\n",
       " Row(Team='Portugal'),\n",
       " Row(Team='Australia'),\n",
       " Row(Team='Costa Rica'),\n",
       " Row(Team='Egypt'),\n",
       " Row(Team='Serbia'),\n",
       " Row(Team='Colombia')]"
      ]
     },
     "execution_count": 47,
     "metadata": {},
     "output_type": "execute_result"
    }
   ],
   "source": [
    "# Select the \"Team\" column and collect distinct values into a list\n",
    "# - select(col(\"Team\")): selects the \"Team\" column from the DataFrame\n",
    "# - distinct(): returns a new DataFrame containing only distinct (unique) rows from the selected column\n",
    "# - collect(): collects the data as a list of Row objects\n",
    "list = df.select(col(\"Team\")).distinct().collect()\n",
    "\n",
    "# Display the list of distinct teams\n",
    "list"
   ]
  },
  {
   "cell_type": "code",
   "execution_count": 48,
   "metadata": {},
   "outputs": [
    {
     "data": {
      "text/plain": [
       "Row(Team='Russia')"
      ]
     },
     "execution_count": 48,
     "metadata": {},
     "output_type": "execute_result"
    }
   ],
   "source": [
    "# Access the first element in the list of distinct teams\n",
    "# - list[0]: retrieves the first element of the list, which is a Row object containing the first distinct team\n",
    "list[0]"
   ]
  },
  {
   "cell_type": "code",
   "execution_count": 49,
   "metadata": {},
   "outputs": [
    {
     "data": {
      "text/plain": [
       "'Russia'"
      ]
     },
     "execution_count": 49,
     "metadata": {},
     "output_type": "execute_result"
    }
   ],
   "source": [
    "# Access the first value within the first Row object\n",
    "# - list[0][0]: retrieves the first value from the first Row object in the list. This value is the distinct team name.\n",
    "list[0][0]"
   ]
  },
  {
   "cell_type": "code",
   "execution_count": 50,
   "metadata": {},
   "outputs": [
    {
     "data": {
      "text/plain": [
       "str"
      ]
     },
     "execution_count": 50,
     "metadata": {},
     "output_type": "execute_result"
    }
   ],
   "source": [
    "# Check the type of the value retrieved\n",
    "# - type(list[0][0]): returns the data type of the value from the first Row object\n",
    "type(list[0][0])"
   ]
  },
  {
   "cell_type": "code",
   "execution_count": 51,
   "metadata": {},
   "outputs": [
    {
     "data": {
      "text/plain": [
       "['Russia',\n",
       " 'Senegal',\n",
       " 'Sweden',\n",
       " 'IR Iran',\n",
       " 'Germany',\n",
       " 'France',\n",
       " 'Argentina',\n",
       " 'Belgium',\n",
       " 'Peru',\n",
       " 'Croatia',\n",
       " 'Nigeria',\n",
       " 'Korea Republic',\n",
       " 'Spain',\n",
       " 'Denmark',\n",
       " 'Morocco',\n",
       " 'Panama',\n",
       " 'Iceland',\n",
       " 'Uruguay',\n",
       " 'Mexico',\n",
       " 'Tunisia',\n",
       " 'Saudi Arabia',\n",
       " 'Switzerland',\n",
       " 'Brazil',\n",
       " 'Japan',\n",
       " 'England',\n",
       " 'Poland',\n",
       " 'Portugal',\n",
       " 'Australia',\n",
       " 'Costa Rica',\n",
       " 'Egypt',\n",
       " 'Serbia',\n",
       " 'Colombia']"
      ]
     },
     "execution_count": 51,
     "metadata": {},
     "output_type": "execute_result"
    }
   ],
   "source": [
    "# Create an empty list to store team names\n",
    "country = []\n",
    "\n",
    "# Iterate over the list of distinct teams and append each team name to the 'country' list\n",
    "# - for i in list: iterates through each Row object in the list\n",
    "# - country.append(i[0]): appends the first value (team name) from each Row object to the 'country' list\n",
    "for i in list:\n",
    "    country.append(i[0])\n",
    "\n",
    "# Display the list of team names\n",
    "country"
   ]
  },
  {
   "cell_type": "markdown",
   "metadata": {},
   "source": [
    "## When / Otherwise"
   ]
  },
  {
   "cell_type": "code",
   "execution_count": 52,
   "metadata": {},
   "outputs": [
    {
     "name": "stdout",
     "output_type": "stream",
     "text": [
      "+---------+------+--------+------------------+----------+--------------------+------+------+---+-----+----+----------+\n",
      "|     Team|Number|Position| FIFA Popular Name|Shirt Name|                Club|Height|Weight|Day|Month|Year|New Column|\n",
      "+---------+------+--------+------------------+----------+--------------------+------+------+---+-----+----+----------+\n",
      "|Argentina|     3|      DF|TAGLIAFICO Nicolas|TAGLIAFICO|      AFC Ajax (NED)|   169|    65| 31|    8|1992|       ARG|\n",
      "|Argentina|    22|      MF|    PAVON Cristian|     PAVÓN|CA Boca Juniors (...|   169|    65| 21|    1|1996|       ARG|\n",
      "|Argentina|    15|      MF|    LANZINI Manuel|   LANZINI|West Ham United F...|   167|    66| 15|    2|1993|       ARG|\n",
      "|Argentina|    18|      DF|    SALVIO Eduardo|    SALVIO|    SL Benfica (POR)|   167|    69| 13|    7|1990|       ARG|\n",
      "|Argentina|    10|      FW|      MESSI Lionel|     MESSI|  FC Barcelona (ESP)|   170|    72| 24|    6|1987|       ARG|\n",
      "|Argentina|     4|      DF|  ANSALDI Cristian|   ANSALDI|     Torino FC (ITA)|   181|    73| 20|    9|1986|       ARG|\n",
      "|Argentina|     5|      MF|      BIGLIA Lucas|    BIGLIA|      AC Milan (ITA)|   175|    73| 30|    1|1986|       ARG|\n",
      "|Argentina|     7|      MF|       BANEGA Ever|    BANEGA|    Sevilla FC (ESP)|   175|    73| 29|    6|1988|       ARG|\n",
      "|Argentina|    14|      DF| MASCHERANO Javier|MASCHERANO|Hebei China Fortu...|   174|    73|  8|    6|1984|       ARG|\n",
      "|Argentina|    21|      FW|      DYBALA Paulo|    DYBALA|   Juventus FC (ITA)|   177|    73| 15|   11|1993|       ARG|\n",
      "|Argentina|    19|      FW|     AGUERO Sergio|    AGÜERO|Manchester City F...|   172|    74|  2|    6|1988|       ARG|\n",
      "|Argentina|     9|      FW|   HIGUAIN Gonzalo|   HIGUAÍN|   Juventus FC (ITA)|   184|    75| 10|   12|1987|       ARG|\n",
      "|Argentina|    11|      MF|    DI MARIA Angel|  DI MARÍA|Paris Saint-Germa...|   178|    75| 14|    2|1988|       ARG|\n",
      "|Argentina|    20|      MF|  LO CELSO Giovani|  LO CELSO|Paris Saint-Germa...|   177|    75|  9|    4|1996|       ARG|\n",
      "|Argentina|    13|      MF|  MEZA Maximiliano|      MEZA|CA Independiente ...|   180|    76| 15|   12|1992|       ARG|\n",
      "|Argentina|     8|      DF|      ACUNA Marcos|     ACUÑA|   Sporting CP (POR)|   172|    77| 28|   10|1991|       ARG|\n",
      "|Argentina|    23|      GK|CABALLERO Wilfredo| CABALLERO|    Chelsea FC (ENG)|   186|    80| 28|    9|1981|       ARG|\n",
      "|Argentina|     2|      DF|   MERCADO Gabriel|   MERCADO|    Sevilla FC (ESP)|   181|    81| 18|    3|1987|       ARG|\n",
      "|Argentina|    17|      DF|  OTAMENDI Nicolas|  OTAMENDI|Manchester City F...|   181|    81| 12|    2|1988|       ARG|\n",
      "|Argentina|    16|      DF|       ROJO Marcos|      ROJO|Manchester United...|   189|    82| 20|    3|1990|       ARG|\n",
      "|Argentina|     6|      DF|    FAZIO Federico|     FAZIO|       AS Roma (ITA)|   199|    85| 17|    3|1987|       ARG|\n",
      "|Argentina|    12|      GK|     ARMANI Franco|    ARMANI|CA River Plate (ARG)|   189|    85| 16|   10|1986|       ARG|\n",
      "|Argentina|     1|      GK|     GUZMAN Nahuel|    GUZMÁN|   Tigres UANL (MEX)|   192|    90| 10|    2|1986|       ARG|\n",
      "|Australia|    16|      DF|       BEHICH Aziz|    BEHICH|     Bursaspor (TUR)|   170|    63| 16|   12|1990|   NOT ARG|\n",
      "|Australia|    10|      FW|      KRUSE Robbie|     KRUSE|    VfL Bochum (GER)|   180|    66|  5|   10|1988|   NOT ARG|\n",
      "|Australia|    19|      DF|     RISDON Joshua|    RISDON|WS Wanderers FC (...|   169|    70| 27|    7|1992|   NOT ARG|\n",
      "|Australia|     3|      DF|    MEREDITH James|  MEREDITH|   Millwall FC (ENG)|   179|    71|  5|    4|1988|   NOT ARG|\n",
      "|Australia|    13|      MF|        MOOY Aaron|      MOOY|Huddersfield Town...|   173|    72| 15|    9|1990|   NOT ARG|\n",
      "|Australia|    14|      FW|    MacLAREN Jamie|  MACLAREN|  Hibernian FC (SCO)|   178|    72| 29|    7|1993|   NOT ARG|\n",
      "|Australia|    21|      FW|PETRATOS Dimitrios|  PETRATOS|Newcastle United ...|   176|    72| 10|   11|1992|   NOT ARG|\n",
      "|Australia|    17|      FW|     ARZANI Daniel|    ARZANI|Melbourne City FC...|   171|    73|  4|    1|1999|   NOT ARG|\n",
      "|Australia|     4|      FW|        CAHILL Tim|    CAHILL|   Millwall FC (ENG)|   180|    76|  6|   12|1979|   NOT ARG|\n",
      "|Australia|     8|      MF|    LUONGO Massimo|    LUONGO|Queens Park Range...|   176|    76| 25|    9|1992|   NOT ARG|\n",
      "|Australia|    20|      DF|   SAINSBURY Trent| SAINSBURY|Grasshopper Club ...|   183|    76|  5|    1|1992|   NOT ARG|\n",
      "|Australia|    22|      MF|    IRVINE Jackson|    IRVINE|  Hull City FC (ENG)|   180|    77|  7|    3|1993|   NOT ARG|\n",
      "|Australia|     5|      DF|     MILLIGAN Mark|  MILLIGAN|    Al Ahli SC (KSA)|   178|    78|  4|    8|1985|   NOT ARG|\n",
      "|Australia|    15|      MF|      JEDINAK Mile|   JEDINAK|Aston Villa FC (ENG)|   188|    78|  3|    8|1984|   NOT ARG|\n",
      "|Australia|     9|      FW|        JURIC Tomi|     JURIC|     FC Luzern (SUI)|   190|    80| 22|    7|1991|   NOT ARG|\n",
      "|Australia|     1|      GK|       RYAN Mathew|      RYAN|Brighton & Hove A...|   184|    82|  8|    4|1992|   NOT ARG|\n",
      "|Australia|     6|      DF|    JURMAN Matthew|    JURMAN|Suwon Samsung Blu...|   190|    83|  8|   12|1989|   NOT ARG|\n",
      "|Australia|     7|      FW|     LECKIE Mathew|    LECKIE|    Hertha BSC (GER)|   181|    84|  4|    2|1991|   NOT ARG|\n",
      "|Australia|     2|      DF|     DEGENEK Milos|   DEGENEK|Yokohama F-Marino...|   187|    85| 28|    4|1994|   NOT ARG|\n",
      "|Australia|    11|      FW|    NABBOUT Andrew|   NABBOUT|    Urawa Reds (JPN)|   178|    85| 17|   12|1992|   NOT ARG|\n",
      "|Australia|    12|      GK|        JONES Brad|     JONES|Feyenoord Rotterd...|   193|    87| 19|    3|1982|   NOT ARG|\n",
      "|Australia|    23|      MF|         ROGIC Tom|     ROGIC|     Celtic FC (SCO)|   189|    88| 16|   12|1992|   NOT ARG|\n",
      "|Australia|    18|      GK|     VUKOVIC Danny|   VUKOVIC|      KRC Genk (BEL)|   187|    94| 27|    3|1985|   NOT ARG|\n",
      "|  Belgium|    14|      FW|     MERTENS Dries|   MERTENS|    SSC Napoli (ITA)|   169|    61|  6|    5|1987|   NOT ARG|\n",
      "|  Belgium|    11|      MF|  CARRASCO Yannick|  CARRASCO|Dalian Yifang FC ...|   180|    67|  4|    9|1993|   NOT ARG|\n",
      "|  Belgium|     7|      MF|   DE BRUYNE Kevin| DE BRUYNE|Manchester City F...|   181|    70| 28|    6|1991|   NOT ARG|\n",
      "|  Belgium|    16|      MF|    HAZARD Thorgan| T. HAZARD|VfL Borussia Mönc...|   174|    70| 29|    3|1993|   NOT ARG|\n",
      "+---------+------+--------+------------------+----------+--------------------+------+------+---+-----+----+----------+\n",
      "only showing top 50 rows\n",
      "\n"
     ]
    }
   ],
   "source": [
    "# Add a new column \"New Column\" with conditional values\n",
    "# - when(col(\"Team\") == \"Argentina\", \"ARG\"): sets the value to \"ARG\" if the \"Team\" column is \"Argentina\"\n",
    "# - otherwise(\"NOT ARG\"): sets the value to \"NOT ARG\" for all other cases\n",
    "# - show(50): displays the first 50 rows of the DataFrame with the new column\n",
    "df.withColumn(\"New Column\", when(col(\"Team\") == \"Argentina\", \"ARG\").otherwise(\"NOT ARG\")).show(50)"
   ]
  },
  {
   "cell_type": "code",
   "execution_count": 53,
   "metadata": {},
   "outputs": [],
   "source": [
    "# Define lists of team names for different continents\n",
    "EU = [\"Sweden\", \"Germany\", \"France\", \"Belgium\", \"Croatia\", \"Spain\", \"Denmark\", \"Iceland\", \"Switzerland\", \"England\", \"Poland\", \"Portugal\", \"Serbia\"]\n",
    "AS = [\"Russia\", \"IR Iran\", \"Nigeria\", \"Korea Republic\", \"Saudi Arabia\", \"Japan\"]\n",
    "AF = [\"Senegal\", \"Morocco\", \"Tunisia\", \"Egypt\"]\n",
    "OC = [\"Australia\"]\n",
    "NA = [\"Panama\", \"Mexico\", \"Costa Rica\"]\n",
    "SA = [\"Argentina\", \"Peru\", \"Uruguay\", \"Brazil\", \"Colombia\"]"
   ]
  },
  {
   "cell_type": "code",
   "execution_count": 54,
   "metadata": {},
   "outputs": [
    {
     "name": "stdout",
     "output_type": "stream",
     "text": [
      "+---------+------+--------+------------------+----------+--------------------+------+------+---+-----+----+---------+\n",
      "|     Team|Number|Position| FIFA Popular Name|Shirt Name|                Club|Height|Weight|Day|Month|Year|Continent|\n",
      "+---------+------+--------+------------------+----------+--------------------+------+------+---+-----+----+---------+\n",
      "|Argentina|     3|      DF|TAGLIAFICO Nicolas|TAGLIAFICO|      AFC Ajax (NED)|   169|    65| 31|    8|1992|       SA|\n",
      "|Argentina|    22|      MF|    PAVON Cristian|     PAVÓN|CA Boca Juniors (...|   169|    65| 21|    1|1996|       SA|\n",
      "|Argentina|    15|      MF|    LANZINI Manuel|   LANZINI|West Ham United F...|   167|    66| 15|    2|1993|       SA|\n",
      "|Argentina|    18|      DF|    SALVIO Eduardo|    SALVIO|    SL Benfica (POR)|   167|    69| 13|    7|1990|       SA|\n",
      "|Argentina|    10|      FW|      MESSI Lionel|     MESSI|  FC Barcelona (ESP)|   170|    72| 24|    6|1987|       SA|\n",
      "|Argentina|     4|      DF|  ANSALDI Cristian|   ANSALDI|     Torino FC (ITA)|   181|    73| 20|    9|1986|       SA|\n",
      "|Argentina|     5|      MF|      BIGLIA Lucas|    BIGLIA|      AC Milan (ITA)|   175|    73| 30|    1|1986|       SA|\n",
      "|Argentina|     7|      MF|       BANEGA Ever|    BANEGA|    Sevilla FC (ESP)|   175|    73| 29|    6|1988|       SA|\n",
      "|Argentina|    14|      DF| MASCHERANO Javier|MASCHERANO|Hebei China Fortu...|   174|    73|  8|    6|1984|       SA|\n",
      "|Argentina|    21|      FW|      DYBALA Paulo|    DYBALA|   Juventus FC (ITA)|   177|    73| 15|   11|1993|       SA|\n",
      "|Argentina|    19|      FW|     AGUERO Sergio|    AGÜERO|Manchester City F...|   172|    74|  2|    6|1988|       SA|\n",
      "|Argentina|     9|      FW|   HIGUAIN Gonzalo|   HIGUAÍN|   Juventus FC (ITA)|   184|    75| 10|   12|1987|       SA|\n",
      "|Argentina|    11|      MF|    DI MARIA Angel|  DI MARÍA|Paris Saint-Germa...|   178|    75| 14|    2|1988|       SA|\n",
      "|Argentina|    20|      MF|  LO CELSO Giovani|  LO CELSO|Paris Saint-Germa...|   177|    75|  9|    4|1996|       SA|\n",
      "|Argentina|    13|      MF|  MEZA Maximiliano|      MEZA|CA Independiente ...|   180|    76| 15|   12|1992|       SA|\n",
      "|Argentina|     8|      DF|      ACUNA Marcos|     ACUÑA|   Sporting CP (POR)|   172|    77| 28|   10|1991|       SA|\n",
      "|Argentina|    23|      GK|CABALLERO Wilfredo| CABALLERO|    Chelsea FC (ENG)|   186|    80| 28|    9|1981|       SA|\n",
      "|Argentina|     2|      DF|   MERCADO Gabriel|   MERCADO|    Sevilla FC (ESP)|   181|    81| 18|    3|1987|       SA|\n",
      "|Argentina|    17|      DF|  OTAMENDI Nicolas|  OTAMENDI|Manchester City F...|   181|    81| 12|    2|1988|       SA|\n",
      "|Argentina|    16|      DF|       ROJO Marcos|      ROJO|Manchester United...|   189|    82| 20|    3|1990|       SA|\n",
      "|Argentina|     6|      DF|    FAZIO Federico|     FAZIO|       AS Roma (ITA)|   199|    85| 17|    3|1987|       SA|\n",
      "|Argentina|    12|      GK|     ARMANI Franco|    ARMANI|CA River Plate (ARG)|   189|    85| 16|   10|1986|       SA|\n",
      "|Argentina|     1|      GK|     GUZMAN Nahuel|    GUZMÁN|   Tigres UANL (MEX)|   192|    90| 10|    2|1986|       SA|\n",
      "|Australia|    16|      DF|       BEHICH Aziz|    BEHICH|     Bursaspor (TUR)|   170|    63| 16|   12|1990|       OC|\n",
      "|Australia|    10|      FW|      KRUSE Robbie|     KRUSE|    VfL Bochum (GER)|   180|    66|  5|   10|1988|       OC|\n",
      "|Australia|    19|      DF|     RISDON Joshua|    RISDON|WS Wanderers FC (...|   169|    70| 27|    7|1992|       OC|\n",
      "|Australia|     3|      DF|    MEREDITH James|  MEREDITH|   Millwall FC (ENG)|   179|    71|  5|    4|1988|       OC|\n",
      "|Australia|    13|      MF|        MOOY Aaron|      MOOY|Huddersfield Town...|   173|    72| 15|    9|1990|       OC|\n",
      "|Australia|    14|      FW|    MacLAREN Jamie|  MACLAREN|  Hibernian FC (SCO)|   178|    72| 29|    7|1993|       OC|\n",
      "|Australia|    21|      FW|PETRATOS Dimitrios|  PETRATOS|Newcastle United ...|   176|    72| 10|   11|1992|       OC|\n",
      "|Australia|    17|      FW|     ARZANI Daniel|    ARZANI|Melbourne City FC...|   171|    73|  4|    1|1999|       OC|\n",
      "|Australia|     4|      FW|        CAHILL Tim|    CAHILL|   Millwall FC (ENG)|   180|    76|  6|   12|1979|       OC|\n",
      "|Australia|     8|      MF|    LUONGO Massimo|    LUONGO|Queens Park Range...|   176|    76| 25|    9|1992|       OC|\n",
      "|Australia|    20|      DF|   SAINSBURY Trent| SAINSBURY|Grasshopper Club ...|   183|    76|  5|    1|1992|       OC|\n",
      "|Australia|    22|      MF|    IRVINE Jackson|    IRVINE|  Hull City FC (ENG)|   180|    77|  7|    3|1993|       OC|\n",
      "|Australia|     5|      DF|     MILLIGAN Mark|  MILLIGAN|    Al Ahli SC (KSA)|   178|    78|  4|    8|1985|       OC|\n",
      "|Australia|    15|      MF|      JEDINAK Mile|   JEDINAK|Aston Villa FC (ENG)|   188|    78|  3|    8|1984|       OC|\n",
      "|Australia|     9|      FW|        JURIC Tomi|     JURIC|     FC Luzern (SUI)|   190|    80| 22|    7|1991|       OC|\n",
      "|Australia|     1|      GK|       RYAN Mathew|      RYAN|Brighton & Hove A...|   184|    82|  8|    4|1992|       OC|\n",
      "|Australia|     6|      DF|    JURMAN Matthew|    JURMAN|Suwon Samsung Blu...|   190|    83|  8|   12|1989|       OC|\n",
      "|Australia|     7|      FW|     LECKIE Mathew|    LECKIE|    Hertha BSC (GER)|   181|    84|  4|    2|1991|       OC|\n",
      "|Australia|     2|      DF|     DEGENEK Milos|   DEGENEK|Yokohama F-Marino...|   187|    85| 28|    4|1994|       OC|\n",
      "|Australia|    11|      FW|    NABBOUT Andrew|   NABBOUT|    Urawa Reds (JPN)|   178|    85| 17|   12|1992|       OC|\n",
      "|Australia|    12|      GK|        JONES Brad|     JONES|Feyenoord Rotterd...|   193|    87| 19|    3|1982|       OC|\n",
      "|Australia|    23|      MF|         ROGIC Tom|     ROGIC|     Celtic FC (SCO)|   189|    88| 16|   12|1992|       OC|\n",
      "|Australia|    18|      GK|     VUKOVIC Danny|   VUKOVIC|      KRC Genk (BEL)|   187|    94| 27|    3|1985|       OC|\n",
      "|  Belgium|    14|      FW|     MERTENS Dries|   MERTENS|    SSC Napoli (ITA)|   169|    61|  6|    5|1987|       EU|\n",
      "|  Belgium|    11|      MF|  CARRASCO Yannick|  CARRASCO|Dalian Yifang FC ...|   180|    67|  4|    9|1993|       EU|\n",
      "|  Belgium|     7|      MF|   DE BRUYNE Kevin| DE BRUYNE|Manchester City F...|   181|    70| 28|    6|1991|       EU|\n",
      "|  Belgium|    16|      MF|    HAZARD Thorgan| T. HAZARD|VfL Borussia Mönc...|   174|    70| 29|    3|1993|       EU|\n",
      "+---------+------+--------+------------------+----------+--------------------+------+------+---+-----+----+---------+\n",
      "only showing top 50 rows\n",
      "\n"
     ]
    }
   ],
   "source": [
    "# Add a new column \"Continent\" with continent names based on the team\n",
    "# - when(col(\"Team\").isin(EU), \"EU\"): sets the continent to \"EU\" if the team is in the EU list\n",
    "# - when(col(\"Team\").isin(AS), \"AS\"): sets the continent to \"AS\" if the team is in the AS list\n",
    "# - when(col(\"Team\").isin(AF), \"AF\"): sets the continent to \"AF\" if the team is in the AF list\n",
    "# - when(col(\"Team\").isin(OC), \"OC\"): sets the continent to \"OC\" if the team is in the OC list\n",
    "# - when(col(\"Team\").isin(NA), \"NA\"): sets the continent to \"NA\" if the team is in the NA list\n",
    "# - when(col(\"Team\").isin(SA), \"SA\"): sets the continent to \"SA\" if the team is in the SA list\n",
    "# - otherwise(\"CHECK\"): sets the continent to \"CHECK\" if the team does not match any of the lists\n",
    "# - show(50): displays the first 50 rows of the DataFrame with the new \"Continent\" column\n",
    "df = df.withColumn(\"Continent\", when(col(\"Team\").isin(EU), \"EU\") \\\n",
    "                               .when(col(\"Team\").isin(AS), \"AS\") \\\n",
    "                               .when(col(\"Team\").isin(AF), \"AF\") \\\n",
    "                               .when(col(\"Team\").isin(OC), \"OC\") \\\n",
    "                               .when(col(\"Team\").isin(NA), \"NA\") \\\n",
    "                               .when(col(\"Team\").isin(SA), \"SA\") \\\n",
    "                               .otherwise(\"CHECK\"))\n",
    "df.show(50)"
   ]
  },
  {
   "cell_type": "code",
   "execution_count": 55,
   "metadata": {},
   "outputs": [
    {
     "name": "stdout",
     "output_type": "stream",
     "text": [
      "+----+------+--------+-----------------+----------+----+------+------+---+-----+----+---------+\n",
      "|Team|Number|Position|FIFA Popular Name|Shirt Name|Club|Height|Weight|Day|Month|Year|Continent|\n",
      "+----+------+--------+-----------------+----------+----+------+------+---+-----+----+---------+\n",
      "+----+------+--------+-----------------+----------+----+------+------+---+-----+----+---------+\n",
      "\n"
     ]
    }
   ],
   "source": [
    "# Filter the DataFrame to include only rows where the \"Continent\" column is \"CHECK\"\n",
    "# - where(col(\"Continent\") == \"CHECK\"): selects rows where the continent is marked as \"CHECK\"\n",
    "# - show(): displays the filtered rows\n",
    "df.where(col(\"Continent\") == \"CHECK\").show()"
   ]
  },
  {
   "cell_type": "markdown",
   "metadata": {},
   "source": [
    "## Union / Concat"
   ]
  },
  {
   "cell_type": "code",
   "execution_count": 56,
   "metadata": {},
   "outputs": [
    {
     "name": "stdout",
     "output_type": "stream",
     "text": [
      "+---------+\n",
      "|     Team|\n",
      "+---------+\n",
      "|Argentina|\n",
      "|     Peru|\n",
      "|  Uruguay|\n",
      "|   Brazil|\n",
      "| Colombia|\n",
      "+---------+\n",
      "\n"
     ]
    }
   ],
   "source": [
    "# Filter the DataFrame to include only rows where the \"Continent\" column is \"SA\" (South America)\n",
    "df_sa = df.where(col(\"Continent\") == \"SA\")\n",
    "\n",
    "# Select distinct teams from the filtered South American DataFrame\n",
    "df_sa.select(col(\"Team\")).distinct().show()"
   ]
  },
  {
   "cell_type": "code",
   "execution_count": 57,
   "metadata": {},
   "outputs": [
    {
     "name": "stdout",
     "output_type": "stream",
     "text": [
      "+----------+\n",
      "|      Team|\n",
      "+----------+\n",
      "|    Panama|\n",
      "|    Mexico|\n",
      "|Costa Rica|\n",
      "+----------+\n",
      "\n"
     ]
    }
   ],
   "source": [
    "# Filter the DataFrame to include only rows where the \"Continent\" column is \"NA\" (North America)\n",
    "df_na = df.where(col(\"Continent\") == \"NA\")\n",
    "\n",
    "# Select distinct teams from the filtered North American DataFrame\n",
    "df_na.select(col(\"Team\")).distinct().show()"
   ]
  },
  {
   "cell_type": "code",
   "execution_count": 58,
   "metadata": {},
   "outputs": [
    {
     "name": "stdout",
     "output_type": "stream",
     "text": [
      "+----------+\n",
      "|      Team|\n",
      "+----------+\n",
      "| Argentina|\n",
      "|      Peru|\n",
      "|   Uruguay|\n",
      "|    Brazil|\n",
      "|  Colombia|\n",
      "|    Panama|\n",
      "|    Mexico|\n",
      "|Costa Rica|\n",
      "+----------+\n",
      "\n"
     ]
    }
   ],
   "source": [
    "# Combine the South American and North American DataFrames into a single DataFrame\n",
    "# - union(df_na): combines the rows from df_sa and df_na into a single DataFrame\n",
    "#   Note: The number and type of columns must be the same in both DataFrames for the union operation to work\n",
    "df_america = df_sa.union(df_na)\n",
    "\n",
    "# Select distinct teams from the combined DataFrame of South American and North American teams\n",
    "df_america.select(col(\"Team\")).distinct().show()"
   ]
  },
  {
   "cell_type": "code",
   "execution_count": 59,
   "metadata": {},
   "outputs": [
    {
     "name": "stdout",
     "output_type": "stream",
     "text": [
      "+---------+------+--------+--------------------+-------------+--------------------+------+------+---+-----+----+---------+\n",
      "|     Team|Number|Position|   FIFA Popular Name|   Shirt Name|                Club|Height|Weight|Day|Month|Year|Continent|\n",
      "+---------+------+--------+--------------------+-------------+--------------------+------+------+---+-----+----+---------+\n",
      "|Argentina|     3|      DF|  TAGLIAFICO Nicolas|   TAGLIAFICO|      AFC Ajax (NED)|   169|    65| 31|    8|1992|       SA|\n",
      "|Argentina|    22|      MF|      PAVON Cristian|        PAVÓN|CA Boca Juniors (...|   169|    65| 21|    1|1996|       SA|\n",
      "|Argentina|    15|      MF|      LANZINI Manuel|      LANZINI|West Ham United F...|   167|    66| 15|    2|1993|       SA|\n",
      "|Argentina|    18|      DF|      SALVIO Eduardo|       SALVIO|    SL Benfica (POR)|   167|    69| 13|    7|1990|       SA|\n",
      "|Argentina|    10|      FW|        MESSI Lionel|        MESSI|  FC Barcelona (ESP)|   170|    72| 24|    6|1987|       SA|\n",
      "|Argentina|     4|      DF|    ANSALDI Cristian|      ANSALDI|     Torino FC (ITA)|   181|    73| 20|    9|1986|       SA|\n",
      "|Argentina|     5|      MF|        BIGLIA Lucas|       BIGLIA|      AC Milan (ITA)|   175|    73| 30|    1|1986|       SA|\n",
      "|Argentina|     7|      MF|         BANEGA Ever|       BANEGA|    Sevilla FC (ESP)|   175|    73| 29|    6|1988|       SA|\n",
      "|Argentina|    14|      DF|   MASCHERANO Javier|   MASCHERANO|Hebei China Fortu...|   174|    73|  8|    6|1984|       SA|\n",
      "|Argentina|    21|      FW|        DYBALA Paulo|       DYBALA|   Juventus FC (ITA)|   177|    73| 15|   11|1993|       SA|\n",
      "|Argentina|    19|      FW|       AGUERO Sergio|       AGÜERO|Manchester City F...|   172|    74|  2|    6|1988|       SA|\n",
      "|Argentina|     9|      FW|     HIGUAIN Gonzalo|      HIGUAÍN|   Juventus FC (ITA)|   184|    75| 10|   12|1987|       SA|\n",
      "|Argentina|    11|      MF|      DI MARIA Angel|     DI MARÍA|Paris Saint-Germa...|   178|    75| 14|    2|1988|       SA|\n",
      "|Argentina|    20|      MF|    LO CELSO Giovani|     LO CELSO|Paris Saint-Germa...|   177|    75|  9|    4|1996|       SA|\n",
      "|Argentina|    13|      MF|    MEZA Maximiliano|         MEZA|CA Independiente ...|   180|    76| 15|   12|1992|       SA|\n",
      "|Argentina|     8|      DF|        ACUNA Marcos|        ACUÑA|   Sporting CP (POR)|   172|    77| 28|   10|1991|       SA|\n",
      "|Argentina|    23|      GK|  CABALLERO Wilfredo|    CABALLERO|    Chelsea FC (ENG)|   186|    80| 28|    9|1981|       SA|\n",
      "|Argentina|     2|      DF|     MERCADO Gabriel|      MERCADO|    Sevilla FC (ESP)|   181|    81| 18|    3|1987|       SA|\n",
      "|Argentina|    17|      DF|    OTAMENDI Nicolas|     OTAMENDI|Manchester City F...|   181|    81| 12|    2|1988|       SA|\n",
      "|Argentina|    16|      DF|         ROJO Marcos|         ROJO|Manchester United...|   189|    82| 20|    3|1990|       SA|\n",
      "|Argentina|     6|      DF|      FAZIO Federico|        FAZIO|       AS Roma (ITA)|   199|    85| 17|    3|1987|       SA|\n",
      "|Argentina|    12|      GK|       ARMANI Franco|       ARMANI|CA River Plate (ARG)|   189|    85| 16|   10|1986|       SA|\n",
      "|Argentina|     1|      GK|       GUZMAN Nahuel|       GUZMÁN|   Tigres UANL (MEX)|   192|    90| 10|    2|1986|       SA|\n",
      "|   Brazil|    18|      MF|                FRED|         FRED|FC Shakhtar Donet...|   169|    64|  5|    3|1993|       SA|\n",
      "|   Brazil|    21|      FW|              TAISON|       TAISON|FC Shakhtar Donet...|   172|    64| 13|    1|1988|       SA|\n",
      "|   Brazil|    17|      MF|         FERNANDINHO|  FERNANDINHO|Manchester City F...|   179|    67|  4|    5|1985|       SA|\n",
      "|   Brazil|    22|      DF|              FAGNER|       FAGNER|SC Corinthians (BRA)|   168|    67| 11|    6|1989|       SA|\n",
      "|   Brazil|    10|      FW|              NEYMAR|    NEYMAR JR|Paris Saint-Germa...|   175|    68|  5|    2|1992|       SA|\n",
      "|   Brazil|    11|      MF|   PHILIPPE COUTINHO|  P. COUTINHO|  FC Barcelona (ESP)|   172|    68| 12|    6|1992|       SA|\n",
      "|   Brazil|     7|      FW|       DOUGLAS COSTA|     D. COSTA|   Juventus FC (ITA)|   182|    70| 14|    9|1990|       SA|\n",
      "|   Brazil|     6|      DF|         FILIPE LUIS|  FILIPE LUIS|Atletico Madrid (...|   182|    73|  9|    8|1985|       SA|\n",
      "|   Brazil|     9|      FW|       GABRIEL JESUS|     G. JESUS|Manchester City F...|   175|    73|  3|    4|1997|       SA|\n",
      "|   Brazil|    13|      DF|          MARQUINHOS|   MARQUINHOS|Paris Saint-Germa...|   183|    75| 14|    5|1994|       SA|\n",
      "|   Brazil|    20|      FW|     ROBERTO FIRMINO|      FIRMINO|  Liverpool FC (ENG)|   181|    76|  2|   10|1991|       SA|\n",
      "|   Brazil|    19|      MF|             WILLIAN|      WILLIAN|    Chelsea FC (ENG)|   175|    77|  9|    8|1988|       SA|\n",
      "|   Brazil|     3|      DF|             MIRANDA|      MIRANDA|FC Internazionale...|   186|    78|  7|    9|1984|       SA|\n",
      "|   Brazil|    14|      DF|              DANILO|       DANILO|Manchester City F...|   184|    78| 15|    7|1991|       SA|\n",
      "|   Brazil|     2|      DF|        THIAGO SILVA|     T. SILVA|Paris Saint-Germa...|   183|    79| 22|    9|1984|       SA|\n",
      "|   Brazil|    12|      DF|             MARCELO|      MARCELO|Real Madrid CF (ESP)|   174|    80| 12|    5|1988|       SA|\n",
      "|   Brazil|    15|      MF|            PAULINHO|     PAULINHO|  FC Barcelona (ESP)|   181|    81| 25|    7|1988|       SA|\n",
      "|   Brazil|     4|      DF|       PEDRO GEROMEL|      GEROMEL|   Grêmio FBPA (BRA)|   190|    84| 21|    9|1985|       SA|\n",
      "|   Brazil|     5|      MF|            CASEMIRO|     CASEMIRO|Real Madrid CF (ESP)|   185|    84| 23|    2|1992|       SA|\n",
      "|   Brazil|     8|      MF|      RENATO AUGUSTO|   R. AUGUSTO| Beijing Guoan (CHN)|   186|    86|  8|    2|1988|       SA|\n",
      "|   Brazil|    23|      GK|             EDERSON|      EDERSON|Manchester City F...|   188|    86| 17|    8|1993|       SA|\n",
      "|   Brazil|     1|      GK|             ALISSON|    A. BECKER|       AS Roma (ITA)|   193|    91|  2|   10|1992|       SA|\n",
      "|   Brazil|    16|      GK|              CASSIO|       CASSIO|SC Corinthians (BRA)|   195|    92|  6|    6|1987|       SA|\n",
      "| Colombia|    20|      MF|       QUINTERO Juan|  J. QUINTERO|CA River Plate (ARG)|   169|    64| 18|    1|1993|       SA|\n",
      "| Colombia|    17|      DF|        MOJICA Johan|    J. MOJICA|     Girona FC (ESP)|   185|    66| 21|    8|1992|       SA|\n",
      "| Colombia|    16|      MF|     LERMA Jefferson|     J. LERMA|    Levante UD (ESP)|   179|    70| 25|   10|1994|       SA|\n",
      "| Colombia|     4|      DF|      ARIAS Santiago|        ARIAS| PSV Eindhoven (NED)|   177|    71| 13|    1|1992|       SA|\n",
      "| Colombia|    15|      MF|        URIBE Mateus|     M. URIBE|  Club América (MEX)|   182|    71| 21|    3|1991|       SA|\n",
      "| Colombia|     9|      FW|      FALCAO Radamel|       FALCAO|     AS Monaco (FRA)|   177|    72| 10|    2|1986|       SA|\n",
      "| Colombia|    11|      MF|       CUADRADO Juan|     CUADRADO|   Juventus FC (ITA)|   179|    72| 26|    5|1988|       SA|\n",
      "| Colombia|    18|      DF|         FABRA Frank|        FABRA|CA Boca Juniors (...|   172|    72| 22|    2|1991|       SA|\n",
      "| Colombia|    21|      FW|      IZQUIERDO Jose|    IZQUIERDO|Brighton & Hove A...|   171|    73|  7|    7|1992|       SA|\n",
      "| Colombia|     5|      MF|     BARRIOS  Wilmar|      BARRIOS|CA Boca Juniors (...|   178|    74| 16|   10|1993|       SA|\n",
      "| Colombia|    19|      FW|        BORJA Miguel|     M. BORJA|  SE Palmeiras (BRA)|   183|    74| 26|    1|1993|       SA|\n",
      "| Colombia|    10|      MF|     RODRIGUEZ James|        JAMES|FC Bayern München...|   180|    75| 12|    7|1991|       SA|\n",
      "| Colombia|     7|      FW|        BACCA Carlos|        BACCA| Villarreal CF (ESP)|   181|    77|  8|    9|1986|       SA|\n",
      "| Colombia|    14|      FW|         MURIEL Luis|    L. MURIEL|    Sevilla FC (ESP)|   178|    79| 16|    4|1991|       SA|\n",
      "| Colombia|     1|      GK|        OSPINA David|       OSPINA|    Arsenal FC (ENG)|   183|    80| 31|    8|1988|       SA|\n",
      "| Colombia|     3|      DF|       MURILLO Oscar|   O. MURILLO|    CF Pachuca (MEX)|   184|    80| 18|    4|1988|       SA|\n",
      "| Colombia|    12|      GK|       VARGAS Camilo|    C. VARGAS|AC Deportivo Cali...|   185|    80|  9|    3|1989|       SA|\n",
      "| Colombia|    22|      GK|       CUADRADO Jose|J.F. CUADRADO|CD Once Caldas (COL)|   180|    80|  1|    6|1985|       SA|\n",
      "| Colombia|    23|      DF|    SANCHEZ Davinson|   D. SANCHEZ|Tottenham Hotspur...|   187|    81| 12|    6|1996|       SA|\n",
      "| Colombia|     2|      DF|     ZAPATA Cristian|    C. ZAPATA|      AC Milan (ITA)|   187|    82| 30|    9|1986|       SA|\n",
      "| Colombia|     6|      MF|      SANCHEZ Carlos|   C. SANCHEZ|  RCD Espanyol (ESP)|   182|    82|  6|    2|1986|       SA|\n",
      "| Colombia|     8|      MF|        AGUILAR Abel|   AGUILAR T.|AC Deportivo Cali...|   185|    82|  6|    1|1985|       SA|\n",
      "| Colombia|    13|      DF|          MINA Yerry|      Y. MINA|  FC Barcelona (ESP)|   194|    95| 23|    9|1994|       SA|\n",
      "|     Peru|     7|      MF|       HURTADO Paolo|      HURTADO|Vitoria Guimaraes...|   174|    66| 27|    7|1990|       SA|\n",
      "|     Peru|    11|      FW|        RUIDIAZ Raul|      RUIDIAZ|CA Monarcas Morel...|   169|    67| 25|    7|1990|       SA|\n",
      "|     Peru|    22|      DF|       LOYOLA Nilson|       LOYOLA|    FBC Melgar (PER)|   179|    68| 26|   10|1994|       SA|\n",
      "|     Peru|     8|      MF|     CUEVA Christian|        CUEVA|  Sao Paulo FC (BRA)|   169|    69| 23|   11|1991|       SA|\n",
      "|     Peru|    19|      MF|      YOTUN Yoshimar|        YOTUN|Orlando City SC (...|   172|    69|  7|    4|1990|       SA|\n",
      "|     Peru|    14|      MF|           POLO Andy|         POLO|Portland Timbers ...|   174|    71| 29|    9|1994|       SA|\n",
      "|     Peru|    23|      MF|        AQUINO Pedro|       AQUINO|    Lobos BUAP (MEX)|   174|    71| 13|    4|1995|       SA|\n",
      "|     Peru|    15|      DF|     RAMOS Christian|        RAMOS|CD Tiburones Rojo...|   182|    72|  4|   11|1988|       SA|\n",
      "|     Peru|    20|      FW|       FLORES Edison|       FLORES|    Aalborg BK (DEN)|   170|    72| 14|    5|1994|       SA|\n",
      "|     Peru|     6|      DF|       TRAUCO Miguel|       TRAUCO|   CR Flamengo (BRA)|   169|    74| 25|    8|1992|       SA|\n",
      "|     Peru|     3|      DF|          CORZO Aldo|        CORZO|Universitario Lim...|   172|    75| 20|    5|1989|       SA|\n",
      "|     Peru|    16|      MF|    CARTAGENA Wilder|    CARTAGENA|CD Tiburones Rojo...|   179|    76| 23|    9|1994|       SA|\n",
      "|     Peru|     5|      DF|       ARAUJO Miguel|       ARAUJO|  Alianza Lima (PER)|   178|    77| 24|   10|1994|       SA|\n",
      "|     Peru|    18|      FW|      CARRILLO Andre|     CARRILLO|    Watford FC (ENG)|   182|    77| 14|    6|1991|       SA|\n",
      "|     Peru|     2|      DF|   RODRIGUEZ Alberto|    RODRIGUEZ|Atletico Junior (...|   179|    78| 31|    3|1984|       SA|\n",
      "|     Peru|    12|      GK|       CACEDA Carlos|       CACEDA|Deportivo Municip...|   184|    78| 27|    9|1991|       SA|\n",
      "|     Peru|     1|      GK|       GALLESE Pedro|      GALLESE|CD Tiburones Rojo...|   189|    79| 23|    2|1990|       SA|\n",
      "|     Peru|    17|      DF|      ADVINCULA Luis|    ADVINCULA|    Lobos BUAP (MEX)|   178|    80|  2|    3|1990|       SA|\n",
      "|     Peru|     4|      DF| SANTAMARIA Anderson|   SANTAMARIA|     Puebla FC (MEX)|   183|    84| 10|    1|1992|       SA|\n",
      "|     Peru|    21|      GK|       CARVALLO Jose|     CARVALLO|Universidad Técni...|   182|    84|  1|    3|1986|       SA|\n",
      "|     Peru|    10|      FW|    FARFAN Jefferson|       FARFAN|FC Lokomotiv Mosc...|   177|    85| 26|   10|1984|       SA|\n",
      "|     Peru|    13|      MF|        TAPIA Renato|        TAPIA|Feyenoord Rotterd...|   185|    85| 28|    7|1995|       SA|\n",
      "|     Peru|     9|      FW|      GUERRERO Paolo|     GUERRERO|   CR Flamengo (BRA)|   185|    88|  1|    1|1984|       SA|\n",
      "|  Uruguay|     8|      MF|      NANDEZ Nahitan|       NANDEZ|CA Boca Juniors (...|   171|    61| 28|   12|1995|       SA|\n",
      "|  Uruguay|    14|      MF|      TORREIRA Lucas|     TORREIRA|  UC Sampdoria (ITA)|   168|    61| 11|    2|1996|       SA|\n",
      "|  Uruguay|    10|      FW|DE ARRASCAETA Gio...|DE ARRASCAETA|   Cruzeiro EC (BRA)|   172|    64|  1|    6|1994|       SA|\n",
      "|  Uruguay|    17|      MF|        LAXALT Diego|       LAXALT|     Genoa CFC (ITA)|   178|    66|  7|    2|1993|       SA|\n",
      "|  Uruguay|    20|      FW|URRETAVISCAYA Jon...|URRETAVISCAYA|  CF Monterrey (MEX)|   172|    66| 19|    3|1990|       SA|\n",
      "|  Uruguay|     4|      DF|    VARELA Guillermo|       VARELA|    CA Penarol (URU)|   173|    70| 24|    3|1993|       SA|\n",
      "|  Uruguay|     3|      DF|         GODIN Diego|        GODIN|Atletico Madrid (...|   185|    73| 16|    2|1986|       SA|\n",
      "|  Uruguay|     6|      MF|   BENTANCUR Rodrigo|    BENTANCUR|   Juventus FC (ITA)|   187|    73| 25|    6|1997|       SA|\n",
      "+---------+------+--------+--------------------+-------------+--------------------+------+------+---+-----+----+---------+\n",
      "only showing top 100 rows\n",
      "\n"
     ]
    }
   ],
   "source": [
    "# Display the first 100 rows of the combined DataFrame\n",
    "# - show(100): displays the first 100 rows of df_america\n",
    "df_america.show(100)"
   ]
  },
  {
   "cell_type": "markdown",
   "metadata": {},
   "source": [
    "## Joins"
   ]
  },
  {
   "cell_type": "code",
   "execution_count": 60,
   "metadata": {},
   "outputs": [
    {
     "name": "stdout",
     "output_type": "stream",
     "text": [
      "+---------+------+--------+------------------+----------+--------------------+------+------+---+-----+----+---------+\n",
      "|     Team|Number|Position| FIFA Popular Name|Shirt Name|                Club|Height|Weight|Day|Month|Year|Continent|\n",
      "+---------+------+--------+------------------+----------+--------------------+------+------+---+-----+----+---------+\n",
      "|Argentina|     3|      DF|TAGLIAFICO Nicolas|TAGLIAFICO|      AFC Ajax (NED)|   169|    65| 31|    8|1992|       SA|\n",
      "|Argentina|    22|      MF|    PAVON Cristian|     PAVÓN|CA Boca Juniors (...|   169|    65| 21|    1|1996|       SA|\n",
      "|Argentina|    15|      MF|    LANZINI Manuel|   LANZINI|West Ham United F...|   167|    66| 15|    2|1993|       SA|\n",
      "|Argentina|    18|      DF|    SALVIO Eduardo|    SALVIO|    SL Benfica (POR)|   167|    69| 13|    7|1990|       SA|\n",
      "|Argentina|    10|      FW|      MESSI Lionel|     MESSI|  FC Barcelona (ESP)|   170|    72| 24|    6|1987|       SA|\n",
      "+---------+------+--------+------------------+----------+--------------------+------+------+---+-----+----+---------+\n",
      "only showing top 5 rows\n",
      "\n"
     ]
    }
   ],
   "source": [
    "# Display the first 5 rows of the DataFrame\n",
    "# - show(5): displays the first 5 rows of df to provide a quick overview of the data\n",
    "df.show(5)"
   ]
  },
  {
   "cell_type": "code",
   "execution_count": 61,
   "metadata": {},
   "outputs": [],
   "source": [
    "# Filter the DataFrame to include only rows where the \"Team\" column is \"Argentina\"\n",
    "# - where(col(\"Team\") == \"Argentina\"): selects rows where the team is \"Argentina\"\n",
    "arg = df.where(col(\"Team\") == \"Argentina\")\n",
    "\n",
    "# Filter the DataFrame to include only rows where the \"Team\" column is \"Brazil\"\n",
    "# - where(col(\"Team\") == \"Brazil\"): selects rows where the team is \"Brazil\"\n",
    "bra = df.where(col(\"Team\") == \"Brazil\")"
   ]
  },
  {
   "cell_type": "code",
   "execution_count": 62,
   "metadata": {},
   "outputs": [],
   "source": [
    "# Drop specific columns from the Argentina DataFrame\n",
    "# - drop(col(\"Club\"), col(\"FIFA Popular Name\"), col(\"Day\"), col(\"Month\"), col(\"Year\"), col(\"Continent\"), col(\"Weight\")): \n",
    "arg = arg.drop(col(\"Club\"), col(\"FIFA Popular Name\"), col(\"Day\"), col(\"Month\"), col(\"Year\"), col(\"Continent\"), col(\"Weight\"))\n",
    "\n",
    "# Drop specific columns from the Brazil DataFrame\n",
    "# - drop(col(\"Club\"), col(\"FIFA Popular Name\"), col(\"Day\"), col(\"Month\"), col(\"Year\"), col(\"Continent\"), col(\"Weight\")): \n",
    "bra = bra.drop(col(\"Club\"), col(\"FIFA Popular Name\"), col(\"Day\"), col(\"Month\"), col(\"Year\"), col(\"Continent\"), col(\"Weight\"))\n"
   ]
  },
  {
   "cell_type": "code",
   "execution_count": 63,
   "metadata": {},
   "outputs": [
    {
     "name": "stdout",
     "output_type": "stream",
     "text": [
      "+---------+------+--------+----------+------+\n",
      "|     Team|Number|Position|Shirt Name|Height|\n",
      "+---------+------+--------+----------+------+\n",
      "|Argentina|     3|      DF|TAGLIAFICO|   169|\n",
      "|Argentina|    22|      MF|     PAVÓN|   169|\n",
      "|Argentina|    15|      MF|   LANZINI|   167|\n",
      "|Argentina|    18|      DF|    SALVIO|   167|\n",
      "|Argentina|    10|      FW|     MESSI|   170|\n",
      "+---------+------+--------+----------+------+\n",
      "only showing top 5 rows\n",
      "\n"
     ]
    }
   ],
   "source": [
    "# Display the first 5 rows of the filtered Argentina DataFrame with dropped columns\n",
    "# - show(5): displays the first 5 rows of arg to provide a view of the data after column removal\n",
    "arg.show(5)"
   ]
  },
  {
   "cell_type": "code",
   "execution_count": 64,
   "metadata": {},
   "outputs": [
    {
     "name": "stdout",
     "output_type": "stream",
     "text": [
      "+------+------+--------+-----------+------+\n",
      "|  Team|Number|Position| Shirt Name|Height|\n",
      "+------+------+--------+-----------+------+\n",
      "|Brazil|    18|      MF|       FRED|   169|\n",
      "|Brazil|    21|      FW|     TAISON|   172|\n",
      "|Brazil|    17|      MF|FERNANDINHO|   179|\n",
      "|Brazil|    22|      DF|     FAGNER|   168|\n",
      "|Brazil|    10|      FW|  NEYMAR JR|   175|\n",
      "+------+------+--------+-----------+------+\n",
      "only showing top 5 rows\n",
      "\n"
     ]
    }
   ],
   "source": [
    "# Display the first 5 rows of the filtered Brazil DataFrame with dropped columns\n",
    "# - show(5): displays the first 5 rows of bra to provide a view of the data after column removal\n",
    "bra.show(5)"
   ]
  },
  {
   "cell_type": "code",
   "execution_count": 65,
   "metadata": {},
   "outputs": [
    {
     "data": {
      "text/plain": [
       "23"
      ]
     },
     "execution_count": 65,
     "metadata": {},
     "output_type": "execute_result"
    }
   ],
   "source": [
    "# Count the number of rows in the DataFrame filtered for \"Argentina\"\n",
    "# - count(): returns the total number of rows in the DataFrame filtered for \"Argentina\"\n",
    "arg.count()"
   ]
  },
  {
   "cell_type": "code",
   "execution_count": 66,
   "metadata": {},
   "outputs": [
    {
     "data": {
      "text/plain": [
       "23"
      ]
     },
     "execution_count": 66,
     "metadata": {},
     "output_type": "execute_result"
    }
   ],
   "source": [
    "# Count the number of rows in the DataFrame filtered for \"Brazil\"\n",
    "# - count(): returns the total number of rows in the DataFrame filtered for \"Brazil\"\n",
    "bra.count()\n"
   ]
  },
  {
   "cell_type": "markdown",
   "metadata": {},
   "source": [
    "### Simple Join\n",
    "\n",
    "100% Matching Join Data"
   ]
  },
  {
   "cell_type": "code",
   "execution_count": 67,
   "metadata": {},
   "outputs": [
    {
     "name": "stdout",
     "output_type": "stream",
     "text": [
      "+---------+------+--------+----------+------+------+------+--------+-----------+------+\n",
      "|     Team|Number|Position|Shirt Name|Height|  Team|Number|Position| Shirt Name|Height|\n",
      "+---------+------+--------+----------+------+------+------+--------+-----------+------+\n",
      "|Argentina|     3|      DF|TAGLIAFICO|   169|Brazil|     3|      DF|    MIRANDA|   186|\n",
      "|Argentina|    22|      MF|     PAVÓN|   169|Brazil|    22|      DF|     FAGNER|   168|\n",
      "|Argentina|    15|      MF|   LANZINI|   167|Brazil|    15|      MF|   PAULINHO|   181|\n",
      "|Argentina|    18|      DF|    SALVIO|   167|Brazil|    18|      MF|       FRED|   169|\n",
      "|Argentina|    10|      FW|     MESSI|   170|Brazil|    10|      FW|  NEYMAR JR|   175|\n",
      "|Argentina|     4|      DF|   ANSALDI|   181|Brazil|     4|      DF|    GEROMEL|   190|\n",
      "|Argentina|     5|      MF|    BIGLIA|   175|Brazil|     5|      MF|   CASEMIRO|   185|\n",
      "|Argentina|     7|      MF|    BANEGA|   175|Brazil|     7|      FW|   D. COSTA|   182|\n",
      "|Argentina|    14|      DF|MASCHERANO|   174|Brazil|    14|      DF|     DANILO|   184|\n",
      "|Argentina|    21|      FW|    DYBALA|   177|Brazil|    21|      FW|     TAISON|   172|\n",
      "|Argentina|    19|      FW|    AGÜERO|   172|Brazil|    19|      MF|    WILLIAN|   175|\n",
      "|Argentina|     9|      FW|   HIGUAÍN|   184|Brazil|     9|      FW|   G. JESUS|   175|\n",
      "|Argentina|    11|      MF|  DI MARÍA|   178|Brazil|    11|      MF|P. COUTINHO|   172|\n",
      "|Argentina|    20|      MF|  LO CELSO|   177|Brazil|    20|      FW|    FIRMINO|   181|\n",
      "|Argentina|    13|      MF|      MEZA|   180|Brazil|    13|      DF| MARQUINHOS|   183|\n",
      "|Argentina|     8|      DF|     ACUÑA|   172|Brazil|     8|      MF| R. AUGUSTO|   186|\n",
      "|Argentina|    23|      GK| CABALLERO|   186|Brazil|    23|      GK|    EDERSON|   188|\n",
      "|Argentina|     2|      DF|   MERCADO|   181|Brazil|     2|      DF|   T. SILVA|   183|\n",
      "|Argentina|    17|      DF|  OTAMENDI|   181|Brazil|    17|      MF|FERNANDINHO|   179|\n",
      "|Argentina|    16|      DF|      ROJO|   189|Brazil|    16|      GK|     CASSIO|   195|\n",
      "|Argentina|     6|      DF|     FAZIO|   199|Brazil|     6|      DF|FILIPE LUIS|   182|\n",
      "|Argentina|    12|      GK|    ARMANI|   189|Brazil|    12|      DF|    MARCELO|   174|\n",
      "|Argentina|     1|      GK|    GUZMÁN|   192|Brazil|     1|      GK|  A. BECKER|   193|\n",
      "+---------+------+--------+----------+------+------+------+--------+-----------+------+\n",
      "\n"
     ]
    }
   ],
   "source": [
    "# Perform an inner join between the \"arg\" DataFrame (Argentina) and the \"bra\" DataFrame (Brazil)\n",
    "# - join(bra, arg.Number == bra.Number): joins the two DataFrames on the \"Number\" column, matching rows where \"Number\" values are equal\n",
    "# - new_df: stores the resulting DataFrame after the join\n",
    "# - show(23): displays the first 23 rows of the joined DataFrame to give an overview of the results\n",
    "new_df = arg.join(bra, arg.Number == bra.Number)\n",
    "new_df.show(23)"
   ]
  },
  {
   "cell_type": "code",
   "execution_count": 68,
   "metadata": {},
   "outputs": [
    {
     "name": "stdout",
     "output_type": "stream",
     "text": [
      "+---------+------+--------+----------+------+\n",
      "|     Team|Number|Position|Shirt Name|Height|\n",
      "+---------+------+--------+----------+------+\n",
      "|Argentina|     4|      DF|TAGLIAFICO|   169|\n",
      "|Argentina|    23|      MF|     PAVÓN|   169|\n",
      "|Argentina|    16|      MF|   LANZINI|   167|\n",
      "|Argentina|    19|      DF|    SALVIO|   167|\n",
      "|Argentina|    11|      FW|     MESSI|   170|\n",
      "|Argentina|     5|      DF|   ANSALDI|   181|\n",
      "|Argentina|     6|      MF|    BIGLIA|   175|\n",
      "|Argentina|     8|      MF|    BANEGA|   175|\n",
      "|Argentina|    15|      DF|MASCHERANO|   174|\n",
      "|Argentina|    22|      FW|    DYBALA|   177|\n",
      "|Argentina|    20|      FW|    AGÜERO|   172|\n",
      "|Argentina|    10|      FW|   HIGUAÍN|   184|\n",
      "|Argentina|    12|      MF|  DI MARÍA|   178|\n",
      "|Argentina|    21|      MF|  LO CELSO|   177|\n",
      "|Argentina|    14|      MF|      MEZA|   180|\n",
      "|Argentina|     9|      DF|     ACUÑA|   172|\n",
      "|Argentina|    24|      GK| CABALLERO|   186|\n",
      "|Argentina|     3|      DF|   MERCADO|   181|\n",
      "|Argentina|    18|      DF|  OTAMENDI|   181|\n",
      "|Argentina|    17|      DF|      ROJO|   189|\n",
      "|Argentina|     7|      DF|     FAZIO|   199|\n",
      "|Argentina|    13|      GK|    ARMANI|   189|\n",
      "|Argentina|     2|      GK|    GUZMÁN|   192|\n",
      "+---------+------+--------+----------+------+\n",
      "\n"
     ]
    }
   ],
   "source": [
    "# Increment the \"Number\" column by 1 in the \"arg\" DataFrame (Argentina)\n",
    "# - withColumn(\"Number\", col(\"Number\") + 1): creates a new column \"Number\" with each value incremented by 1\n",
    "# - show(23): displays the first 23 rows of the updated \"arg\" DataFrame to show the changes\n",
    "arg = arg.withColumn(\"Number\", col(\"Number\") + 1)\n",
    "arg.show(23)"
   ]
  },
  {
   "cell_type": "markdown",
   "metadata": {},
   "source": [
    "### Inner Join\n",
    "\n",
    "Shows only data that has matches"
   ]
  },
  {
   "cell_type": "code",
   "execution_count": 69,
   "metadata": {},
   "outputs": [
    {
     "name": "stdout",
     "output_type": "stream",
     "text": [
      "+---------+------+--------+----------+------+------+------+--------+-----------+------+\n",
      "|     Team|Number|Position|Shirt Name|Height|  Team|Number|Position| Shirt Name|Height|\n",
      "+---------+------+--------+----------+------+------+------+--------+-----------+------+\n",
      "|Argentina|     4|      DF|TAGLIAFICO|   169|Brazil|     4|      DF|    GEROMEL|   190|\n",
      "|Argentina|    23|      MF|     PAVÓN|   169|Brazil|    23|      GK|    EDERSON|   188|\n",
      "|Argentina|    16|      MF|   LANZINI|   167|Brazil|    16|      GK|     CASSIO|   195|\n",
      "|Argentina|    19|      DF|    SALVIO|   167|Brazil|    19|      MF|    WILLIAN|   175|\n",
      "|Argentina|    11|      FW|     MESSI|   170|Brazil|    11|      MF|P. COUTINHO|   172|\n",
      "|Argentina|     5|      DF|   ANSALDI|   181|Brazil|     5|      MF|   CASEMIRO|   185|\n",
      "|Argentina|     6|      MF|    BIGLIA|   175|Brazil|     6|      DF|FILIPE LUIS|   182|\n",
      "|Argentina|     8|      MF|    BANEGA|   175|Brazil|     8|      MF| R. AUGUSTO|   186|\n",
      "|Argentina|    15|      DF|MASCHERANO|   174|Brazil|    15|      MF|   PAULINHO|   181|\n",
      "|Argentina|    22|      FW|    DYBALA|   177|Brazil|    22|      DF|     FAGNER|   168|\n",
      "|Argentina|    20|      FW|    AGÜERO|   172|Brazil|    20|      FW|    FIRMINO|   181|\n",
      "|Argentina|    10|      FW|   HIGUAÍN|   184|Brazil|    10|      FW|  NEYMAR JR|   175|\n",
      "|Argentina|    12|      MF|  DI MARÍA|   178|Brazil|    12|      DF|    MARCELO|   174|\n",
      "|Argentina|    21|      MF|  LO CELSO|   177|Brazil|    21|      FW|     TAISON|   172|\n",
      "|Argentina|    14|      MF|      MEZA|   180|Brazil|    14|      DF|     DANILO|   184|\n",
      "|Argentina|     9|      DF|     ACUÑA|   172|Brazil|     9|      FW|   G. JESUS|   175|\n",
      "|Argentina|     3|      DF|   MERCADO|   181|Brazil|     3|      DF|    MIRANDA|   186|\n",
      "|Argentina|    18|      DF|  OTAMENDI|   181|Brazil|    18|      MF|       FRED|   169|\n",
      "|Argentina|    17|      DF|      ROJO|   189|Brazil|    17|      MF|FERNANDINHO|   179|\n",
      "|Argentina|     7|      DF|     FAZIO|   199|Brazil|     7|      FW|   D. COSTA|   182|\n",
      "|Argentina|    13|      GK|    ARMANI|   189|Brazil|    13|      DF| MARQUINHOS|   183|\n",
      "|Argentina|     2|      GK|    GUZMÁN|   192|Brazil|     2|      DF|   T. SILVA|   183|\n",
      "+---------+------+--------+----------+------+------+------+--------+-----------+------+\n",
      "\n"
     ]
    }
   ],
   "source": [
    "# Perform an inner join between the \"arg\" DataFrame (Argentina) and the \"bra\" DataFrame (Brazil) with an explicit join type\n",
    "# - join(bra, arg[\"Number\"] == bra[\"Number\"], \"inner\"): performs an inner join between the two DataFrames on the \"Number\" column,\n",
    "#   explicitly specifying the join type as \"inner\". This joins rows where \"Number\" values are equal in both DataFrames.\n",
    "# - new_df: stores the resulting DataFrame after the join\n",
    "# - show(23): displays the first 23 rows of the joined DataFrame to provide an overview of the results\n",
    "new_df = arg.join(bra, arg[\"Number\"] == bra[\"Number\"], \"inner\")\n",
    "new_df.show(23)"
   ]
  },
  {
   "cell_type": "code",
   "execution_count": 70,
   "metadata": {},
   "outputs": [
    {
     "data": {
      "text/plain": [
       "22"
      ]
     },
     "execution_count": 70,
     "metadata": {},
     "output_type": "execute_result"
    }
   ],
   "source": [
    "# Count the number of rows in the resulting DataFrame from the join\n",
    "# - count(): returns the total number of rows in the DataFrame `new_df`\n",
    "new_df.count()"
   ]
  },
  {
   "cell_type": "markdown",
   "metadata": {},
   "source": [
    "### Left Join\n",
    "\n",
    "Shows all DataFrame Data on the LEFT side\n",
    "\n",
    "*obs:* Values ​​on the right side that do not match will be shown as null"
   ]
  },
  {
   "cell_type": "code",
   "execution_count": 71,
   "metadata": {},
   "outputs": [
    {
     "name": "stdout",
     "output_type": "stream",
     "text": [
      "+---------+------+--------+----------+------+------+------+--------+-----------+------+\n",
      "|     Team|Number|Position|Shirt Name|Height|  Team|Number|Position| Shirt Name|Height|\n",
      "+---------+------+--------+----------+------+------+------+--------+-----------+------+\n",
      "|Argentina|     4|      DF|TAGLIAFICO|   169|Brazil|     4|      DF|    GEROMEL|   190|\n",
      "|Argentina|    23|      MF|     PAVÓN|   169|Brazil|    23|      GK|    EDERSON|   188|\n",
      "|Argentina|    16|      MF|   LANZINI|   167|Brazil|    16|      GK|     CASSIO|   195|\n",
      "|Argentina|    19|      DF|    SALVIO|   167|Brazil|    19|      MF|    WILLIAN|   175|\n",
      "|Argentina|    11|      FW|     MESSI|   170|Brazil|    11|      MF|P. COUTINHO|   172|\n",
      "|Argentina|     5|      DF|   ANSALDI|   181|Brazil|     5|      MF|   CASEMIRO|   185|\n",
      "|Argentina|     6|      MF|    BIGLIA|   175|Brazil|     6|      DF|FILIPE LUIS|   182|\n",
      "|Argentina|     8|      MF|    BANEGA|   175|Brazil|     8|      MF| R. AUGUSTO|   186|\n",
      "|Argentina|    15|      DF|MASCHERANO|   174|Brazil|    15|      MF|   PAULINHO|   181|\n",
      "|Argentina|    22|      FW|    DYBALA|   177|Brazil|    22|      DF|     FAGNER|   168|\n",
      "|Argentina|    20|      FW|    AGÜERO|   172|Brazil|    20|      FW|    FIRMINO|   181|\n",
      "|Argentina|    10|      FW|   HIGUAÍN|   184|Brazil|    10|      FW|  NEYMAR JR|   175|\n",
      "|Argentina|    12|      MF|  DI MARÍA|   178|Brazil|    12|      DF|    MARCELO|   174|\n",
      "|Argentina|    21|      MF|  LO CELSO|   177|Brazil|    21|      FW|     TAISON|   172|\n",
      "|Argentina|    14|      MF|      MEZA|   180|Brazil|    14|      DF|     DANILO|   184|\n",
      "|Argentina|     9|      DF|     ACUÑA|   172|Brazil|     9|      FW|   G. JESUS|   175|\n",
      "|Argentina|    24|      GK| CABALLERO|   186|  NULL|  NULL|    NULL|       NULL|  NULL|\n",
      "|Argentina|     3|      DF|   MERCADO|   181|Brazil|     3|      DF|    MIRANDA|   186|\n",
      "|Argentina|    18|      DF|  OTAMENDI|   181|Brazil|    18|      MF|       FRED|   169|\n",
      "|Argentina|    17|      DF|      ROJO|   189|Brazil|    17|      MF|FERNANDINHO|   179|\n",
      "|Argentina|     7|      DF|     FAZIO|   199|Brazil|     7|      FW|   D. COSTA|   182|\n",
      "|Argentina|    13|      GK|    ARMANI|   189|Brazil|    13|      DF| MARQUINHOS|   183|\n",
      "|Argentina|     2|      GK|    GUZMÁN|   192|Brazil|     2|      DF|   T. SILVA|   183|\n",
      "+---------+------+--------+----------+------+------+------+--------+-----------+------+\n",
      "\n"
     ]
    }
   ],
   "source": [
    "# Perform a left join between the \"arg\" DataFrame (Argentina) and the \"bra\" DataFrame (Brazil) with an explicit join type\n",
    "# - join(bra, arg[\"Number\"] == bra[\"Number\"], \"left\"): performs a left join between the two DataFrames on the \"Number\" column,\n",
    "#   explicitly specifying the join type as \"left\". This means that all rows from the left DataFrame (\"arg\") will be included in the result,\n",
    "#   and matching rows from the right DataFrame (\"bra\") will be included where available. Rows from the left DataFrame without a match\n",
    "#   in the right DataFrame will have null values for columns from the right DataFrame.\n",
    "# - new_df: stores the resulting DataFrame after the join\n",
    "# - show(23): displays the first 23 rows of the joined DataFrame to provide an overview of the results\n",
    "new_df = arg.join(bra, arg[\"Number\"] == bra[\"Number\"], \"left\")\n",
    "new_df.show(23)"
   ]
  },
  {
   "cell_type": "code",
   "execution_count": 72,
   "metadata": {},
   "outputs": [
    {
     "data": {
      "text/plain": [
       "23"
      ]
     },
     "execution_count": 72,
     "metadata": {},
     "output_type": "execute_result"
    }
   ],
   "source": [
    "# Count the number of rows in the resulting DataFrame from the join\n",
    "# - count(): returns the total number of rows in the DataFrame `new_df`\n",
    "new_df.count()"
   ]
  },
  {
   "cell_type": "markdown",
   "metadata": {},
   "source": [
    "### Right Join\n",
    "\n",
    "Shows all DataFrame Data on the RIGHT side\n",
    "\n",
    "*obs:* Values ​​on the left side that do not match will be shown as null"
   ]
  },
  {
   "cell_type": "code",
   "execution_count": 73,
   "metadata": {},
   "outputs": [
    {
     "name": "stdout",
     "output_type": "stream",
     "text": [
      "+---------+------+--------+----------+------+------+------+--------+-----------+------+\n",
      "|     Team|Number|Position|Shirt Name|Height|  Team|Number|Position| Shirt Name|Height|\n",
      "+---------+------+--------+----------+------+------+------+--------+-----------+------+\n",
      "|Argentina|    18|      DF|  OTAMENDI|   181|Brazil|    18|      MF|       FRED|   169|\n",
      "|Argentina|    21|      MF|  LO CELSO|   177|Brazil|    21|      FW|     TAISON|   172|\n",
      "|Argentina|    17|      DF|      ROJO|   189|Brazil|    17|      MF|FERNANDINHO|   179|\n",
      "|Argentina|    22|      FW|    DYBALA|   177|Brazil|    22|      DF|     FAGNER|   168|\n",
      "|Argentina|    10|      FW|   HIGUAÍN|   184|Brazil|    10|      FW|  NEYMAR JR|   175|\n",
      "|Argentina|    11|      FW|     MESSI|   170|Brazil|    11|      MF|P. COUTINHO|   172|\n",
      "|Argentina|     7|      DF|     FAZIO|   199|Brazil|     7|      FW|   D. COSTA|   182|\n",
      "|Argentina|     6|      MF|    BIGLIA|   175|Brazil|     6|      DF|FILIPE LUIS|   182|\n",
      "|Argentina|     9|      DF|     ACUÑA|   172|Brazil|     9|      FW|   G. JESUS|   175|\n",
      "|Argentina|    13|      GK|    ARMANI|   189|Brazil|    13|      DF| MARQUINHOS|   183|\n",
      "|Argentina|    20|      FW|    AGÜERO|   172|Brazil|    20|      FW|    FIRMINO|   181|\n",
      "|Argentina|    19|      DF|    SALVIO|   167|Brazil|    19|      MF|    WILLIAN|   175|\n",
      "|Argentina|     3|      DF|   MERCADO|   181|Brazil|     3|      DF|    MIRANDA|   186|\n",
      "|Argentina|    14|      MF|      MEZA|   180|Brazil|    14|      DF|     DANILO|   184|\n",
      "|Argentina|     2|      GK|    GUZMÁN|   192|Brazil|     2|      DF|   T. SILVA|   183|\n",
      "|Argentina|    12|      MF|  DI MARÍA|   178|Brazil|    12|      DF|    MARCELO|   174|\n",
      "|Argentina|    15|      DF|MASCHERANO|   174|Brazil|    15|      MF|   PAULINHO|   181|\n",
      "|Argentina|     4|      DF|TAGLIAFICO|   169|Brazil|     4|      DF|    GEROMEL|   190|\n",
      "|Argentina|     5|      DF|   ANSALDI|   181|Brazil|     5|      MF|   CASEMIRO|   185|\n",
      "|Argentina|     8|      MF|    BANEGA|   175|Brazil|     8|      MF| R. AUGUSTO|   186|\n",
      "|Argentina|    23|      MF|     PAVÓN|   169|Brazil|    23|      GK|    EDERSON|   188|\n",
      "|     NULL|  NULL|    NULL|      NULL|  NULL|Brazil|     1|      GK|  A. BECKER|   193|\n",
      "|Argentina|    16|      MF|   LANZINI|   167|Brazil|    16|      GK|     CASSIO|   195|\n",
      "+---------+------+--------+----------+------+------+------+--------+-----------+------+\n",
      "\n"
     ]
    }
   ],
   "source": [
    "# Perform a right join between the \"arg\" DataFrame (Argentina) and the \"bra\" DataFrame (Brazil) with an explicit join type\n",
    "# - join(bra, arg[\"Number\"] == bra[\"Number\"], \"right\"): performs a right join between the two DataFrames on the \"Number\" column,\n",
    "#   explicitly specifying the join type as \"right\". This means that all rows from the right DataFrame (\"bra\") will be included in the result,\n",
    "#   and matching rows from the left DataFrame (\"arg\") will be included where available. Rows from the right DataFrame without a match\n",
    "#   in the left DataFrame will have null values for columns from the left DataFrame.\n",
    "# - new_df: stores the resulting DataFrame after the join\n",
    "# - show(23): displays the first 23 rows of the joined DataFrame to provide an overview of the results\n",
    "new_df = arg.join(bra, arg[\"Number\"] == bra[\"Number\"], \"right\")\n",
    "new_df.show(23)"
   ]
  },
  {
   "cell_type": "code",
   "execution_count": 74,
   "metadata": {},
   "outputs": [
    {
     "data": {
      "text/plain": [
       "23"
      ]
     },
     "execution_count": 74,
     "metadata": {},
     "output_type": "execute_result"
    }
   ],
   "source": [
    "# Count the number of rows in the resulting DataFrame from the join\n",
    "# - count(): returns the total number of rows in the DataFrame `new_df`\n",
    "new_df.count()"
   ]
  },
  {
   "cell_type": "markdown",
   "metadata": {},
   "source": [
    "### Full Join\n",
    "\n",
    "All lines will be shown\n",
    "\n",
    "*obs:* Values ​​that do not match will be shown as null on both sides"
   ]
  },
  {
   "cell_type": "code",
   "execution_count": 75,
   "metadata": {},
   "outputs": [
    {
     "name": "stdout",
     "output_type": "stream",
     "text": [
      "+---------+------+--------+----------+------+------+------+--------+-----------+------+\n",
      "|     Team|Number|Position|Shirt Name|Height|  Team|Number|Position| Shirt Name|Height|\n",
      "+---------+------+--------+----------+------+------+------+--------+-----------+------+\n",
      "|     NULL|  NULL|    NULL|      NULL|  NULL|Brazil|     1|      GK|  A. BECKER|   193|\n",
      "|Argentina|     2|      GK|    GUZMÁN|   192|Brazil|     2|      DF|   T. SILVA|   183|\n",
      "|Argentina|     3|      DF|   MERCADO|   181|Brazil|     3|      DF|    MIRANDA|   186|\n",
      "|Argentina|     4|      DF|TAGLIAFICO|   169|Brazil|     4|      DF|    GEROMEL|   190|\n",
      "|Argentina|     5|      DF|   ANSALDI|   181|Brazil|     5|      MF|   CASEMIRO|   185|\n",
      "|Argentina|     6|      MF|    BIGLIA|   175|Brazil|     6|      DF|FILIPE LUIS|   182|\n",
      "|Argentina|     7|      DF|     FAZIO|   199|Brazil|     7|      FW|   D. COSTA|   182|\n",
      "|Argentina|     8|      MF|    BANEGA|   175|Brazil|     8|      MF| R. AUGUSTO|   186|\n",
      "|Argentina|     9|      DF|     ACUÑA|   172|Brazil|     9|      FW|   G. JESUS|   175|\n",
      "|Argentina|    10|      FW|   HIGUAÍN|   184|Brazil|    10|      FW|  NEYMAR JR|   175|\n",
      "|Argentina|    11|      FW|     MESSI|   170|Brazil|    11|      MF|P. COUTINHO|   172|\n",
      "|Argentina|    12|      MF|  DI MARÍA|   178|Brazil|    12|      DF|    MARCELO|   174|\n",
      "|Argentina|    13|      GK|    ARMANI|   189|Brazil|    13|      DF| MARQUINHOS|   183|\n",
      "|Argentina|    14|      MF|      MEZA|   180|Brazil|    14|      DF|     DANILO|   184|\n",
      "|Argentina|    15|      DF|MASCHERANO|   174|Brazil|    15|      MF|   PAULINHO|   181|\n",
      "|Argentina|    16|      MF|   LANZINI|   167|Brazil|    16|      GK|     CASSIO|   195|\n",
      "|Argentina|    17|      DF|      ROJO|   189|Brazil|    17|      MF|FERNANDINHO|   179|\n",
      "|Argentina|    18|      DF|  OTAMENDI|   181|Brazil|    18|      MF|       FRED|   169|\n",
      "|Argentina|    19|      DF|    SALVIO|   167|Brazil|    19|      MF|    WILLIAN|   175|\n",
      "|Argentina|    20|      FW|    AGÜERO|   172|Brazil|    20|      FW|    FIRMINO|   181|\n",
      "|Argentina|    21|      MF|  LO CELSO|   177|Brazil|    21|      FW|     TAISON|   172|\n",
      "|Argentina|    22|      FW|    DYBALA|   177|Brazil|    22|      DF|     FAGNER|   168|\n",
      "|Argentina|    23|      MF|     PAVÓN|   169|Brazil|    23|      GK|    EDERSON|   188|\n",
      "|Argentina|    24|      GK| CABALLERO|   186|  NULL|  NULL|    NULL|       NULL|  NULL|\n",
      "+---------+------+--------+----------+------+------+------+--------+-----------+------+\n",
      "\n"
     ]
    }
   ],
   "source": [
    "# Perform a full outer join between the \"arg\" DataFrame (Argentina) and the \"bra\" DataFrame (Brazil) with an explicit join type\n",
    "# - join(bra, arg[\"Number\"] == bra[\"Number\"], \"full\"): performs a full outer join between the two DataFrames on the \"Number\" column,\n",
    "#   explicitly specifying the join type as \"full\". This means that all rows from both DataFrames will be included in the result,\n",
    "#   with matching rows from both DataFrames combined where \"Number\" values match. Rows from either DataFrame that do not have a match\n",
    "#   in the other DataFrame will have null values for the columns from the DataFrame without a match.\n",
    "# - new_df: stores the resulting DataFrame after the join\n",
    "# - show(24): displays the first 24 rows of the joined DataFrame to provide an overview of the results\n",
    "new_df = arg.join(bra, arg[\"Number\"] == bra[\"Number\"], \"full\")\n",
    "new_df.show(24)"
   ]
  },
  {
   "cell_type": "code",
   "execution_count": 76,
   "metadata": {},
   "outputs": [
    {
     "data": {
      "text/plain": [
       "24"
      ]
     },
     "execution_count": 76,
     "metadata": {},
     "output_type": "execute_result"
    }
   ],
   "source": [
    "# Count the number of rows in the resulting DataFrame from the join\n",
    "# - count(): returns the total number of rows in the DataFrame `new_df`\n",
    "new_df.count()"
   ]
  },
  {
   "cell_type": "markdown",
   "metadata": {},
   "source": [
    "### Semi Join\n",
    "\n",
    "Similar to Inner Join, but only data from the left DataFrame is shown"
   ]
  },
  {
   "cell_type": "code",
   "execution_count": 77,
   "metadata": {},
   "outputs": [
    {
     "name": "stdout",
     "output_type": "stream",
     "text": [
      "+---------+------+--------+----------+------+\n",
      "|     Team|Number|Position|Shirt Name|Height|\n",
      "+---------+------+--------+----------+------+\n",
      "|Argentina|     4|      DF|TAGLIAFICO|   169|\n",
      "|Argentina|    23|      MF|     PAVÓN|   169|\n",
      "|Argentina|    16|      MF|   LANZINI|   167|\n",
      "|Argentina|    19|      DF|    SALVIO|   167|\n",
      "|Argentina|    11|      FW|     MESSI|   170|\n",
      "|Argentina|     5|      DF|   ANSALDI|   181|\n",
      "|Argentina|     6|      MF|    BIGLIA|   175|\n",
      "|Argentina|     8|      MF|    BANEGA|   175|\n",
      "|Argentina|    15|      DF|MASCHERANO|   174|\n",
      "|Argentina|    22|      FW|    DYBALA|   177|\n",
      "|Argentina|    20|      FW|    AGÜERO|   172|\n",
      "|Argentina|    10|      FW|   HIGUAÍN|   184|\n",
      "|Argentina|    12|      MF|  DI MARÍA|   178|\n",
      "|Argentina|    21|      MF|  LO CELSO|   177|\n",
      "|Argentina|    14|      MF|      MEZA|   180|\n",
      "|Argentina|     9|      DF|     ACUÑA|   172|\n",
      "|Argentina|     3|      DF|   MERCADO|   181|\n",
      "|Argentina|    18|      DF|  OTAMENDI|   181|\n",
      "|Argentina|    17|      DF|      ROJO|   189|\n",
      "|Argentina|     7|      DF|     FAZIO|   199|\n",
      "|Argentina|    13|      GK|    ARMANI|   189|\n",
      "|Argentina|     2|      GK|    GUZMÁN|   192|\n",
      "+---------+------+--------+----------+------+\n",
      "\n"
     ]
    }
   ],
   "source": [
    "# Perform a semi join between the \"arg\" DataFrame (Argentina) and the \"bra\" DataFrame (Brazil) with an explicit join type\n",
    "# - join(bra, arg[\"Number\"] == bra[\"Number\"], \"semi\"): performs a semi join between the two DataFrames on the \"Number\" column,\n",
    "#   explicitly specifying the join type as \"semi\". This join returns only the rows from the left DataFrame (\"arg\") where there is\n",
    "#   at least one matching row in the right DataFrame (\"bra\") based on the \"Number\" column. It does not include columns from the right DataFrame.\n",
    "# - new_df: stores the resulting DataFrame after the join\n",
    "# - show(23): displays the first 23 rows of the joined DataFrame to provide an overview of the results\n",
    "new_df = arg.join(bra, arg[\"Number\"] == bra[\"Number\"], \"semi\")\n",
    "new_df.show(23)"
   ]
  },
  {
   "cell_type": "code",
   "execution_count": 78,
   "metadata": {},
   "outputs": [
    {
     "data": {
      "text/plain": [
       "22"
      ]
     },
     "execution_count": 78,
     "metadata": {},
     "output_type": "execute_result"
    }
   ],
   "source": [
    "# Count the number of rows in the resulting DataFrame from the join\n",
    "# - count(): returns the total number of rows in the DataFrame `new_df`\n",
    "new_df.count()"
   ]
  },
  {
   "cell_type": "markdown",
   "metadata": {},
   "source": [
    "### Anti Join\n",
    "\n",
    "Show data from the DataFrame on the left that has NO matches"
   ]
  },
  {
   "cell_type": "code",
   "execution_count": 79,
   "metadata": {},
   "outputs": [
    {
     "name": "stdout",
     "output_type": "stream",
     "text": [
      "+---------+------+--------+----------+------+\n",
      "|     Team|Number|Position|Shirt Name|Height|\n",
      "+---------+------+--------+----------+------+\n",
      "|Argentina|    24|      GK| CABALLERO|   186|\n",
      "+---------+------+--------+----------+------+\n",
      "\n"
     ]
    }
   ],
   "source": [
    "# Perform an anti join between the \"arg\" DataFrame (Argentina) and the \"bra\" DataFrame (Brazil) with an explicit join type\n",
    "# - join(bra, arg[\"Number\"] == bra[\"Number\"], \"anti\"): performs an anti join between the two DataFrames on the \"Number\" column,\n",
    "#   explicitly specifying the join type as \"anti\". This join returns only the rows from the left DataFrame (\"arg\") where there is\n",
    "#   no matching row in the right DataFrame (\"bra\") based on the \"Number\" column. It excludes rows from the left DataFrame that have\n",
    "#   any matching rows in the right DataFrame.\n",
    "# - new_df: stores the resulting DataFrame after the join\n",
    "# - show(23): displays the first 23 rows of the joined DataFrame to provide an overview of the results\n",
    "new_df = arg.join(bra, arg[\"Number\"] == bra[\"Number\"], \"anti\")\n",
    "new_df.show(23)"
   ]
  },
  {
   "cell_type": "code",
   "execution_count": 80,
   "metadata": {},
   "outputs": [
    {
     "data": {
      "text/plain": [
       "1"
      ]
     },
     "execution_count": 80,
     "metadata": {},
     "output_type": "execute_result"
    }
   ],
   "source": [
    "# Count the number of rows in the resulting DataFrame from the join\n",
    "# - count(): returns the total number of rows in the DataFrame `new_df`\n",
    "new_df.count()"
   ]
  }
 ],
 "metadata": {
  "kernelspec": {
   "display_name": "Python 3",
   "language": "python",
   "name": "python3"
  },
  "language_info": {
   "codemirror_mode": {
    "name": "ipython",
    "version": 3
   },
   "file_extension": ".py",
   "mimetype": "text/x-python",
   "name": "python",
   "nbconvert_exporter": "python",
   "pygments_lexer": "ipython3",
   "version": "3.12.3"
  }
 },
 "nbformat": 4,
 "nbformat_minor": 2
}
