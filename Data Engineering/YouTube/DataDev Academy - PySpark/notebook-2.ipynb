{
 "cells": [
  {
   "cell_type": "markdown",
   "metadata": {},
   "source": [
    "# PySpark YouTube Course - Lesson 02\n",
    "\n",
    "This notebook contains all the materials and notes from the PySpark Course: 'PySpark - Aula 02 - Window Functions - Português - Hands On' by DataDev Academy, available on YouTube. You can find the video [here](https://www.youtube.com/watch?v=MG-QBpEXvjg)."
   ]
  },
  {
   "cell_type": "markdown",
   "metadata": {},
   "source": [
    "## Summary\n",
    "\n",
    "- [PySpark YouTube Course - Lesson 02](#pyspark-youtube-course---lesson-02)\n",
    "  - [Summary](#summary)\n",
    "  - [Importing PySpark](#importing-pyspark)\n",
    "  - [Starting PySpark Session](#starting-pyspark-session)\n",
    "  - [Reading a File](#reading-a-file)\n",
    "  - [Displaying the DataFrame](#displaying-the-dataframe)\n",
    "  - [PySpark 01 Changes](#pyspark-01-changes)\n",
    "  - [Creating Backup](#creating-backup)\n",
    "  - [Window Ranking Functions](#window-ranking-functions)\n",
    "    - [Window Function 1 - Number of Rows: `row_number()`](#window-function-1---number-of-rows-row_number)\n",
    "    - [Window Function 2 - Ranking 1: `rank()`](#window-function-2---ranking-1-rank)\n",
    "    - [Window Function 3 - Ranking 2: `dense_rank()`](#window-function-3---ranking-2-dense_rank)\n",
    "    - [Window Function 4 - Percentage Ranking: `percent_rank()`](#window-function-4---percentage-ranking-percent_rank)\n",
    "    - [Window Function 5 - Division into 'N' Parts: `ntile()`](#window-function-5---division-into-n-parts-ntile)\n",
    "  - [Window Analytic Functions](#window-analytic-functions)\n",
    "    - [Window Function 6 - LAG / Offset: `lag()`](#window-function-6---lag--offset-lag)\n",
    "    - [Window Function 7 - Lead / Offset: `lead()`](#window-function-7---lead--offset-lead)\n",
    "  - [Aggregations](#aggregations)\n",
    "    - [GroupBy + AGG 1](#groupby--agg-1)\n",
    "    - [GroupBy + AGG 2](#groupby--agg-2)\n",
    "  - [Where (Filter)](#where-filter)\n",
    "  - [Describe](#describe)\n",
    "  - [Aggregation Function Using Window Function](#aggregation-function-using-window-function)"
   ]
  },
  {
   "cell_type": "markdown",
   "metadata": {},
   "source": [
    "## Importing PySpark"
   ]
  },
  {
   "cell_type": "code",
   "execution_count": 51,
   "metadata": {},
   "outputs": [],
   "source": [
    "# Importing PySpark modules\n",
    "from pyspark.sql import SparkSession\n",
    "from pyspark.sql.functions import *\n",
    "from pyspark.sql.types import *\n",
    "from pyspark.sql.window import Window  # Importing window functions"
   ]
  },
  {
   "cell_type": "markdown",
   "metadata": {},
   "source": [
    "## Starting PySpark Session"
   ]
  },
  {
   "cell_type": "code",
   "execution_count": 52,
   "metadata": {},
   "outputs": [],
   "source": [
    "# Creating a Spark session\n",
    "# - master: defines the cluster manager, 'local' means running on a local machine\n",
    "# - appName: sets the name of your application\n",
    "spark = SparkSession.builder \\\n",
    "    .master(\"local\") \\\n",
    "    .appName(\"pyspark-02\") \\\n",
    "    .getOrCreate()"
   ]
  },
  {
   "cell_type": "markdown",
   "metadata": {},
   "source": [
    "## Reading a File"
   ]
  },
  {
   "cell_type": "code",
   "execution_count": 53,
   "metadata": {},
   "outputs": [],
   "source": [
    "# Reading a CSV file into a DataFrame\n",
    "# - path: specifies the location of the file\n",
    "# - header: indicates if the file contains a header row\n",
    "# - inferSchema: automatically infers the data types of the columns\n",
    "df = spark.read.csv(\"./data/wc2018-players.csv\", header=True, inferSchema=True)"
   ]
  },
  {
   "cell_type": "markdown",
   "metadata": {},
   "source": [
    "## Displaying the DataFrame"
   ]
  },
  {
   "cell_type": "code",
   "execution_count": 54,
   "metadata": {},
   "outputs": [
    {
     "name": "stdout",
     "output_type": "stream",
     "text": [
      "+---------+---+----+------------------+----------+----------+--------------------+------+------+\n",
      "|     Team|  #|Pos.| FIFA Popular Name|Birth Date|Shirt Name|                Club|Height|Weight|\n",
      "+---------+---+----+------------------+----------+----------+--------------------+------+------+\n",
      "|Argentina|  3|  DF|TAGLIAFICO Nicolas|31.08.1992|TAGLIAFICO|      AFC Ajax (NED)|   169|    65|\n",
      "|Argentina| 22|  MF|    PAVON Cristian|21.01.1996|     PAVÓN|CA Boca Juniors (...|   169|    65|\n",
      "|Argentina| 15|  MF|    LANZINI Manuel|15.02.1993|   LANZINI|West Ham United F...|   167|    66|\n",
      "|Argentina| 18|  DF|    SALVIO Eduardo|13.07.1990|    SALVIO|    SL Benfica (POR)|   167|    69|\n",
      "|Argentina| 10|  FW|      MESSI Lionel|24.06.1987|     MESSI|  FC Barcelona (ESP)|   170|    72|\n",
      "+---------+---+----+------------------+----------+----------+--------------------+------+------+\n",
      "only showing top 5 rows\n",
      "\n"
     ]
    }
   ],
   "source": [
    "# - show(5): shows the first 5 rows of the DataFrame\n",
    "df.show(5)"
   ]
  },
  {
   "cell_type": "markdown",
   "metadata": {},
   "source": [
    "## PySpark 01 Changes"
   ]
  },
  {
   "cell_type": "code",
   "execution_count": 55,
   "metadata": {},
   "outputs": [],
   "source": [
    "# Renaming columns in the DataFrame\n",
    "# - withColumnRenamed(\"oldName\", \"newName\"): renames a column from oldName to newName\n",
    "df = df.withColumnRenamed(\"Pos.\", \"Position\") \\\n",
    "       .withColumnRenamed(\"#\", \"Number\")"
   ]
  },
  {
   "cell_type": "code",
   "execution_count": 56,
   "metadata": {},
   "outputs": [],
   "source": [
    "# Extracting and converting components from the \"Birth Date\" column\n",
    "df = df.withColumn(\"Day\", split(col(\"Birth Date\"), \"\\\\.\").getItem(0).cast(IntegerType())) \\\n",
    "       .withColumn(\"Month\", split(col(\"Birth Date\"), \"\\\\.\").getItem(1).cast(IntegerType())) \\\n",
    "       .withColumn(\"Year\", split(col(\"Birth Date\"), \"\\\\.\").getItem(2).cast(IntegerType()))"
   ]
  },
  {
   "cell_type": "code",
   "execution_count": 57,
   "metadata": {},
   "outputs": [
    {
     "name": "stdout",
     "output_type": "stream",
     "text": [
      "+---------+------+--------+------------------+----------+----------+--------------------+------+------+---+-----+----+----------+\n",
      "|     Team|Number|Position| FIFA Popular Name|Birth Date|Shirt Name|                Club|Height|Weight|Day|Month|Year|     Birth|\n",
      "+---------+------+--------+------------------+----------+----------+--------------------+------+------+---+-----+----+----------+\n",
      "|Argentina|     3|      DF|TAGLIAFICO Nicolas|31.08.1992|TAGLIAFICO|      AFC Ajax (NED)|   169|    65| 31|    8|1992|1992-08-31|\n",
      "|Argentina|    22|      MF|    PAVON Cristian|21.01.1996|     PAVÓN|CA Boca Juniors (...|   169|    65| 21|    1|1996|1996-01-21|\n",
      "|Argentina|    15|      MF|    LANZINI Manuel|15.02.1993|   LANZINI|West Ham United F...|   167|    66| 15|    2|1993|1993-02-15|\n",
      "|Argentina|    18|      DF|    SALVIO Eduardo|13.07.1990|    SALVIO|    SL Benfica (POR)|   167|    69| 13|    7|1990|1990-07-13|\n",
      "|Argentina|    10|      FW|      MESSI Lionel|24.06.1987|     MESSI|  FC Barcelona (ESP)|   170|    72| 24|    6|1987|1987-06-24|\n",
      "+---------+------+--------+------------------+----------+----------+--------------------+------+------+---+-----+----+----------+\n",
      "only showing top 5 rows\n",
      "\n"
     ]
    }
   ],
   "source": [
    "# Creating a new \"Birth\" column by concatenating \"Year\", \"Month\", and \"Day\" columns\n",
    "df = df.withColumn(\"Birth\", concat_ws(\"-\", col(\"Year\"), col(\"Month\"), col(\"Day\")).cast(DateType()))\n",
    "\n",
    "# Displaying the first 5 rows of the DataFrame to verify the changes\n",
    "df.show(5)"
   ]
  },
  {
   "cell_type": "code",
   "execution_count": 58,
   "metadata": {},
   "outputs": [
    {
     "name": "stdout",
     "output_type": "stream",
     "text": [
      "root\n",
      " |-- Team: string (nullable = true)\n",
      " |-- Number: integer (nullable = true)\n",
      " |-- Position: string (nullable = true)\n",
      " |-- FIFA Popular Name: string (nullable = true)\n",
      " |-- Birth Date: string (nullable = true)\n",
      " |-- Shirt Name: string (nullable = true)\n",
      " |-- Club: string (nullable = true)\n",
      " |-- Height: integer (nullable = true)\n",
      " |-- Weight: integer (nullable = true)\n",
      " |-- Day: integer (nullable = true)\n",
      " |-- Month: integer (nullable = true)\n",
      " |-- Year: integer (nullable = true)\n",
      " |-- Birth: date (nullable = true)\n",
      "\n"
     ]
    }
   ],
   "source": [
    "# Printing the schema of the DataFrame to show the structure and data types of each column\n",
    "df.printSchema()"
   ]
  },
  {
   "cell_type": "code",
   "execution_count": 59,
   "metadata": {},
   "outputs": [
    {
     "name": "stdout",
     "output_type": "stream",
     "text": [
      "+---------+------+--------+------------------+----------+--------------------+------+------+---+-----+----+----------+\n",
      "|     Team|Number|Position| FIFA Popular Name|Shirt Name|                Club|Height|Weight|Day|Month|Year|     Birth|\n",
      "+---------+------+--------+------------------+----------+--------------------+------+------+---+-----+----+----------+\n",
      "|Argentina|     3|      DF|TAGLIAFICO Nicolas|TAGLIAFICO|      AFC Ajax (NED)|   169|    65| 31|    8|1992|1992-08-31|\n",
      "|Argentina|    22|      MF|    PAVON Cristian|     PAVÓN|CA Boca Juniors (...|   169|    65| 21|    1|1996|1996-01-21|\n",
      "|Argentina|    15|      MF|    LANZINI Manuel|   LANZINI|West Ham United F...|   167|    66| 15|    2|1993|1993-02-15|\n",
      "|Argentina|    18|      DF|    SALVIO Eduardo|    SALVIO|    SL Benfica (POR)|   167|    69| 13|    7|1990|1990-07-13|\n",
      "|Argentina|    10|      FW|      MESSI Lionel|     MESSI|  FC Barcelona (ESP)|   170|    72| 24|    6|1987|1987-06-24|\n",
      "+---------+------+--------+------------------+----------+--------------------+------+------+---+-----+----+----------+\n",
      "only showing top 5 rows\n",
      "\n"
     ]
    }
   ],
   "source": [
    "# Dropping the \"Birth Date\" column from the DataFrame\n",
    "df = df.drop(col(\"Birth Date\"))\n",
    "\n",
    "# Displaying the first 5 rows of the DataFrame to verify the changes\n",
    "df.show(5)"
   ]
  },
  {
   "cell_type": "markdown",
   "metadata": {},
   "source": [
    "## Creating Backup"
   ]
  },
  {
   "cell_type": "code",
   "execution_count": 60,
   "metadata": {},
   "outputs": [],
   "source": [
    "df2 = df"
   ]
  },
  {
   "cell_type": "markdown",
   "metadata": {},
   "source": [
    "## Window Ranking Functions\n",
    "\n",
    "- **Window Function 1 - Number of Rows: `row_number()`**\n",
    "  - Assigns a unique sequential number to each row within a window partition.\n",
    "\n",
    "- **Window Function 2 - Ranking 1: `rank()`**\n",
    "  - Assigns ranks to rows within a partition, with gaps in rank values for ties.\n",
    "\n",
    "- **Window Function 3 - Ranking 2: `dense_rank()`**\n",
    "  - Assigns ranks to rows within a partition, without gaps in rank values for ties.\n",
    "\n",
    "- **Window Function 4 - Percentage Ranking: `percent_rank()`**\n",
    "  - Calculates the relative rank of each row as a percentage within a partition.\n",
    "\n",
    "- **Window Function 5 - Division into 'N' Parts: `ntile()`**\n",
    "  - Distributes rows into a specified number of roughly equal-sized buckets or tiles."
   ]
  },
  {
   "cell_type": "markdown",
   "metadata": {},
   "source": [
    "### Window Function 1 - Number of Rows: `row_number()`"
   ]
  },
  {
   "cell_type": "code",
   "execution_count": 61,
   "metadata": {},
   "outputs": [
    {
     "name": "stdout",
     "output_type": "stream",
     "text": [
      "+---------+------+--------+------------------+----------+--------------------+------+------+---+-----+----+----------+-----------+\n",
      "|     Team|Number|Position| FIFA Popular Name|Shirt Name|                Club|Height|Weight|Day|Month|Year|     Birth|Line Number|\n",
      "+---------+------+--------+------------------+----------+--------------------+------+------+---+-----+----+----------+-----------+\n",
      "|Argentina|     6|      DF|    FAZIO Federico|     FAZIO|       AS Roma (ITA)|   199|    85| 17|    3|1987|1987-03-17|          1|\n",
      "|Argentina|     1|      GK|     GUZMAN Nahuel|    GUZMÁN|   Tigres UANL (MEX)|   192|    90| 10|    2|1986|1986-02-10|          2|\n",
      "|Argentina|    16|      DF|       ROJO Marcos|      ROJO|Manchester United...|   189|    82| 20|    3|1990|1990-03-20|          3|\n",
      "|Argentina|    12|      GK|     ARMANI Franco|    ARMANI|CA River Plate (ARG)|   189|    85| 16|   10|1986|1986-10-16|          4|\n",
      "|Argentina|    23|      GK|CABALLERO Wilfredo| CABALLERO|    Chelsea FC (ENG)|   186|    80| 28|    9|1981|1981-09-28|          5|\n",
      "|Argentina|     9|      FW|   HIGUAIN Gonzalo|   HIGUAÍN|   Juventus FC (ITA)|   184|    75| 10|   12|1987|1987-12-10|          6|\n",
      "|Argentina|     4|      DF|  ANSALDI Cristian|   ANSALDI|     Torino FC (ITA)|   181|    73| 20|    9|1986|1986-09-20|          7|\n",
      "|Argentina|     2|      DF|   MERCADO Gabriel|   MERCADO|    Sevilla FC (ESP)|   181|    81| 18|    3|1987|1987-03-18|          8|\n",
      "|Argentina|    17|      DF|  OTAMENDI Nicolas|  OTAMENDI|Manchester City F...|   181|    81| 12|    2|1988|1988-02-12|          9|\n",
      "|Argentina|    13|      MF|  MEZA Maximiliano|      MEZA|CA Independiente ...|   180|    76| 15|   12|1992|1992-12-15|         10|\n",
      "|Argentina|    11|      MF|    DI MARIA Angel|  DI MARÍA|Paris Saint-Germa...|   178|    75| 14|    2|1988|1988-02-14|         11|\n",
      "|Argentina|    21|      FW|      DYBALA Paulo|    DYBALA|   Juventus FC (ITA)|   177|    73| 15|   11|1993|1993-11-15|         12|\n",
      "|Argentina|    20|      MF|  LO CELSO Giovani|  LO CELSO|Paris Saint-Germa...|   177|    75|  9|    4|1996|1996-04-09|         13|\n",
      "|Argentina|     5|      MF|      BIGLIA Lucas|    BIGLIA|      AC Milan (ITA)|   175|    73| 30|    1|1986|1986-01-30|         14|\n",
      "|Argentina|     7|      MF|       BANEGA Ever|    BANEGA|    Sevilla FC (ESP)|   175|    73| 29|    6|1988|1988-06-29|         15|\n",
      "|Argentina|    14|      DF| MASCHERANO Javier|MASCHERANO|Hebei China Fortu...|   174|    73|  8|    6|1984|1984-06-08|         16|\n",
      "|Argentina|    19|      FW|     AGUERO Sergio|    AGÜERO|Manchester City F...|   172|    74|  2|    6|1988|1988-06-02|         17|\n",
      "|Argentina|     8|      DF|      ACUNA Marcos|     ACUÑA|   Sporting CP (POR)|   172|    77| 28|   10|1991|1991-10-28|         18|\n",
      "|Argentina|    10|      FW|      MESSI Lionel|     MESSI|  FC Barcelona (ESP)|   170|    72| 24|    6|1987|1987-06-24|         19|\n",
      "|Argentina|     3|      DF|TAGLIAFICO Nicolas|TAGLIAFICO|      AFC Ajax (NED)|   169|    65| 31|    8|1992|1992-08-31|         20|\n",
      "|Argentina|    22|      MF|    PAVON Cristian|     PAVÓN|CA Boca Juniors (...|   169|    65| 21|    1|1996|1996-01-21|         21|\n",
      "|Argentina|    15|      MF|    LANZINI Manuel|   LANZINI|West Ham United F...|   167|    66| 15|    2|1993|1993-02-15|         22|\n",
      "|Argentina|    18|      DF|    SALVIO Eduardo|    SALVIO|    SL Benfica (POR)|   167|    69| 13|    7|1990|1990-07-13|         23|\n",
      "|Australia|    12|      GK|        JONES Brad|     JONES|Feyenoord Rotterd...|   193|    87| 19|    3|1982|1982-03-19|          1|\n",
      "|Australia|     9|      FW|        JURIC Tomi|     JURIC|     FC Luzern (SUI)|   190|    80| 22|    7|1991|1991-07-22|          2|\n",
      "|Australia|     6|      DF|    JURMAN Matthew|    JURMAN|Suwon Samsung Blu...|   190|    83|  8|   12|1989|1989-12-08|          3|\n",
      "|Australia|    23|      MF|         ROGIC Tom|     ROGIC|     Celtic FC (SCO)|   189|    88| 16|   12|1992|1992-12-16|          4|\n",
      "|Australia|    15|      MF|      JEDINAK Mile|   JEDINAK|Aston Villa FC (ENG)|   188|    78|  3|    8|1984|1984-08-03|          5|\n",
      "|Australia|     2|      DF|     DEGENEK Milos|   DEGENEK|Yokohama F-Marino...|   187|    85| 28|    4|1994|1994-04-28|          6|\n",
      "|Australia|    18|      GK|     VUKOVIC Danny|   VUKOVIC|      KRC Genk (BEL)|   187|    94| 27|    3|1985|1985-03-27|          7|\n",
      "|Australia|     1|      GK|       RYAN Mathew|      RYAN|Brighton & Hove A...|   184|    82|  8|    4|1992|1992-04-08|          8|\n",
      "|Australia|    20|      DF|   SAINSBURY Trent| SAINSBURY|Grasshopper Club ...|   183|    76|  5|    1|1992|1992-01-05|          9|\n",
      "|Australia|     7|      FW|     LECKIE Mathew|    LECKIE|    Hertha BSC (GER)|   181|    84|  4|    2|1991|1991-02-04|         10|\n",
      "|Australia|    10|      FW|      KRUSE Robbie|     KRUSE|    VfL Bochum (GER)|   180|    66|  5|   10|1988|1988-10-05|         11|\n",
      "|Australia|     4|      FW|        CAHILL Tim|    CAHILL|   Millwall FC (ENG)|   180|    76|  6|   12|1979|1979-12-06|         12|\n",
      "|Australia|    22|      MF|    IRVINE Jackson|    IRVINE|  Hull City FC (ENG)|   180|    77|  7|    3|1993|1993-03-07|         13|\n",
      "|Australia|     3|      DF|    MEREDITH James|  MEREDITH|   Millwall FC (ENG)|   179|    71|  5|    4|1988|1988-04-05|         14|\n",
      "|Australia|    14|      FW|    MacLAREN Jamie|  MACLAREN|  Hibernian FC (SCO)|   178|    72| 29|    7|1993|1993-07-29|         15|\n",
      "|Australia|     5|      DF|     MILLIGAN Mark|  MILLIGAN|    Al Ahli SC (KSA)|   178|    78|  4|    8|1985|1985-08-04|         16|\n",
      "|Australia|    11|      FW|    NABBOUT Andrew|   NABBOUT|    Urawa Reds (JPN)|   178|    85| 17|   12|1992|1992-12-17|         17|\n",
      "|Australia|    21|      FW|PETRATOS Dimitrios|  PETRATOS|Newcastle United ...|   176|    72| 10|   11|1992|1992-11-10|         18|\n",
      "|Australia|     8|      MF|    LUONGO Massimo|    LUONGO|Queens Park Range...|   176|    76| 25|    9|1992|1992-09-25|         19|\n",
      "|Australia|    13|      MF|        MOOY Aaron|      MOOY|Huddersfield Town...|   173|    72| 15|    9|1990|1990-09-15|         20|\n",
      "|Australia|    17|      FW|     ARZANI Daniel|    ARZANI|Melbourne City FC...|   171|    73|  4|    1|1999|1999-01-04|         21|\n",
      "|Australia|    16|      DF|       BEHICH Aziz|    BEHICH|     Bursaspor (TUR)|   170|    63| 16|   12|1990|1990-12-16|         22|\n",
      "|Australia|    19|      DF|     RISDON Joshua|    RISDON|WS Wanderers FC (...|   169|    70| 27|    7|1992|1992-07-27|         23|\n",
      "|  Belgium|     1|      GK|  COURTOIS Thibaut|  COURTOIS|    Chelsea FC (ENG)|   199|    91| 11|    5|1992|1992-05-11|          1|\n",
      "|  Belgium|    13|      GK|     CASTEELS Koen|  CASTEELS| VfL Wolfsburg (GER)|   197|    86| 25|    6|1992|1992-06-25|          2|\n",
      "|  Belgium|     8|      MF| FELLAINI Marouane|  FELLAINI|Manchester United...|   194|    85| 22|   11|1987|1987-11-22|          3|\n",
      "|  Belgium|    12|      GK|    MIGNOLET Simon|  MIGNOLET|  Liverpool FC (ENG)|   193|    87|  6|    3|1988|1988-03-06|          4|\n",
      "+---------+------+--------+------------------+----------+--------------------+------+------+---+-----+----+----------+-----------+\n",
      "only showing top 50 rows\n",
      "\n"
     ]
    }
   ],
   "source": [
    "# Define the window specification\n",
    "# - partitionBy(col(\"Team\")): partition the data by the \"Team\" column, so each team will have its own separate window\n",
    "# - orderBy(desc(col(\"Height\"))): order the rows within each partition by the \"Height\" column in descending order\n",
    "num_line = Window.partitionBy(col(\"Team\")).orderBy(desc(col(\"Height\")))\n",
    "\n",
    "# Add a new column \"Line Number\" to the DataFrame\n",
    "# - row_number(): generates a unique sequential number for each row within the specified window\n",
    "# - over(num_line): applies the window specification defined above to determine the row number\n",
    "# This means that within each team, rows will be numbered starting from 1 for the highest height\n",
    "df.withColumn(\"Line Number\", row_number().over(num_line)).show(50)\n"
   ]
  },
  {
   "cell_type": "markdown",
   "metadata": {},
   "source": [
    "### Window Function 2 - Ranking 1: `rank()`"
   ]
  },
  {
   "cell_type": "code",
   "execution_count": 62,
   "metadata": {},
   "outputs": [
    {
     "name": "stdout",
     "output_type": "stream",
     "text": [
      "+---------+------+--------+------------------+----------+--------------------+------+------+---+-----+----+----------+----+\n",
      "|     Team|Number|Position| FIFA Popular Name|Shirt Name|                Club|Height|Weight|Day|Month|Year|     Birth|Rank|\n",
      "+---------+------+--------+------------------+----------+--------------------+------+------+---+-----+----+----------+----+\n",
      "|Argentina|     6|      DF|    FAZIO Federico|     FAZIO|       AS Roma (ITA)|   199|    85| 17|    3|1987|1987-03-17|   1|\n",
      "|Argentina|     1|      GK|     GUZMAN Nahuel|    GUZMÁN|   Tigres UANL (MEX)|   192|    90| 10|    2|1986|1986-02-10|   2|\n",
      "|Argentina|    16|      DF|       ROJO Marcos|      ROJO|Manchester United...|   189|    82| 20|    3|1990|1990-03-20|   3|\n",
      "|Argentina|    12|      GK|     ARMANI Franco|    ARMANI|CA River Plate (ARG)|   189|    85| 16|   10|1986|1986-10-16|   3|\n",
      "|Argentina|    23|      GK|CABALLERO Wilfredo| CABALLERO|    Chelsea FC (ENG)|   186|    80| 28|    9|1981|1981-09-28|   5|\n",
      "|Argentina|     9|      FW|   HIGUAIN Gonzalo|   HIGUAÍN|   Juventus FC (ITA)|   184|    75| 10|   12|1987|1987-12-10|   6|\n",
      "|Argentina|     4|      DF|  ANSALDI Cristian|   ANSALDI|     Torino FC (ITA)|   181|    73| 20|    9|1986|1986-09-20|   7|\n",
      "|Argentina|     2|      DF|   MERCADO Gabriel|   MERCADO|    Sevilla FC (ESP)|   181|    81| 18|    3|1987|1987-03-18|   7|\n",
      "|Argentina|    17|      DF|  OTAMENDI Nicolas|  OTAMENDI|Manchester City F...|   181|    81| 12|    2|1988|1988-02-12|   7|\n",
      "|Argentina|    13|      MF|  MEZA Maximiliano|      MEZA|CA Independiente ...|   180|    76| 15|   12|1992|1992-12-15|  10|\n",
      "|Argentina|    11|      MF|    DI MARIA Angel|  DI MARÍA|Paris Saint-Germa...|   178|    75| 14|    2|1988|1988-02-14|  11|\n",
      "|Argentina|    21|      FW|      DYBALA Paulo|    DYBALA|   Juventus FC (ITA)|   177|    73| 15|   11|1993|1993-11-15|  12|\n",
      "|Argentina|    20|      MF|  LO CELSO Giovani|  LO CELSO|Paris Saint-Germa...|   177|    75|  9|    4|1996|1996-04-09|  12|\n",
      "|Argentina|     5|      MF|      BIGLIA Lucas|    BIGLIA|      AC Milan (ITA)|   175|    73| 30|    1|1986|1986-01-30|  14|\n",
      "|Argentina|     7|      MF|       BANEGA Ever|    BANEGA|    Sevilla FC (ESP)|   175|    73| 29|    6|1988|1988-06-29|  14|\n",
      "|Argentina|    14|      DF| MASCHERANO Javier|MASCHERANO|Hebei China Fortu...|   174|    73|  8|    6|1984|1984-06-08|  16|\n",
      "|Argentina|    19|      FW|     AGUERO Sergio|    AGÜERO|Manchester City F...|   172|    74|  2|    6|1988|1988-06-02|  17|\n",
      "|Argentina|     8|      DF|      ACUNA Marcos|     ACUÑA|   Sporting CP (POR)|   172|    77| 28|   10|1991|1991-10-28|  17|\n",
      "|Argentina|    10|      FW|      MESSI Lionel|     MESSI|  FC Barcelona (ESP)|   170|    72| 24|    6|1987|1987-06-24|  19|\n",
      "|Argentina|     3|      DF|TAGLIAFICO Nicolas|TAGLIAFICO|      AFC Ajax (NED)|   169|    65| 31|    8|1992|1992-08-31|  20|\n",
      "|Argentina|    22|      MF|    PAVON Cristian|     PAVÓN|CA Boca Juniors (...|   169|    65| 21|    1|1996|1996-01-21|  20|\n",
      "|Argentina|    15|      MF|    LANZINI Manuel|   LANZINI|West Ham United F...|   167|    66| 15|    2|1993|1993-02-15|  22|\n",
      "|Argentina|    18|      DF|    SALVIO Eduardo|    SALVIO|    SL Benfica (POR)|   167|    69| 13|    7|1990|1990-07-13|  22|\n",
      "|Australia|    12|      GK|        JONES Brad|     JONES|Feyenoord Rotterd...|   193|    87| 19|    3|1982|1982-03-19|   1|\n",
      "|Australia|     9|      FW|        JURIC Tomi|     JURIC|     FC Luzern (SUI)|   190|    80| 22|    7|1991|1991-07-22|   2|\n",
      "|Australia|     6|      DF|    JURMAN Matthew|    JURMAN|Suwon Samsung Blu...|   190|    83|  8|   12|1989|1989-12-08|   2|\n",
      "|Australia|    23|      MF|         ROGIC Tom|     ROGIC|     Celtic FC (SCO)|   189|    88| 16|   12|1992|1992-12-16|   4|\n",
      "|Australia|    15|      MF|      JEDINAK Mile|   JEDINAK|Aston Villa FC (ENG)|   188|    78|  3|    8|1984|1984-08-03|   5|\n",
      "|Australia|     2|      DF|     DEGENEK Milos|   DEGENEK|Yokohama F-Marino...|   187|    85| 28|    4|1994|1994-04-28|   6|\n",
      "|Australia|    18|      GK|     VUKOVIC Danny|   VUKOVIC|      KRC Genk (BEL)|   187|    94| 27|    3|1985|1985-03-27|   6|\n",
      "|Australia|     1|      GK|       RYAN Mathew|      RYAN|Brighton & Hove A...|   184|    82|  8|    4|1992|1992-04-08|   8|\n",
      "|Australia|    20|      DF|   SAINSBURY Trent| SAINSBURY|Grasshopper Club ...|   183|    76|  5|    1|1992|1992-01-05|   9|\n",
      "|Australia|     7|      FW|     LECKIE Mathew|    LECKIE|    Hertha BSC (GER)|   181|    84|  4|    2|1991|1991-02-04|  10|\n",
      "|Australia|    10|      FW|      KRUSE Robbie|     KRUSE|    VfL Bochum (GER)|   180|    66|  5|   10|1988|1988-10-05|  11|\n",
      "|Australia|     4|      FW|        CAHILL Tim|    CAHILL|   Millwall FC (ENG)|   180|    76|  6|   12|1979|1979-12-06|  11|\n",
      "|Australia|    22|      MF|    IRVINE Jackson|    IRVINE|  Hull City FC (ENG)|   180|    77|  7|    3|1993|1993-03-07|  11|\n",
      "|Australia|     3|      DF|    MEREDITH James|  MEREDITH|   Millwall FC (ENG)|   179|    71|  5|    4|1988|1988-04-05|  14|\n",
      "|Australia|    14|      FW|    MacLAREN Jamie|  MACLAREN|  Hibernian FC (SCO)|   178|    72| 29|    7|1993|1993-07-29|  15|\n",
      "|Australia|     5|      DF|     MILLIGAN Mark|  MILLIGAN|    Al Ahli SC (KSA)|   178|    78|  4|    8|1985|1985-08-04|  15|\n",
      "|Australia|    11|      FW|    NABBOUT Andrew|   NABBOUT|    Urawa Reds (JPN)|   178|    85| 17|   12|1992|1992-12-17|  15|\n",
      "|Australia|    21|      FW|PETRATOS Dimitrios|  PETRATOS|Newcastle United ...|   176|    72| 10|   11|1992|1992-11-10|  18|\n",
      "|Australia|     8|      MF|    LUONGO Massimo|    LUONGO|Queens Park Range...|   176|    76| 25|    9|1992|1992-09-25|  18|\n",
      "|Australia|    13|      MF|        MOOY Aaron|      MOOY|Huddersfield Town...|   173|    72| 15|    9|1990|1990-09-15|  20|\n",
      "|Australia|    17|      FW|     ARZANI Daniel|    ARZANI|Melbourne City FC...|   171|    73|  4|    1|1999|1999-01-04|  21|\n",
      "|Australia|    16|      DF|       BEHICH Aziz|    BEHICH|     Bursaspor (TUR)|   170|    63| 16|   12|1990|1990-12-16|  22|\n",
      "|Australia|    19|      DF|     RISDON Joshua|    RISDON|WS Wanderers FC (...|   169|    70| 27|    7|1992|1992-07-27|  23|\n",
      "|  Belgium|     1|      GK|  COURTOIS Thibaut|  COURTOIS|    Chelsea FC (ENG)|   199|    91| 11|    5|1992|1992-05-11|   1|\n",
      "|  Belgium|    13|      GK|     CASTEELS Koen|  CASTEELS| VfL Wolfsburg (GER)|   197|    86| 25|    6|1992|1992-06-25|   2|\n",
      "|  Belgium|     8|      MF| FELLAINI Marouane|  FELLAINI|Manchester United...|   194|    85| 22|   11|1987|1987-11-22|   3|\n",
      "|  Belgium|    12|      GK|    MIGNOLET Simon|  MIGNOLET|  Liverpool FC (ENG)|   193|    87|  6|    3|1988|1988-03-06|   4|\n",
      "+---------+------+--------+------------------+----------+--------------------+------+------+---+-----+----+----------+----+\n",
      "only showing top 50 rows\n",
      "\n"
     ]
    }
   ],
   "source": [
    "# Define the window specification\n",
    "# - partitionBy(col(\"Team\")): partition the data by the \"Team\" column, so each team will have its own separate window\n",
    "# - orderBy(desc(col(\"Height\"))): order the rows within each partition by the \"Height\" column in descending order\n",
    "rank1 = Window.partitionBy(col(\"Team\")).orderBy(desc(col(\"Height\")))\n",
    "\n",
    "# Add a new column \"Rank\" to the DataFrame\n",
    "# - rank(): assigns a rank to each row within the specified window, with the highest height receiving rank 1\n",
    "# - over(rank1): applies the window specification defined above to compute the rank\n",
    "# This means that within each team, rows will be ranked starting from 1 for the highest height\n",
    "df.withColumn(\"Rank\", rank().over(rank1)).show(50)"
   ]
  },
  {
   "cell_type": "markdown",
   "metadata": {},
   "source": [
    "### Window Function 3 - Ranking 2: `dense_rank()`"
   ]
  },
  {
   "cell_type": "code",
   "execution_count": 63,
   "metadata": {},
   "outputs": [
    {
     "name": "stdout",
     "output_type": "stream",
     "text": [
      "+---------+------+--------+------------------+----------+--------------------+------+------+---+-----+----+----------+------+\n",
      "|     Team|Number|Position| FIFA Popular Name|Shirt Name|                Club|Height|Weight|Day|Month|Year|     Birth|Rank 2|\n",
      "+---------+------+--------+------------------+----------+--------------------+------+------+---+-----+----+----------+------+\n",
      "|Argentina|     6|      DF|    FAZIO Federico|     FAZIO|       AS Roma (ITA)|   199|    85| 17|    3|1987|1987-03-17|     1|\n",
      "|Argentina|     1|      GK|     GUZMAN Nahuel|    GUZMÁN|   Tigres UANL (MEX)|   192|    90| 10|    2|1986|1986-02-10|     2|\n",
      "|Argentina|    16|      DF|       ROJO Marcos|      ROJO|Manchester United...|   189|    82| 20|    3|1990|1990-03-20|     3|\n",
      "|Argentina|    12|      GK|     ARMANI Franco|    ARMANI|CA River Plate (ARG)|   189|    85| 16|   10|1986|1986-10-16|     3|\n",
      "|Argentina|    23|      GK|CABALLERO Wilfredo| CABALLERO|    Chelsea FC (ENG)|   186|    80| 28|    9|1981|1981-09-28|     4|\n",
      "|Argentina|     9|      FW|   HIGUAIN Gonzalo|   HIGUAÍN|   Juventus FC (ITA)|   184|    75| 10|   12|1987|1987-12-10|     5|\n",
      "|Argentina|     4|      DF|  ANSALDI Cristian|   ANSALDI|     Torino FC (ITA)|   181|    73| 20|    9|1986|1986-09-20|     6|\n",
      "|Argentina|     2|      DF|   MERCADO Gabriel|   MERCADO|    Sevilla FC (ESP)|   181|    81| 18|    3|1987|1987-03-18|     6|\n",
      "|Argentina|    17|      DF|  OTAMENDI Nicolas|  OTAMENDI|Manchester City F...|   181|    81| 12|    2|1988|1988-02-12|     6|\n",
      "|Argentina|    13|      MF|  MEZA Maximiliano|      MEZA|CA Independiente ...|   180|    76| 15|   12|1992|1992-12-15|     7|\n",
      "|Argentina|    11|      MF|    DI MARIA Angel|  DI MARÍA|Paris Saint-Germa...|   178|    75| 14|    2|1988|1988-02-14|     8|\n",
      "|Argentina|    21|      FW|      DYBALA Paulo|    DYBALA|   Juventus FC (ITA)|   177|    73| 15|   11|1993|1993-11-15|     9|\n",
      "|Argentina|    20|      MF|  LO CELSO Giovani|  LO CELSO|Paris Saint-Germa...|   177|    75|  9|    4|1996|1996-04-09|     9|\n",
      "|Argentina|     5|      MF|      BIGLIA Lucas|    BIGLIA|      AC Milan (ITA)|   175|    73| 30|    1|1986|1986-01-30|    10|\n",
      "|Argentina|     7|      MF|       BANEGA Ever|    BANEGA|    Sevilla FC (ESP)|   175|    73| 29|    6|1988|1988-06-29|    10|\n",
      "|Argentina|    14|      DF| MASCHERANO Javier|MASCHERANO|Hebei China Fortu...|   174|    73|  8|    6|1984|1984-06-08|    11|\n",
      "|Argentina|    19|      FW|     AGUERO Sergio|    AGÜERO|Manchester City F...|   172|    74|  2|    6|1988|1988-06-02|    12|\n",
      "|Argentina|     8|      DF|      ACUNA Marcos|     ACUÑA|   Sporting CP (POR)|   172|    77| 28|   10|1991|1991-10-28|    12|\n",
      "|Argentina|    10|      FW|      MESSI Lionel|     MESSI|  FC Barcelona (ESP)|   170|    72| 24|    6|1987|1987-06-24|    13|\n",
      "|Argentina|     3|      DF|TAGLIAFICO Nicolas|TAGLIAFICO|      AFC Ajax (NED)|   169|    65| 31|    8|1992|1992-08-31|    14|\n",
      "|Argentina|    22|      MF|    PAVON Cristian|     PAVÓN|CA Boca Juniors (...|   169|    65| 21|    1|1996|1996-01-21|    14|\n",
      "|Argentina|    15|      MF|    LANZINI Manuel|   LANZINI|West Ham United F...|   167|    66| 15|    2|1993|1993-02-15|    15|\n",
      "|Argentina|    18|      DF|    SALVIO Eduardo|    SALVIO|    SL Benfica (POR)|   167|    69| 13|    7|1990|1990-07-13|    15|\n",
      "|Australia|    12|      GK|        JONES Brad|     JONES|Feyenoord Rotterd...|   193|    87| 19|    3|1982|1982-03-19|     1|\n",
      "|Australia|     9|      FW|        JURIC Tomi|     JURIC|     FC Luzern (SUI)|   190|    80| 22|    7|1991|1991-07-22|     2|\n",
      "|Australia|     6|      DF|    JURMAN Matthew|    JURMAN|Suwon Samsung Blu...|   190|    83|  8|   12|1989|1989-12-08|     2|\n",
      "|Australia|    23|      MF|         ROGIC Tom|     ROGIC|     Celtic FC (SCO)|   189|    88| 16|   12|1992|1992-12-16|     3|\n",
      "|Australia|    15|      MF|      JEDINAK Mile|   JEDINAK|Aston Villa FC (ENG)|   188|    78|  3|    8|1984|1984-08-03|     4|\n",
      "|Australia|     2|      DF|     DEGENEK Milos|   DEGENEK|Yokohama F-Marino...|   187|    85| 28|    4|1994|1994-04-28|     5|\n",
      "|Australia|    18|      GK|     VUKOVIC Danny|   VUKOVIC|      KRC Genk (BEL)|   187|    94| 27|    3|1985|1985-03-27|     5|\n",
      "|Australia|     1|      GK|       RYAN Mathew|      RYAN|Brighton & Hove A...|   184|    82|  8|    4|1992|1992-04-08|     6|\n",
      "|Australia|    20|      DF|   SAINSBURY Trent| SAINSBURY|Grasshopper Club ...|   183|    76|  5|    1|1992|1992-01-05|     7|\n",
      "|Australia|     7|      FW|     LECKIE Mathew|    LECKIE|    Hertha BSC (GER)|   181|    84|  4|    2|1991|1991-02-04|     8|\n",
      "|Australia|    10|      FW|      KRUSE Robbie|     KRUSE|    VfL Bochum (GER)|   180|    66|  5|   10|1988|1988-10-05|     9|\n",
      "|Australia|     4|      FW|        CAHILL Tim|    CAHILL|   Millwall FC (ENG)|   180|    76|  6|   12|1979|1979-12-06|     9|\n",
      "|Australia|    22|      MF|    IRVINE Jackson|    IRVINE|  Hull City FC (ENG)|   180|    77|  7|    3|1993|1993-03-07|     9|\n",
      "|Australia|     3|      DF|    MEREDITH James|  MEREDITH|   Millwall FC (ENG)|   179|    71|  5|    4|1988|1988-04-05|    10|\n",
      "|Australia|    14|      FW|    MacLAREN Jamie|  MACLAREN|  Hibernian FC (SCO)|   178|    72| 29|    7|1993|1993-07-29|    11|\n",
      "|Australia|     5|      DF|     MILLIGAN Mark|  MILLIGAN|    Al Ahli SC (KSA)|   178|    78|  4|    8|1985|1985-08-04|    11|\n",
      "|Australia|    11|      FW|    NABBOUT Andrew|   NABBOUT|    Urawa Reds (JPN)|   178|    85| 17|   12|1992|1992-12-17|    11|\n",
      "|Australia|    21|      FW|PETRATOS Dimitrios|  PETRATOS|Newcastle United ...|   176|    72| 10|   11|1992|1992-11-10|    12|\n",
      "|Australia|     8|      MF|    LUONGO Massimo|    LUONGO|Queens Park Range...|   176|    76| 25|    9|1992|1992-09-25|    12|\n",
      "|Australia|    13|      MF|        MOOY Aaron|      MOOY|Huddersfield Town...|   173|    72| 15|    9|1990|1990-09-15|    13|\n",
      "|Australia|    17|      FW|     ARZANI Daniel|    ARZANI|Melbourne City FC...|   171|    73|  4|    1|1999|1999-01-04|    14|\n",
      "|Australia|    16|      DF|       BEHICH Aziz|    BEHICH|     Bursaspor (TUR)|   170|    63| 16|   12|1990|1990-12-16|    15|\n",
      "|Australia|    19|      DF|     RISDON Joshua|    RISDON|WS Wanderers FC (...|   169|    70| 27|    7|1992|1992-07-27|    16|\n",
      "|  Belgium|     1|      GK|  COURTOIS Thibaut|  COURTOIS|    Chelsea FC (ENG)|   199|    91| 11|    5|1992|1992-05-11|     1|\n",
      "|  Belgium|    13|      GK|     CASTEELS Koen|  CASTEELS| VfL Wolfsburg (GER)|   197|    86| 25|    6|1992|1992-06-25|     2|\n",
      "|  Belgium|     8|      MF| FELLAINI Marouane|  FELLAINI|Manchester United...|   194|    85| 22|   11|1987|1987-11-22|     3|\n",
      "|  Belgium|    12|      GK|    MIGNOLET Simon|  MIGNOLET|  Liverpool FC (ENG)|   193|    87|  6|    3|1988|1988-03-06|     4|\n",
      "+---------+------+--------+------------------+----------+--------------------+------+------+---+-----+----+----------+------+\n",
      "only showing top 50 rows\n",
      "\n"
     ]
    }
   ],
   "source": [
    "# Define the window specification\n",
    "# - partitionBy(col(\"Team\")): partition the data by the \"Team\" column, so each team will have its own separate window\n",
    "# - orderBy(desc(col(\"Height\"))): order the rows within each partition by the \"Height\" column in descending order\n",
    "rank2 = Window.partitionBy(col(\"Team\")).orderBy(desc(col(\"Height\")))\n",
    "\n",
    "# Add a new column \"Rank 2\" to the DataFrame\n",
    "# - dense_rank(): assigns a dense rank to each row within the specified window, with the highest height receiving rank 1\n",
    "# - over(rank2): applies the window specification defined above to compute the dense rank\n",
    "#   Rows with the same height receive the same rank, and there are no gaps in the rank sequence\n",
    "df.withColumn(\"Rank 2\", dense_rank().over(rank2)).show(50)"
   ]
  },
  {
   "cell_type": "markdown",
   "metadata": {},
   "source": [
    "### Window Function 4 - Percentage Ranking: `percent_rank()`"
   ]
  },
  {
   "cell_type": "code",
   "execution_count": 64,
   "metadata": {},
   "outputs": [
    {
     "name": "stdout",
     "output_type": "stream",
     "text": [
      "+---------+------+--------+------------------+----------+--------------------+------+------+---+-----+----+----------+--------------------+\n",
      "|     Team|Number|Position| FIFA Popular Name|Shirt Name|                Club|Height|Weight|Day|Month|Year|     Birth|                   %|\n",
      "+---------+------+--------+------------------+----------+--------------------+------+------+---+-----+----+----------+--------------------+\n",
      "|Argentina|     6|      DF|    FAZIO Federico|     FAZIO|       AS Roma (ITA)|   199|    85| 17|    3|1987|1987-03-17|                 0.0|\n",
      "|Argentina|     1|      GK|     GUZMAN Nahuel|    GUZMÁN|   Tigres UANL (MEX)|   192|    90| 10|    2|1986|1986-02-10|0.045454545454545456|\n",
      "|Argentina|    16|      DF|       ROJO Marcos|      ROJO|Manchester United...|   189|    82| 20|    3|1990|1990-03-20| 0.09090909090909091|\n",
      "|Argentina|    12|      GK|     ARMANI Franco|    ARMANI|CA River Plate (ARG)|   189|    85| 16|   10|1986|1986-10-16| 0.09090909090909091|\n",
      "|Argentina|    23|      GK|CABALLERO Wilfredo| CABALLERO|    Chelsea FC (ENG)|   186|    80| 28|    9|1981|1981-09-28| 0.18181818181818182|\n",
      "|Argentina|     9|      FW|   HIGUAIN Gonzalo|   HIGUAÍN|   Juventus FC (ITA)|   184|    75| 10|   12|1987|1987-12-10| 0.22727272727272727|\n",
      "|Argentina|     4|      DF|  ANSALDI Cristian|   ANSALDI|     Torino FC (ITA)|   181|    73| 20|    9|1986|1986-09-20|  0.2727272727272727|\n",
      "|Argentina|     2|      DF|   MERCADO Gabriel|   MERCADO|    Sevilla FC (ESP)|   181|    81| 18|    3|1987|1987-03-18|  0.2727272727272727|\n",
      "|Argentina|    17|      DF|  OTAMENDI Nicolas|  OTAMENDI|Manchester City F...|   181|    81| 12|    2|1988|1988-02-12|  0.2727272727272727|\n",
      "|Argentina|    13|      MF|  MEZA Maximiliano|      MEZA|CA Independiente ...|   180|    76| 15|   12|1992|1992-12-15|  0.4090909090909091|\n",
      "|Argentina|    11|      MF|    DI MARIA Angel|  DI MARÍA|Paris Saint-Germa...|   178|    75| 14|    2|1988|1988-02-14| 0.45454545454545453|\n",
      "|Argentina|    21|      FW|      DYBALA Paulo|    DYBALA|   Juventus FC (ITA)|   177|    73| 15|   11|1993|1993-11-15|                 0.5|\n",
      "|Argentina|    20|      MF|  LO CELSO Giovani|  LO CELSO|Paris Saint-Germa...|   177|    75|  9|    4|1996|1996-04-09|                 0.5|\n",
      "|Argentina|     5|      MF|      BIGLIA Lucas|    BIGLIA|      AC Milan (ITA)|   175|    73| 30|    1|1986|1986-01-30|  0.5909090909090909|\n",
      "|Argentina|     7|      MF|       BANEGA Ever|    BANEGA|    Sevilla FC (ESP)|   175|    73| 29|    6|1988|1988-06-29|  0.5909090909090909|\n",
      "|Argentina|    14|      DF| MASCHERANO Javier|MASCHERANO|Hebei China Fortu...|   174|    73|  8|    6|1984|1984-06-08|  0.6818181818181818|\n",
      "|Argentina|    19|      FW|     AGUERO Sergio|    AGÜERO|Manchester City F...|   172|    74|  2|    6|1988|1988-06-02|  0.7272727272727273|\n",
      "|Argentina|     8|      DF|      ACUNA Marcos|     ACUÑA|   Sporting CP (POR)|   172|    77| 28|   10|1991|1991-10-28|  0.7272727272727273|\n",
      "|Argentina|    10|      FW|      MESSI Lionel|     MESSI|  FC Barcelona (ESP)|   170|    72| 24|    6|1987|1987-06-24|  0.8181818181818182|\n",
      "|Argentina|     3|      DF|TAGLIAFICO Nicolas|TAGLIAFICO|      AFC Ajax (NED)|   169|    65| 31|    8|1992|1992-08-31|  0.8636363636363636|\n",
      "|Argentina|    22|      MF|    PAVON Cristian|     PAVÓN|CA Boca Juniors (...|   169|    65| 21|    1|1996|1996-01-21|  0.8636363636363636|\n",
      "|Argentina|    15|      MF|    LANZINI Manuel|   LANZINI|West Ham United F...|   167|    66| 15|    2|1993|1993-02-15|  0.9545454545454546|\n",
      "|Argentina|    18|      DF|    SALVIO Eduardo|    SALVIO|    SL Benfica (POR)|   167|    69| 13|    7|1990|1990-07-13|  0.9545454545454546|\n",
      "|Australia|    12|      GK|        JONES Brad|     JONES|Feyenoord Rotterd...|   193|    87| 19|    3|1982|1982-03-19|                 0.0|\n",
      "|Australia|     9|      FW|        JURIC Tomi|     JURIC|     FC Luzern (SUI)|   190|    80| 22|    7|1991|1991-07-22|0.045454545454545456|\n",
      "|Australia|     6|      DF|    JURMAN Matthew|    JURMAN|Suwon Samsung Blu...|   190|    83|  8|   12|1989|1989-12-08|0.045454545454545456|\n",
      "|Australia|    23|      MF|         ROGIC Tom|     ROGIC|     Celtic FC (SCO)|   189|    88| 16|   12|1992|1992-12-16| 0.13636363636363635|\n",
      "|Australia|    15|      MF|      JEDINAK Mile|   JEDINAK|Aston Villa FC (ENG)|   188|    78|  3|    8|1984|1984-08-03| 0.18181818181818182|\n",
      "|Australia|     2|      DF|     DEGENEK Milos|   DEGENEK|Yokohama F-Marino...|   187|    85| 28|    4|1994|1994-04-28| 0.22727272727272727|\n",
      "|Australia|    18|      GK|     VUKOVIC Danny|   VUKOVIC|      KRC Genk (BEL)|   187|    94| 27|    3|1985|1985-03-27| 0.22727272727272727|\n",
      "|Australia|     1|      GK|       RYAN Mathew|      RYAN|Brighton & Hove A...|   184|    82|  8|    4|1992|1992-04-08|  0.3181818181818182|\n",
      "|Australia|    20|      DF|   SAINSBURY Trent| SAINSBURY|Grasshopper Club ...|   183|    76|  5|    1|1992|1992-01-05| 0.36363636363636365|\n",
      "|Australia|     7|      FW|     LECKIE Mathew|    LECKIE|    Hertha BSC (GER)|   181|    84|  4|    2|1991|1991-02-04|  0.4090909090909091|\n",
      "|Australia|    10|      FW|      KRUSE Robbie|     KRUSE|    VfL Bochum (GER)|   180|    66|  5|   10|1988|1988-10-05| 0.45454545454545453|\n",
      "|Australia|     4|      FW|        CAHILL Tim|    CAHILL|   Millwall FC (ENG)|   180|    76|  6|   12|1979|1979-12-06| 0.45454545454545453|\n",
      "|Australia|    22|      MF|    IRVINE Jackson|    IRVINE|  Hull City FC (ENG)|   180|    77|  7|    3|1993|1993-03-07| 0.45454545454545453|\n",
      "|Australia|     3|      DF|    MEREDITH James|  MEREDITH|   Millwall FC (ENG)|   179|    71|  5|    4|1988|1988-04-05|  0.5909090909090909|\n",
      "|Australia|    14|      FW|    MacLAREN Jamie|  MACLAREN|  Hibernian FC (SCO)|   178|    72| 29|    7|1993|1993-07-29|  0.6363636363636364|\n",
      "|Australia|     5|      DF|     MILLIGAN Mark|  MILLIGAN|    Al Ahli SC (KSA)|   178|    78|  4|    8|1985|1985-08-04|  0.6363636363636364|\n",
      "|Australia|    11|      FW|    NABBOUT Andrew|   NABBOUT|    Urawa Reds (JPN)|   178|    85| 17|   12|1992|1992-12-17|  0.6363636363636364|\n",
      "|Australia|    21|      FW|PETRATOS Dimitrios|  PETRATOS|Newcastle United ...|   176|    72| 10|   11|1992|1992-11-10|  0.7727272727272727|\n",
      "|Australia|     8|      MF|    LUONGO Massimo|    LUONGO|Queens Park Range...|   176|    76| 25|    9|1992|1992-09-25|  0.7727272727272727|\n",
      "|Australia|    13|      MF|        MOOY Aaron|      MOOY|Huddersfield Town...|   173|    72| 15|    9|1990|1990-09-15|  0.8636363636363636|\n",
      "|Australia|    17|      FW|     ARZANI Daniel|    ARZANI|Melbourne City FC...|   171|    73|  4|    1|1999|1999-01-04|  0.9090909090909091|\n",
      "|Australia|    16|      DF|       BEHICH Aziz|    BEHICH|     Bursaspor (TUR)|   170|    63| 16|   12|1990|1990-12-16|  0.9545454545454546|\n",
      "|Australia|    19|      DF|     RISDON Joshua|    RISDON|WS Wanderers FC (...|   169|    70| 27|    7|1992|1992-07-27|                 1.0|\n",
      "|  Belgium|     1|      GK|  COURTOIS Thibaut|  COURTOIS|    Chelsea FC (ENG)|   199|    91| 11|    5|1992|1992-05-11|                 0.0|\n",
      "|  Belgium|    13|      GK|     CASTEELS Koen|  CASTEELS| VfL Wolfsburg (GER)|   197|    86| 25|    6|1992|1992-06-25|0.045454545454545456|\n",
      "|  Belgium|     8|      MF| FELLAINI Marouane|  FELLAINI|Manchester United...|   194|    85| 22|   11|1987|1987-11-22| 0.09090909090909091|\n",
      "|  Belgium|    12|      GK|    MIGNOLET Simon|  MIGNOLET|  Liverpool FC (ENG)|   193|    87|  6|    3|1988|1988-03-06| 0.13636363636363635|\n",
      "+---------+------+--------+------------------+----------+--------------------+------+------+---+-----+----+----------+--------------------+\n",
      "only showing top 50 rows\n",
      "\n"
     ]
    }
   ],
   "source": [
    "# Define the window specification\n",
    "# - partitionBy(col(\"Team\")): partition the data by the \"Team\" column, so each team will have its own separate window\n",
    "# - orderBy(desc(col(\"Height\"))): order the rows within each partition by the \"Height\" column in descending order\n",
    "percent = Window.partitionBy(col(\"Team\")).orderBy(desc(col(\"Height\")))\n",
    "\n",
    "# Add a new column \"%\" to the DataFrame\n",
    "# - percent_rank(): calculates the percentage rank for each row within the specified window\n",
    "# - over(percent): applies the window specification defined above to compute the percentage rank\n",
    "# This means that within each team, rows will have a percentage rank from 0 to 1, where the highest height gets a rank close to 1\n",
    "df.withColumn(\"%\", percent_rank().over(percent)).show(50)"
   ]
  },
  {
   "cell_type": "markdown",
   "metadata": {},
   "source": [
    "### Window Function 5 - Division into 'N' Parts: `ntile()`"
   ]
  },
  {
   "cell_type": "code",
   "execution_count": 65,
   "metadata": {},
   "outputs": [
    {
     "name": "stdout",
     "output_type": "stream",
     "text": [
      "+---------+------+--------+------------------+----------+--------------------+------+------+---+-----+----+----------+----+\n",
      "|     Team|Number|Position| FIFA Popular Name|Shirt Name|                Club|Height|Weight|Day|Month|Year|     Birth|Tile|\n",
      "+---------+------+--------+------------------+----------+--------------------+------+------+---+-----+----+----------+----+\n",
      "|Argentina|     6|      DF|    FAZIO Federico|     FAZIO|       AS Roma (ITA)|   199|    85| 17|    3|1987|1987-03-17|   1|\n",
      "|Argentina|     1|      GK|     GUZMAN Nahuel|    GUZMÁN|   Tigres UANL (MEX)|   192|    90| 10|    2|1986|1986-02-10|   1|\n",
      "|Argentina|    16|      DF|       ROJO Marcos|      ROJO|Manchester United...|   189|    82| 20|    3|1990|1990-03-20|   1|\n",
      "|Argentina|    12|      GK|     ARMANI Franco|    ARMANI|CA River Plate (ARG)|   189|    85| 16|   10|1986|1986-10-16|   1|\n",
      "|Argentina|    23|      GK|CABALLERO Wilfredo| CABALLERO|    Chelsea FC (ENG)|   186|    80| 28|    9|1981|1981-09-28|   1|\n",
      "|Argentina|     9|      FW|   HIGUAIN Gonzalo|   HIGUAÍN|   Juventus FC (ITA)|   184|    75| 10|   12|1987|1987-12-10|   2|\n",
      "|Argentina|     4|      DF|  ANSALDI Cristian|   ANSALDI|     Torino FC (ITA)|   181|    73| 20|    9|1986|1986-09-20|   2|\n",
      "|Argentina|     2|      DF|   MERCADO Gabriel|   MERCADO|    Sevilla FC (ESP)|   181|    81| 18|    3|1987|1987-03-18|   2|\n",
      "|Argentina|    17|      DF|  OTAMENDI Nicolas|  OTAMENDI|Manchester City F...|   181|    81| 12|    2|1988|1988-02-12|   2|\n",
      "|Argentina|    13|      MF|  MEZA Maximiliano|      MEZA|CA Independiente ...|   180|    76| 15|   12|1992|1992-12-15|   2|\n",
      "|Argentina|    11|      MF|    DI MARIA Angel|  DI MARÍA|Paris Saint-Germa...|   178|    75| 14|    2|1988|1988-02-14|   3|\n",
      "|Argentina|    21|      FW|      DYBALA Paulo|    DYBALA|   Juventus FC (ITA)|   177|    73| 15|   11|1993|1993-11-15|   3|\n",
      "|Argentina|    20|      MF|  LO CELSO Giovani|  LO CELSO|Paris Saint-Germa...|   177|    75|  9|    4|1996|1996-04-09|   3|\n",
      "|Argentina|     5|      MF|      BIGLIA Lucas|    BIGLIA|      AC Milan (ITA)|   175|    73| 30|    1|1986|1986-01-30|   3|\n",
      "|Argentina|     7|      MF|       BANEGA Ever|    BANEGA|    Sevilla FC (ESP)|   175|    73| 29|    6|1988|1988-06-29|   3|\n",
      "|Argentina|    14|      DF| MASCHERANO Javier|MASCHERANO|Hebei China Fortu...|   174|    73|  8|    6|1984|1984-06-08|   4|\n",
      "|Argentina|    19|      FW|     AGUERO Sergio|    AGÜERO|Manchester City F...|   172|    74|  2|    6|1988|1988-06-02|   4|\n",
      "|Argentina|     8|      DF|      ACUNA Marcos|     ACUÑA|   Sporting CP (POR)|   172|    77| 28|   10|1991|1991-10-28|   4|\n",
      "|Argentina|    10|      FW|      MESSI Lionel|     MESSI|  FC Barcelona (ESP)|   170|    72| 24|    6|1987|1987-06-24|   4|\n",
      "|Argentina|     3|      DF|TAGLIAFICO Nicolas|TAGLIAFICO|      AFC Ajax (NED)|   169|    65| 31|    8|1992|1992-08-31|   5|\n",
      "|Argentina|    22|      MF|    PAVON Cristian|     PAVÓN|CA Boca Juniors (...|   169|    65| 21|    1|1996|1996-01-21|   5|\n",
      "|Argentina|    15|      MF|    LANZINI Manuel|   LANZINI|West Ham United F...|   167|    66| 15|    2|1993|1993-02-15|   5|\n",
      "|Argentina|    18|      DF|    SALVIO Eduardo|    SALVIO|    SL Benfica (POR)|   167|    69| 13|    7|1990|1990-07-13|   5|\n",
      "|Australia|    12|      GK|        JONES Brad|     JONES|Feyenoord Rotterd...|   193|    87| 19|    3|1982|1982-03-19|   1|\n",
      "|Australia|     9|      FW|        JURIC Tomi|     JURIC|     FC Luzern (SUI)|   190|    80| 22|    7|1991|1991-07-22|   1|\n",
      "|Australia|     6|      DF|    JURMAN Matthew|    JURMAN|Suwon Samsung Blu...|   190|    83|  8|   12|1989|1989-12-08|   1|\n",
      "|Australia|    23|      MF|         ROGIC Tom|     ROGIC|     Celtic FC (SCO)|   189|    88| 16|   12|1992|1992-12-16|   1|\n",
      "|Australia|    15|      MF|      JEDINAK Mile|   JEDINAK|Aston Villa FC (ENG)|   188|    78|  3|    8|1984|1984-08-03|   1|\n",
      "|Australia|     2|      DF|     DEGENEK Milos|   DEGENEK|Yokohama F-Marino...|   187|    85| 28|    4|1994|1994-04-28|   2|\n",
      "|Australia|    18|      GK|     VUKOVIC Danny|   VUKOVIC|      KRC Genk (BEL)|   187|    94| 27|    3|1985|1985-03-27|   2|\n",
      "|Australia|     1|      GK|       RYAN Mathew|      RYAN|Brighton & Hove A...|   184|    82|  8|    4|1992|1992-04-08|   2|\n",
      "|Australia|    20|      DF|   SAINSBURY Trent| SAINSBURY|Grasshopper Club ...|   183|    76|  5|    1|1992|1992-01-05|   2|\n",
      "|Australia|     7|      FW|     LECKIE Mathew|    LECKIE|    Hertha BSC (GER)|   181|    84|  4|    2|1991|1991-02-04|   2|\n",
      "|Australia|    10|      FW|      KRUSE Robbie|     KRUSE|    VfL Bochum (GER)|   180|    66|  5|   10|1988|1988-10-05|   3|\n",
      "|Australia|     4|      FW|        CAHILL Tim|    CAHILL|   Millwall FC (ENG)|   180|    76|  6|   12|1979|1979-12-06|   3|\n",
      "|Australia|    22|      MF|    IRVINE Jackson|    IRVINE|  Hull City FC (ENG)|   180|    77|  7|    3|1993|1993-03-07|   3|\n",
      "|Australia|     3|      DF|    MEREDITH James|  MEREDITH|   Millwall FC (ENG)|   179|    71|  5|    4|1988|1988-04-05|   3|\n",
      "|Australia|    14|      FW|    MacLAREN Jamie|  MACLAREN|  Hibernian FC (SCO)|   178|    72| 29|    7|1993|1993-07-29|   3|\n",
      "|Australia|     5|      DF|     MILLIGAN Mark|  MILLIGAN|    Al Ahli SC (KSA)|   178|    78|  4|    8|1985|1985-08-04|   4|\n",
      "|Australia|    11|      FW|    NABBOUT Andrew|   NABBOUT|    Urawa Reds (JPN)|   178|    85| 17|   12|1992|1992-12-17|   4|\n",
      "|Australia|    21|      FW|PETRATOS Dimitrios|  PETRATOS|Newcastle United ...|   176|    72| 10|   11|1992|1992-11-10|   4|\n",
      "|Australia|     8|      MF|    LUONGO Massimo|    LUONGO|Queens Park Range...|   176|    76| 25|    9|1992|1992-09-25|   4|\n",
      "|Australia|    13|      MF|        MOOY Aaron|      MOOY|Huddersfield Town...|   173|    72| 15|    9|1990|1990-09-15|   5|\n",
      "|Australia|    17|      FW|     ARZANI Daniel|    ARZANI|Melbourne City FC...|   171|    73|  4|    1|1999|1999-01-04|   5|\n",
      "|Australia|    16|      DF|       BEHICH Aziz|    BEHICH|     Bursaspor (TUR)|   170|    63| 16|   12|1990|1990-12-16|   5|\n",
      "|Australia|    19|      DF|     RISDON Joshua|    RISDON|WS Wanderers FC (...|   169|    70| 27|    7|1992|1992-07-27|   5|\n",
      "|  Belgium|     1|      GK|  COURTOIS Thibaut|  COURTOIS|    Chelsea FC (ENG)|   199|    91| 11|    5|1992|1992-05-11|   1|\n",
      "|  Belgium|    13|      GK|     CASTEELS Koen|  CASTEELS| VfL Wolfsburg (GER)|   197|    86| 25|    6|1992|1992-06-25|   1|\n",
      "|  Belgium|     8|      MF| FELLAINI Marouane|  FELLAINI|Manchester United...|   194|    85| 22|   11|1987|1987-11-22|   1|\n",
      "|  Belgium|    12|      GK|    MIGNOLET Simon|  MIGNOLET|  Liverpool FC (ENG)|   193|    87|  6|    3|1988|1988-03-06|   1|\n",
      "+---------+------+--------+------------------+----------+--------------------+------+------+---+-----+----+----------+----+\n",
      "only showing top 50 rows\n",
      "\n"
     ]
    }
   ],
   "source": [
    "# Define the window specification\n",
    "# - partitionBy(col(\"Team\")): partition the data by the \"Team\" column, so each team will have its own separate window\n",
    "# - orderBy(desc(col(\"Height\"))): order the rows within each partition by the \"Height\" column in descending order\n",
    "tile = Window.partitionBy(col(\"Team\")).orderBy(desc(col(\"Height\")))\n",
    "\n",
    "# Add a new column \"Tile\" to the DataFrame\n",
    "# - ntile(5): divides the data within each partition into 5 approximately equal-sized parts (tiles)\n",
    "# - over(tile): applies the window specification defined above to compute the tile number\n",
    "# This means that within each team, rows will be divided into 5 groups, where each group (tile) contains roughly the same number of rows\n",
    "df.withColumn(\"Tile\", ntile(5).over(tile)).show(50)"
   ]
  },
  {
   "cell_type": "markdown",
   "metadata": {},
   "source": [
    "## Window Analytic Functions\n",
    "\n",
    "- **Window Function 6 - LAG / Offset: `lag()`**\n",
    "  - Retrieves the value from a previous row in the same column, offset by a specified number of rows within a window partition.\n",
    "\n",
    "- **Window Function 7 - Lead / Offset: `lead()`**\n",
    "  - Retrieves the value from a subsequent row in the same column, offset by a specified number of rows within a window partition."
   ]
  },
  {
   "cell_type": "markdown",
   "metadata": {},
   "source": [
    "### Window Function 6 - LAG / Offset: `lag()`"
   ]
  },
  {
   "cell_type": "code",
   "execution_count": 66,
   "metadata": {},
   "outputs": [
    {
     "name": "stdout",
     "output_type": "stream",
     "text": [
      "+---------+------+--------+------------------+----------+--------------------+------+------+---+-----+----+----------+----+\n",
      "|     Team|Number|Position| FIFA Popular Name|Shirt Name|                Club|Height|Weight|Day|Month|Year|     Birth| Lag|\n",
      "+---------+------+--------+------------------+----------+--------------------+------+------+---+-----+----+----------+----+\n",
      "|Argentina|     6|      DF|    FAZIO Federico|     FAZIO|       AS Roma (ITA)|   199|    85| 17|    3|1987|1987-03-17|NULL|\n",
      "|Argentina|     1|      GK|     GUZMAN Nahuel|    GUZMÁN|   Tigres UANL (MEX)|   192|    90| 10|    2|1986|1986-02-10|NULL|\n",
      "|Argentina|    16|      DF|       ROJO Marcos|      ROJO|Manchester United...|   189|    82| 20|    3|1990|1990-03-20| 199|\n",
      "|Argentina|    12|      GK|     ARMANI Franco|    ARMANI|CA River Plate (ARG)|   189|    85| 16|   10|1986|1986-10-16| 192|\n",
      "|Argentina|    23|      GK|CABALLERO Wilfredo| CABALLERO|    Chelsea FC (ENG)|   186|    80| 28|    9|1981|1981-09-28| 189|\n",
      "|Argentina|     9|      FW|   HIGUAIN Gonzalo|   HIGUAÍN|   Juventus FC (ITA)|   184|    75| 10|   12|1987|1987-12-10| 189|\n",
      "|Argentina|     4|      DF|  ANSALDI Cristian|   ANSALDI|     Torino FC (ITA)|   181|    73| 20|    9|1986|1986-09-20| 186|\n",
      "|Argentina|     2|      DF|   MERCADO Gabriel|   MERCADO|    Sevilla FC (ESP)|   181|    81| 18|    3|1987|1987-03-18| 184|\n",
      "|Argentina|    17|      DF|  OTAMENDI Nicolas|  OTAMENDI|Manchester City F...|   181|    81| 12|    2|1988|1988-02-12| 181|\n",
      "|Argentina|    13|      MF|  MEZA Maximiliano|      MEZA|CA Independiente ...|   180|    76| 15|   12|1992|1992-12-15| 181|\n",
      "|Argentina|    11|      MF|    DI MARIA Angel|  DI MARÍA|Paris Saint-Germa...|   178|    75| 14|    2|1988|1988-02-14| 181|\n",
      "|Argentina|    21|      FW|      DYBALA Paulo|    DYBALA|   Juventus FC (ITA)|   177|    73| 15|   11|1993|1993-11-15| 180|\n",
      "|Argentina|    20|      MF|  LO CELSO Giovani|  LO CELSO|Paris Saint-Germa...|   177|    75|  9|    4|1996|1996-04-09| 178|\n",
      "|Argentina|     5|      MF|      BIGLIA Lucas|    BIGLIA|      AC Milan (ITA)|   175|    73| 30|    1|1986|1986-01-30| 177|\n",
      "|Argentina|     7|      MF|       BANEGA Ever|    BANEGA|    Sevilla FC (ESP)|   175|    73| 29|    6|1988|1988-06-29| 177|\n",
      "|Argentina|    14|      DF| MASCHERANO Javier|MASCHERANO|Hebei China Fortu...|   174|    73|  8|    6|1984|1984-06-08| 175|\n",
      "|Argentina|    19|      FW|     AGUERO Sergio|    AGÜERO|Manchester City F...|   172|    74|  2|    6|1988|1988-06-02| 175|\n",
      "|Argentina|     8|      DF|      ACUNA Marcos|     ACUÑA|   Sporting CP (POR)|   172|    77| 28|   10|1991|1991-10-28| 174|\n",
      "|Argentina|    10|      FW|      MESSI Lionel|     MESSI|  FC Barcelona (ESP)|   170|    72| 24|    6|1987|1987-06-24| 172|\n",
      "|Argentina|     3|      DF|TAGLIAFICO Nicolas|TAGLIAFICO|      AFC Ajax (NED)|   169|    65| 31|    8|1992|1992-08-31| 172|\n",
      "|Argentina|    22|      MF|    PAVON Cristian|     PAVÓN|CA Boca Juniors (...|   169|    65| 21|    1|1996|1996-01-21| 170|\n",
      "|Argentina|    15|      MF|    LANZINI Manuel|   LANZINI|West Ham United F...|   167|    66| 15|    2|1993|1993-02-15| 169|\n",
      "|Argentina|    18|      DF|    SALVIO Eduardo|    SALVIO|    SL Benfica (POR)|   167|    69| 13|    7|1990|1990-07-13| 169|\n",
      "|Australia|    12|      GK|        JONES Brad|     JONES|Feyenoord Rotterd...|   193|    87| 19|    3|1982|1982-03-19|NULL|\n",
      "|Australia|     9|      FW|        JURIC Tomi|     JURIC|     FC Luzern (SUI)|   190|    80| 22|    7|1991|1991-07-22|NULL|\n",
      "|Australia|     6|      DF|    JURMAN Matthew|    JURMAN|Suwon Samsung Blu...|   190|    83|  8|   12|1989|1989-12-08| 193|\n",
      "|Australia|    23|      MF|         ROGIC Tom|     ROGIC|     Celtic FC (SCO)|   189|    88| 16|   12|1992|1992-12-16| 190|\n",
      "|Australia|    15|      MF|      JEDINAK Mile|   JEDINAK|Aston Villa FC (ENG)|   188|    78|  3|    8|1984|1984-08-03| 190|\n",
      "|Australia|     2|      DF|     DEGENEK Milos|   DEGENEK|Yokohama F-Marino...|   187|    85| 28|    4|1994|1994-04-28| 189|\n",
      "|Australia|    18|      GK|     VUKOVIC Danny|   VUKOVIC|      KRC Genk (BEL)|   187|    94| 27|    3|1985|1985-03-27| 188|\n",
      "|Australia|     1|      GK|       RYAN Mathew|      RYAN|Brighton & Hove A...|   184|    82|  8|    4|1992|1992-04-08| 187|\n",
      "|Australia|    20|      DF|   SAINSBURY Trent| SAINSBURY|Grasshopper Club ...|   183|    76|  5|    1|1992|1992-01-05| 187|\n",
      "|Australia|     7|      FW|     LECKIE Mathew|    LECKIE|    Hertha BSC (GER)|   181|    84|  4|    2|1991|1991-02-04| 184|\n",
      "|Australia|    10|      FW|      KRUSE Robbie|     KRUSE|    VfL Bochum (GER)|   180|    66|  5|   10|1988|1988-10-05| 183|\n",
      "|Australia|     4|      FW|        CAHILL Tim|    CAHILL|   Millwall FC (ENG)|   180|    76|  6|   12|1979|1979-12-06| 181|\n",
      "|Australia|    22|      MF|    IRVINE Jackson|    IRVINE|  Hull City FC (ENG)|   180|    77|  7|    3|1993|1993-03-07| 180|\n",
      "|Australia|     3|      DF|    MEREDITH James|  MEREDITH|   Millwall FC (ENG)|   179|    71|  5|    4|1988|1988-04-05| 180|\n",
      "|Australia|    14|      FW|    MacLAREN Jamie|  MACLAREN|  Hibernian FC (SCO)|   178|    72| 29|    7|1993|1993-07-29| 180|\n",
      "|Australia|     5|      DF|     MILLIGAN Mark|  MILLIGAN|    Al Ahli SC (KSA)|   178|    78|  4|    8|1985|1985-08-04| 179|\n",
      "|Australia|    11|      FW|    NABBOUT Andrew|   NABBOUT|    Urawa Reds (JPN)|   178|    85| 17|   12|1992|1992-12-17| 178|\n",
      "|Australia|    21|      FW|PETRATOS Dimitrios|  PETRATOS|Newcastle United ...|   176|    72| 10|   11|1992|1992-11-10| 178|\n",
      "|Australia|     8|      MF|    LUONGO Massimo|    LUONGO|Queens Park Range...|   176|    76| 25|    9|1992|1992-09-25| 178|\n",
      "|Australia|    13|      MF|        MOOY Aaron|      MOOY|Huddersfield Town...|   173|    72| 15|    9|1990|1990-09-15| 176|\n",
      "|Australia|    17|      FW|     ARZANI Daniel|    ARZANI|Melbourne City FC...|   171|    73|  4|    1|1999|1999-01-04| 176|\n",
      "|Australia|    16|      DF|       BEHICH Aziz|    BEHICH|     Bursaspor (TUR)|   170|    63| 16|   12|1990|1990-12-16| 173|\n",
      "|Australia|    19|      DF|     RISDON Joshua|    RISDON|WS Wanderers FC (...|   169|    70| 27|    7|1992|1992-07-27| 171|\n",
      "|  Belgium|     1|      GK|  COURTOIS Thibaut|  COURTOIS|    Chelsea FC (ENG)|   199|    91| 11|    5|1992|1992-05-11|NULL|\n",
      "|  Belgium|    13|      GK|     CASTEELS Koen|  CASTEELS| VfL Wolfsburg (GER)|   197|    86| 25|    6|1992|1992-06-25|NULL|\n",
      "|  Belgium|     8|      MF| FELLAINI Marouane|  FELLAINI|Manchester United...|   194|    85| 22|   11|1987|1987-11-22| 199|\n",
      "|  Belgium|    12|      GK|    MIGNOLET Simon|  MIGNOLET|  Liverpool FC (ENG)|   193|    87|  6|    3|1988|1988-03-06| 197|\n",
      "+---------+------+--------+------------------+----------+--------------------+------+------+---+-----+----+----------+----+\n",
      "only showing top 50 rows\n",
      "\n"
     ]
    }
   ],
   "source": [
    "# Define the window specification\n",
    "# - partitionBy(col(\"Team\")): partition the data by the \"Team\" column, so each team will have its own separate window\n",
    "# - orderBy(desc(col(\"Height\"))): order the rows within each partition by the \"Height\" column in descending order\n",
    "l = Window.partitionBy(col(\"Team\")).orderBy(desc(col(\"Height\")))\n",
    "\n",
    "# Add a new column \"Lag\" to the DataFrame\n",
    "# - lag(col(\"Height\"), 2): shifts the value of the \"Height\" column by 2 rows within the specified window\n",
    "# - over(l): applies the window specification defined above to compute the lagged values\n",
    "# This means that within each team, the \"Lag\" column will show the height value from 2 rows earlier, relative to the current row's position\n",
    "df.withColumn(\"Lag\", lag(col(\"Height\"), 2).over(l)).show(50)"
   ]
  },
  {
   "cell_type": "markdown",
   "metadata": {},
   "source": [
    "### Window Function 7 - Lead / Offset: `lead()`"
   ]
  },
  {
   "cell_type": "code",
   "execution_count": 67,
   "metadata": {},
   "outputs": [
    {
     "name": "stdout",
     "output_type": "stream",
     "text": [
      "+---------+------+--------+------------------+----------+--------------------+------+------+---+-----+----+----------+----+\n",
      "|     Team|Number|Position| FIFA Popular Name|Shirt Name|                Club|Height|Weight|Day|Month|Year|     Birth|Lead|\n",
      "+---------+------+--------+------------------+----------+--------------------+------+------+---+-----+----+----------+----+\n",
      "|Argentina|     6|      DF|    FAZIO Federico|     FAZIO|       AS Roma (ITA)|   199|    85| 17|    3|1987|1987-03-17| 192|\n",
      "|Argentina|     1|      GK|     GUZMAN Nahuel|    GUZMÁN|   Tigres UANL (MEX)|   192|    90| 10|    2|1986|1986-02-10| 189|\n",
      "|Argentina|    16|      DF|       ROJO Marcos|      ROJO|Manchester United...|   189|    82| 20|    3|1990|1990-03-20| 189|\n",
      "|Argentina|    12|      GK|     ARMANI Franco|    ARMANI|CA River Plate (ARG)|   189|    85| 16|   10|1986|1986-10-16| 186|\n",
      "|Argentina|    23|      GK|CABALLERO Wilfredo| CABALLERO|    Chelsea FC (ENG)|   186|    80| 28|    9|1981|1981-09-28| 184|\n",
      "|Argentina|     9|      FW|   HIGUAIN Gonzalo|   HIGUAÍN|   Juventus FC (ITA)|   184|    75| 10|   12|1987|1987-12-10| 181|\n",
      "|Argentina|     4|      DF|  ANSALDI Cristian|   ANSALDI|     Torino FC (ITA)|   181|    73| 20|    9|1986|1986-09-20| 181|\n",
      "|Argentina|     2|      DF|   MERCADO Gabriel|   MERCADO|    Sevilla FC (ESP)|   181|    81| 18|    3|1987|1987-03-18| 181|\n",
      "|Argentina|    17|      DF|  OTAMENDI Nicolas|  OTAMENDI|Manchester City F...|   181|    81| 12|    2|1988|1988-02-12| 180|\n",
      "|Argentina|    13|      MF|  MEZA Maximiliano|      MEZA|CA Independiente ...|   180|    76| 15|   12|1992|1992-12-15| 178|\n",
      "|Argentina|    11|      MF|    DI MARIA Angel|  DI MARÍA|Paris Saint-Germa...|   178|    75| 14|    2|1988|1988-02-14| 177|\n",
      "|Argentina|    21|      FW|      DYBALA Paulo|    DYBALA|   Juventus FC (ITA)|   177|    73| 15|   11|1993|1993-11-15| 177|\n",
      "|Argentina|    20|      MF|  LO CELSO Giovani|  LO CELSO|Paris Saint-Germa...|   177|    75|  9|    4|1996|1996-04-09| 175|\n",
      "|Argentina|     5|      MF|      BIGLIA Lucas|    BIGLIA|      AC Milan (ITA)|   175|    73| 30|    1|1986|1986-01-30| 175|\n",
      "|Argentina|     7|      MF|       BANEGA Ever|    BANEGA|    Sevilla FC (ESP)|   175|    73| 29|    6|1988|1988-06-29| 174|\n",
      "|Argentina|    14|      DF| MASCHERANO Javier|MASCHERANO|Hebei China Fortu...|   174|    73|  8|    6|1984|1984-06-08| 172|\n",
      "|Argentina|    19|      FW|     AGUERO Sergio|    AGÜERO|Manchester City F...|   172|    74|  2|    6|1988|1988-06-02| 172|\n",
      "|Argentina|     8|      DF|      ACUNA Marcos|     ACUÑA|   Sporting CP (POR)|   172|    77| 28|   10|1991|1991-10-28| 170|\n",
      "|Argentina|    10|      FW|      MESSI Lionel|     MESSI|  FC Barcelona (ESP)|   170|    72| 24|    6|1987|1987-06-24| 169|\n",
      "|Argentina|     3|      DF|TAGLIAFICO Nicolas|TAGLIAFICO|      AFC Ajax (NED)|   169|    65| 31|    8|1992|1992-08-31| 169|\n",
      "|Argentina|    22|      MF|    PAVON Cristian|     PAVÓN|CA Boca Juniors (...|   169|    65| 21|    1|1996|1996-01-21| 167|\n",
      "|Argentina|    15|      MF|    LANZINI Manuel|   LANZINI|West Ham United F...|   167|    66| 15|    2|1993|1993-02-15| 167|\n",
      "|Argentina|    18|      DF|    SALVIO Eduardo|    SALVIO|    SL Benfica (POR)|   167|    69| 13|    7|1990|1990-07-13|NULL|\n",
      "|Australia|    12|      GK|        JONES Brad|     JONES|Feyenoord Rotterd...|   193|    87| 19|    3|1982|1982-03-19| 190|\n",
      "|Australia|     9|      FW|        JURIC Tomi|     JURIC|     FC Luzern (SUI)|   190|    80| 22|    7|1991|1991-07-22| 190|\n",
      "|Australia|     6|      DF|    JURMAN Matthew|    JURMAN|Suwon Samsung Blu...|   190|    83|  8|   12|1989|1989-12-08| 189|\n",
      "|Australia|    23|      MF|         ROGIC Tom|     ROGIC|     Celtic FC (SCO)|   189|    88| 16|   12|1992|1992-12-16| 188|\n",
      "|Australia|    15|      MF|      JEDINAK Mile|   JEDINAK|Aston Villa FC (ENG)|   188|    78|  3|    8|1984|1984-08-03| 187|\n",
      "|Australia|     2|      DF|     DEGENEK Milos|   DEGENEK|Yokohama F-Marino...|   187|    85| 28|    4|1994|1994-04-28| 187|\n",
      "|Australia|    18|      GK|     VUKOVIC Danny|   VUKOVIC|      KRC Genk (BEL)|   187|    94| 27|    3|1985|1985-03-27| 184|\n",
      "|Australia|     1|      GK|       RYAN Mathew|      RYAN|Brighton & Hove A...|   184|    82|  8|    4|1992|1992-04-08| 183|\n",
      "|Australia|    20|      DF|   SAINSBURY Trent| SAINSBURY|Grasshopper Club ...|   183|    76|  5|    1|1992|1992-01-05| 181|\n",
      "|Australia|     7|      FW|     LECKIE Mathew|    LECKIE|    Hertha BSC (GER)|   181|    84|  4|    2|1991|1991-02-04| 180|\n",
      "|Australia|    10|      FW|      KRUSE Robbie|     KRUSE|    VfL Bochum (GER)|   180|    66|  5|   10|1988|1988-10-05| 180|\n",
      "|Australia|     4|      FW|        CAHILL Tim|    CAHILL|   Millwall FC (ENG)|   180|    76|  6|   12|1979|1979-12-06| 180|\n",
      "|Australia|    22|      MF|    IRVINE Jackson|    IRVINE|  Hull City FC (ENG)|   180|    77|  7|    3|1993|1993-03-07| 179|\n",
      "|Australia|     3|      DF|    MEREDITH James|  MEREDITH|   Millwall FC (ENG)|   179|    71|  5|    4|1988|1988-04-05| 178|\n",
      "|Australia|    14|      FW|    MacLAREN Jamie|  MACLAREN|  Hibernian FC (SCO)|   178|    72| 29|    7|1993|1993-07-29| 178|\n",
      "|Australia|     5|      DF|     MILLIGAN Mark|  MILLIGAN|    Al Ahli SC (KSA)|   178|    78|  4|    8|1985|1985-08-04| 178|\n",
      "|Australia|    11|      FW|    NABBOUT Andrew|   NABBOUT|    Urawa Reds (JPN)|   178|    85| 17|   12|1992|1992-12-17| 176|\n",
      "|Australia|    21|      FW|PETRATOS Dimitrios|  PETRATOS|Newcastle United ...|   176|    72| 10|   11|1992|1992-11-10| 176|\n",
      "|Australia|     8|      MF|    LUONGO Massimo|    LUONGO|Queens Park Range...|   176|    76| 25|    9|1992|1992-09-25| 173|\n",
      "|Australia|    13|      MF|        MOOY Aaron|      MOOY|Huddersfield Town...|   173|    72| 15|    9|1990|1990-09-15| 171|\n",
      "|Australia|    17|      FW|     ARZANI Daniel|    ARZANI|Melbourne City FC...|   171|    73|  4|    1|1999|1999-01-04| 170|\n",
      "|Australia|    16|      DF|       BEHICH Aziz|    BEHICH|     Bursaspor (TUR)|   170|    63| 16|   12|1990|1990-12-16| 169|\n",
      "|Australia|    19|      DF|     RISDON Joshua|    RISDON|WS Wanderers FC (...|   169|    70| 27|    7|1992|1992-07-27|NULL|\n",
      "|  Belgium|     1|      GK|  COURTOIS Thibaut|  COURTOIS|    Chelsea FC (ENG)|   199|    91| 11|    5|1992|1992-05-11| 197|\n",
      "|  Belgium|    13|      GK|     CASTEELS Koen|  CASTEELS| VfL Wolfsburg (GER)|   197|    86| 25|    6|1992|1992-06-25| 194|\n",
      "|  Belgium|     8|      MF| FELLAINI Marouane|  FELLAINI|Manchester United...|   194|    85| 22|   11|1987|1987-11-22| 193|\n",
      "|  Belgium|    12|      GK|    MIGNOLET Simon|  MIGNOLET|  Liverpool FC (ENG)|   193|    87|  6|    3|1988|1988-03-06| 190|\n",
      "+---------+------+--------+------------------+----------+--------------------+------+------+---+-----+----+----------+----+\n",
      "only showing top 50 rows\n",
      "\n"
     ]
    }
   ],
   "source": [
    "# Define the window specification\n",
    "# - partitionBy(col(\"Team\")): partition the data by the \"Team\" column, so each team will have its own separate window\n",
    "# - orderBy(desc(col(\"Height\"))): order the rows within each partition by the \"Height\" column in descending order\n",
    "l = Window.partitionBy(col(\"Team\")).orderBy(desc(col(\"Height\")))\n",
    "\n",
    "# Add a new column \"Lead\" to the DataFrame\n",
    "# - lead(col(\"Height\")): shifts the value of the \"Height\" column by 1 row within the specified window\n",
    "# - over(l): applies the window specification defined above to compute the lead values\n",
    "# This means that within each team, the \"Lead\" column will show the height value from 1 row ahead, relative to the current row's position\n",
    "df.withColumn(\"Lead\", lead(col(\"Height\")).over(l)).show(50)"
   ]
  },
  {
   "cell_type": "markdown",
   "metadata": {},
   "source": [
    "## Aggregations"
   ]
  },
  {
   "cell_type": "markdown",
   "metadata": {},
   "source": [
    "### GroupBy + AGG 1"
   ]
  },
  {
   "cell_type": "code",
   "execution_count": 68,
   "metadata": {},
   "outputs": [
    {
     "name": "stdout",
     "output_type": "stream",
     "text": [
      "+--------------+------------------+\n",
      "|          Team|       avg(Height)|\n",
      "+--------------+------------------+\n",
      "|        Serbia|186.69565217391303|\n",
      "|       Denmark| 186.6086956521739|\n",
      "|       Germany| 185.7826086956522|\n",
      "|        Sweden| 185.7391304347826|\n",
      "|       Iceland|185.52173913043478|\n",
      "|       Belgium|185.34782608695653|\n",
      "|       Croatia| 185.2608695652174|\n",
      "|       Nigeria|184.52173913043478|\n",
      "|       IR Iran|184.47826086956522|\n",
      "|        Russia| 184.3913043478261|\n",
      "|       Senegal|183.65217391304347|\n",
      "|        France|183.30434782608697|\n",
      "|        Poland|183.17391304347825|\n",
      "|       Tunisia|183.08695652173913|\n",
      "|   Switzerland|182.91304347826087|\n",
      "|       England| 182.7391304347826|\n",
      "|       Morocco|182.69565217391303|\n",
      "|        Panama|182.17391304347825|\n",
      "|Korea Republic| 181.8695652173913|\n",
      "|       Uruguay|181.04347826086956|\n",
      "|         Egypt|             181.0|\n",
      "|     Australia| 180.8695652173913|\n",
      "|        Brazil| 180.7826086956522|\n",
      "|      Colombia| 180.7826086956522|\n",
      "|    Costa Rica|180.69565217391303|\n",
      "|         Spain|179.91304347826087|\n",
      "|        Mexico| 179.7826086956522|\n",
      "|      Portugal| 179.7391304347826|\n",
      "|         Japan| 178.7826086956522|\n",
      "|     Argentina|178.43478260869566|\n",
      "|  Saudi Arabia|177.65217391304347|\n",
      "|          Peru| 177.6086956521739|\n",
      "+--------------+------------------+\n",
      "\n"
     ]
    }
   ],
   "source": [
    "# Group by the \"Team\" column and calculate the average of the \"Height\" column\n",
    "# - groupBy(col(\"Team\")): groups the data by the \"Team\" column, creating a separate group for each team\n",
    "# - agg({\"Height\": \"avg\"}): computes the average of the \"Height\" column for each group. The result will be a new column named \"avg(Height)\"\n",
    "# - orderBy(col(\"avg(Height)\"), ascending=False): sorts the groups by the average height in descending order\n",
    "#   This ensures that teams with higher average heights appear first in the result\n",
    "df.groupBy(col(\"Team\")).agg({\"Height\": \"avg\"}) \\\n",
    "   .orderBy(col(\"avg(Height)\"), ascending=False) \\\n",
    "   .show(50)"
   ]
  },
  {
   "cell_type": "markdown",
   "metadata": {},
   "source": [
    "### GroupBy + AGG 2"
   ]
  },
  {
   "cell_type": "code",
   "execution_count": 69,
   "metadata": {},
   "outputs": [
    {
     "name": "stdout",
     "output_type": "stream",
     "text": [
      "+--------------+------------------+\n",
      "|          Team|        avg_Height|\n",
      "+--------------+------------------+\n",
      "|        Serbia|186.69565217391303|\n",
      "|       Denmark| 186.6086956521739|\n",
      "|       Germany| 185.7826086956522|\n",
      "|        Sweden| 185.7391304347826|\n",
      "|       Iceland|185.52173913043478|\n",
      "|       Belgium|185.34782608695653|\n",
      "|       Croatia| 185.2608695652174|\n",
      "|       Nigeria|184.52173913043478|\n",
      "|       IR Iran|184.47826086956522|\n",
      "|        Russia| 184.3913043478261|\n",
      "|       Senegal|183.65217391304347|\n",
      "|        France|183.30434782608697|\n",
      "|        Poland|183.17391304347825|\n",
      "|       Tunisia|183.08695652173913|\n",
      "|   Switzerland|182.91304347826087|\n",
      "|       England| 182.7391304347826|\n",
      "|       Morocco|182.69565217391303|\n",
      "|        Panama|182.17391304347825|\n",
      "|Korea Republic| 181.8695652173913|\n",
      "|       Uruguay|181.04347826086956|\n",
      "|         Egypt|             181.0|\n",
      "|     Australia| 180.8695652173913|\n",
      "|        Brazil| 180.7826086956522|\n",
      "|      Colombia| 180.7826086956522|\n",
      "|    Costa Rica|180.69565217391303|\n",
      "|         Spain|179.91304347826087|\n",
      "|        Mexico| 179.7826086956522|\n",
      "|      Portugal| 179.7391304347826|\n",
      "|         Japan| 178.7826086956522|\n",
      "|     Argentina|178.43478260869566|\n",
      "|  Saudi Arabia|177.65217391304347|\n",
      "|          Peru| 177.6086956521739|\n",
      "+--------------+------------------+\n",
      "\n"
     ]
    }
   ],
   "source": [
    "# Group by the \"Team\" column and calculate the average of the \"Height\" column\n",
    "# - groupBy(col(\"Team\")): groups the data by the \"Team\" column, creating a separate group for each team\n",
    "# - agg(avg(col(\"Height\")).alias(\"avg_Height\")): computes the average of the \"Height\" column for each group\n",
    "#   - avg(col(\"Height\")): calculates the average height within each team\n",
    "#   - alias(\"avg_Height\"): renames the resulting average column to \"avg_Height\" for clarity\n",
    "# - orderBy(col(\"avg_Height\"), ascending=False): sorts the groups by the average height in descending order\n",
    "#   This ensures that teams with higher average heights appear first in the result\n",
    "df.groupBy(col(\"Team\")).agg(avg(col(\"Height\")).alias(\"avg_Height\")) \\\n",
    "   .orderBy(col(\"avg_Height\"), ascending=False) \\\n",
    "   .show(50)"
   ]
  },
  {
   "cell_type": "markdown",
   "metadata": {},
   "source": [
    "## Where (Filter)"
   ]
  },
  {
   "cell_type": "code",
   "execution_count": 70,
   "metadata": {},
   "outputs": [
    {
     "name": "stdout",
     "output_type": "stream",
     "text": [
      "+------+------+--------+-----------------+-----------+--------------------+------+------+---+-----+----+----------+\n",
      "|  Team|Number|Position|FIFA Popular Name| Shirt Name|                Club|Height|Weight|Day|Month|Year|     Birth|\n",
      "+------+------+--------+-----------------+-----------+--------------------+------+------+---+-----+----+----------+\n",
      "|Brazil|    18|      MF|             FRED|       FRED|FC Shakhtar Donet...|   169|    64|  5|    3|1993|1993-03-05|\n",
      "|Brazil|    21|      FW|           TAISON|     TAISON|FC Shakhtar Donet...|   172|    64| 13|    1|1988|1988-01-13|\n",
      "|Brazil|    17|      MF|      FERNANDINHO|FERNANDINHO|Manchester City F...|   179|    67|  4|    5|1985|1985-05-04|\n",
      "|Brazil|    22|      DF|           FAGNER|     FAGNER|SC Corinthians (BRA)|   168|    67| 11|    6|1989|1989-06-11|\n",
      "|Brazil|    10|      FW|           NEYMAR|  NEYMAR JR|Paris Saint-Germa...|   175|    68|  5|    2|1992|1992-02-05|\n",
      "|Brazil|    11|      MF|PHILIPPE COUTINHO|P. COUTINHO|  FC Barcelona (ESP)|   172|    68| 12|    6|1992|1992-06-12|\n",
      "|Brazil|     7|      FW|    DOUGLAS COSTA|   D. COSTA|   Juventus FC (ITA)|   182|    70| 14|    9|1990|1990-09-14|\n",
      "|Brazil|     6|      DF|      FILIPE LUIS|FILIPE LUIS|Atletico Madrid (...|   182|    73|  9|    8|1985|1985-08-09|\n",
      "|Brazil|     9|      FW|    GABRIEL JESUS|   G. JESUS|Manchester City F...|   175|    73|  3|    4|1997|1997-04-03|\n",
      "|Brazil|    13|      DF|       MARQUINHOS| MARQUINHOS|Paris Saint-Germa...|   183|    75| 14|    5|1994|1994-05-14|\n",
      "|Brazil|    20|      FW|  ROBERTO FIRMINO|    FIRMINO|  Liverpool FC (ENG)|   181|    76|  2|   10|1991|1991-10-02|\n",
      "|Brazil|    19|      MF|          WILLIAN|    WILLIAN|    Chelsea FC (ENG)|   175|    77|  9|    8|1988|1988-08-09|\n",
      "|Brazil|     3|      DF|          MIRANDA|    MIRANDA|FC Internazionale...|   186|    78|  7|    9|1984|1984-09-07|\n",
      "|Brazil|    14|      DF|           DANILO|     DANILO|Manchester City F...|   184|    78| 15|    7|1991|1991-07-15|\n",
      "|Brazil|     2|      DF|     THIAGO SILVA|   T. SILVA|Paris Saint-Germa...|   183|    79| 22|    9|1984|1984-09-22|\n",
      "|Brazil|    12|      DF|          MARCELO|    MARCELO|Real Madrid CF (ESP)|   174|    80| 12|    5|1988|1988-05-12|\n",
      "|Brazil|    15|      MF|         PAULINHO|   PAULINHO|  FC Barcelona (ESP)|   181|    81| 25|    7|1988|1988-07-25|\n",
      "|Brazil|     4|      DF|    PEDRO GEROMEL|    GEROMEL|   Grêmio FBPA (BRA)|   190|    84| 21|    9|1985|1985-09-21|\n",
      "|Brazil|     5|      MF|         CASEMIRO|   CASEMIRO|Real Madrid CF (ESP)|   185|    84| 23|    2|1992|1992-02-23|\n",
      "|Brazil|     8|      MF|   RENATO AUGUSTO| R. AUGUSTO| Beijing Guoan (CHN)|   186|    86|  8|    2|1988|1988-02-08|\n",
      "|Brazil|    23|      GK|          EDERSON|    EDERSON|Manchester City F...|   188|    86| 17|    8|1993|1993-08-17|\n",
      "|Brazil|     1|      GK|          ALISSON|  A. BECKER|       AS Roma (ITA)|   193|    91|  2|   10|1992|1992-10-02|\n",
      "|Brazil|    16|      GK|           CASSIO|     CASSIO|SC Corinthians (BRA)|   195|    92|  6|    6|1987|1987-06-06|\n",
      "+------+------+--------+-----------------+-----------+--------------------+------+------+---+-----+----+----------+\n",
      "\n"
     ]
    }
   ],
   "source": [
    "# Filter the DataFrame to include only rows where the \"Team\" column is \"Brazil\"\n",
    "# - filter(col(\"Team\") == \"Brazil\"): selects rows where the value in the \"Team\" column is equal to \"Brazil\"\n",
    "# - show(25): displays the first 25 rows of the filtered DataFrame\n",
    "df.filter(col(\"Team\") == \"Brazil\").show(25)"
   ]
  },
  {
   "cell_type": "code",
   "execution_count": 71,
   "metadata": {},
   "outputs": [
    {
     "name": "stdout",
     "output_type": "stream",
     "text": [
      "+------+------+--------+-----------------+-----------+--------------------+------+------+---+-----+----+----------+\n",
      "|  Team|Number|Position|FIFA Popular Name| Shirt Name|                Club|Height|Weight|Day|Month|Year|     Birth|\n",
      "+------+------+--------+-----------------+-----------+--------------------+------+------+---+-----+----+----------+\n",
      "|Brazil|    18|      MF|             FRED|       FRED|FC Shakhtar Donet...|   169|    64|  5|    3|1993|1993-03-05|\n",
      "|Brazil|    21|      FW|           TAISON|     TAISON|FC Shakhtar Donet...|   172|    64| 13|    1|1988|1988-01-13|\n",
      "|Brazil|    17|      MF|      FERNANDINHO|FERNANDINHO|Manchester City F...|   179|    67|  4|    5|1985|1985-05-04|\n",
      "|Brazil|    22|      DF|           FAGNER|     FAGNER|SC Corinthians (BRA)|   168|    67| 11|    6|1989|1989-06-11|\n",
      "|Brazil|    10|      FW|           NEYMAR|  NEYMAR JR|Paris Saint-Germa...|   175|    68|  5|    2|1992|1992-02-05|\n",
      "|Brazil|    11|      MF|PHILIPPE COUTINHO|P. COUTINHO|  FC Barcelona (ESP)|   172|    68| 12|    6|1992|1992-06-12|\n",
      "|Brazil|     7|      FW|    DOUGLAS COSTA|   D. COSTA|   Juventus FC (ITA)|   182|    70| 14|    9|1990|1990-09-14|\n",
      "|Brazil|     6|      DF|      FILIPE LUIS|FILIPE LUIS|Atletico Madrid (...|   182|    73|  9|    8|1985|1985-08-09|\n",
      "|Brazil|     9|      FW|    GABRIEL JESUS|   G. JESUS|Manchester City F...|   175|    73|  3|    4|1997|1997-04-03|\n",
      "|Brazil|    13|      DF|       MARQUINHOS| MARQUINHOS|Paris Saint-Germa...|   183|    75| 14|    5|1994|1994-05-14|\n",
      "|Brazil|    20|      FW|  ROBERTO FIRMINO|    FIRMINO|  Liverpool FC (ENG)|   181|    76|  2|   10|1991|1991-10-02|\n",
      "|Brazil|    19|      MF|          WILLIAN|    WILLIAN|    Chelsea FC (ENG)|   175|    77|  9|    8|1988|1988-08-09|\n",
      "|Brazil|     3|      DF|          MIRANDA|    MIRANDA|FC Internazionale...|   186|    78|  7|    9|1984|1984-09-07|\n",
      "|Brazil|    14|      DF|           DANILO|     DANILO|Manchester City F...|   184|    78| 15|    7|1991|1991-07-15|\n",
      "|Brazil|     2|      DF|     THIAGO SILVA|   T. SILVA|Paris Saint-Germa...|   183|    79| 22|    9|1984|1984-09-22|\n",
      "|Brazil|    12|      DF|          MARCELO|    MARCELO|Real Madrid CF (ESP)|   174|    80| 12|    5|1988|1988-05-12|\n",
      "|Brazil|    15|      MF|         PAULINHO|   PAULINHO|  FC Barcelona (ESP)|   181|    81| 25|    7|1988|1988-07-25|\n",
      "|Brazil|     4|      DF|    PEDRO GEROMEL|    GEROMEL|   Grêmio FBPA (BRA)|   190|    84| 21|    9|1985|1985-09-21|\n",
      "|Brazil|     5|      MF|         CASEMIRO|   CASEMIRO|Real Madrid CF (ESP)|   185|    84| 23|    2|1992|1992-02-23|\n",
      "|Brazil|     8|      MF|   RENATO AUGUSTO| R. AUGUSTO| Beijing Guoan (CHN)|   186|    86|  8|    2|1988|1988-02-08|\n",
      "|Brazil|    23|      GK|          EDERSON|    EDERSON|Manchester City F...|   188|    86| 17|    8|1993|1993-08-17|\n",
      "|Brazil|     1|      GK|          ALISSON|  A. BECKER|       AS Roma (ITA)|   193|    91|  2|   10|1992|1992-10-02|\n",
      "|Brazil|    16|      GK|           CASSIO|     CASSIO|SC Corinthians (BRA)|   195|    92|  6|    6|1987|1987-06-06|\n",
      "+------+------+--------+-----------------+-----------+--------------------+------+------+---+-----+----+----------+\n",
      "\n"
     ]
    }
   ],
   "source": [
    "# Filter the DataFrame to include only rows where the \"Team\" column is \"Brazil\"\n",
    "# - where(col(\"Team\") == \"Brazil\"): selects rows where the value in the \"Team\" column is equal to \"Brazil\"\n",
    "# - show(25): displays the first 25 rows of the filtered DataFrame\n",
    "df.where(col(\"Team\") == \"Brazil\").show(25)"
   ]
  },
  {
   "cell_type": "code",
   "execution_count": 72,
   "metadata": {},
   "outputs": [
    {
     "name": "stdout",
     "output_type": "stream",
     "text": [
      "+--------------+------+--------+-------------------+-------------+--------------------+------+------+---+-----+----+----------+---+\n",
      "|          Team|Number|Position|  FIFA Popular Name|   Shirt Name|                Club|Height|Weight|Day|Month|Year|     Birth|Top|\n",
      "+--------------+------+--------+-------------------+-------------+--------------------+------+------+---+-----+----+----------+---+\n",
      "|     Argentina|     6|      DF|     FAZIO Federico|        FAZIO|       AS Roma (ITA)|   199|    85| 17|    3|1987|1987-03-17|  1|\n",
      "|     Australia|    12|      GK|         JONES Brad|        JONES|Feyenoord Rotterd...|   193|    87| 19|    3|1982|1982-03-19|  1|\n",
      "|       Belgium|     1|      GK|   COURTOIS Thibaut|     COURTOIS|    Chelsea FC (ENG)|   199|    91| 11|    5|1992|1992-05-11|  1|\n",
      "|        Brazil|    16|      GK|             CASSIO|       CASSIO|SC Corinthians (BRA)|   195|    92|  6|    6|1987|1987-06-06|  1|\n",
      "|      Colombia|    13|      DF|         MINA Yerry|      Y. MINA|  FC Barcelona (ESP)|   194|    95| 23|    9|1994|1994-09-23|  1|\n",
      "|    Costa Rica|    19|      DF|     WASTON Kendall|    K. WASTON|Vancouver Whiteca...|   196|    87|  1|    1|1988|1988-01-01|  1|\n",
      "|       Croatia|    12|      GK|      KALINIC Lovre|   L. KALINIĆ|      KAA Gent (BEL)|   201|    96|  3|    4|1990|1990-04-03|  1|\n",
      "|       Denmark|     3|      DF| VESTERGAARD Jannik|  VESTERGAARD|VfL Borussia Mönc...|   200|    98|  3|    8|1992|1992-08-03|  1|\n",
      "|         Egypt|     6|      DF|       AHMED HEGAZY|    A. HEGAZY|West Bromwich Alb...|   194|    95| 25|    1|1991|1991-01-25|  1|\n",
      "|       England|    13|      GK|       BUTLAND Jack|      BUTLAND| Stoke City FC (ENG)|   196|    96| 10|    3|1993|1993-03-10|  1|\n",
      "|        France|    15|      MF|      NZONZI Steven|       NZONZI|    Sevilla FC (ESP)|   197|    87| 15|   12|1988|1988-12-15|  1|\n",
      "|       Germany|    15|      DF|       SUELE Niklas|         SÜLE|FC Bayern München...|   195|    89|  3|    9|1995|1995-09-03|  1|\n",
      "|       IR Iran|     1|      GK|     BEIRANVAND Ali|A. BEIRANVAND| Persepolis FC (IRN)|   194|    85| 21|    9|1992|1992-09-21|  1|\n",
      "|       Iceland|    12|      GK|    SCHRAM Frederik|       SCHRAM|   Roskilde BK (DEN)|   198|    92| 19|    1|1995|1995-01-19|  1|\n",
      "|         Japan|    22|      DF|       YOSHIDA Maya|      YOSHIDA|Southampton FC (ENG)|   189|    78| 24|    8|1988|1988-08-24|  1|\n",
      "|Korea Republic|     9|      FW|       KIM Shinwook|      S W KIM|Jeonbuk Hyundai (...|   197|    97| 14|    4|1988|1988-04-14|  1|\n",
      "|        Mexico|     5|      DF|        REYES Diego|     D. REYES|      FC Porto (POR)|   190|    77| 19|    9|1992|1992-09-19|  1|\n",
      "|       Morocco|     6|      DF|       SAISS Romain|        SAISS|Wolverhampton Wan...|   190|    76| 26|    3|1990|1990-03-26|  1|\n",
      "|       Morocco|     1|      GK|     BOUNOU Yassine|       BOUNOU|     Girona FC (ESP)|   190|    77|  5|    4|1991|1991-04-05|  1|\n",
      "|       Morocco|    13|      FW|     BOUTAIB Khalid|      BOUTAIB|Yeni Malatyaspor ...|   190|    80| 24|    4|1987|1987-04-24|  1|\n",
      "|       Morocco|    12|      GK|    EL KAJOUI Monir|    EL KAJOUI|   CD Numancia (ESP)|   190|    88| 10|    5|1989|1989-05-10|  1|\n",
      "|       Nigeria|    13|      FW|     NWANKWO Simeon|      NWANKWO|    FC Crotone (ITA)|   197|    89|  7|    5|1992|1992-05-07|  1|\n",
      "|        Panama|    22|      GK|     RODRIGUEZ Alex|    RODRIGUEZ|San Francisco FC ...|   197|    83|  5|    8|1990|1990-08-05|  1|\n",
      "|          Peru|     1|      GK|      GALLESE Pedro|      GALLESE|CD Tiburones Rojo...|   189|    79| 23|    2|1990|1990-02-23|  1|\n",
      "|        Poland|     1|      GK|  SZCZESNY Wojciech|     SZCZESNY|   Juventus FC (ITA)|   195|    84| 18|    4|1990|1990-04-18|  1|\n",
      "|      Portugal|     6|      DF|         JOSE FONTE|        FONTE|Dalian Yifang FC ...|   191|    84| 22|   12|1983|1983-12-22|  1|\n",
      "|        Russia|    22|      FW|       DZYUBA Artem|       DZYUBA|FC Arsenal Tula (...|   196|    90| 22|    8|1988|1988-08-22|  1|\n",
      "|  Saudi Arabia|    12|      MF|      MOHAMED KANNO|        KANNO|  Al Hilal SFC (KSA)|   192|    73| 22|    9|1994|1994-09-22|  1|\n",
      "|       Senegal|    23|      GK|       GOMIS Alfred|        GOMIS|  SPAL Ferrara (ITA)|   196|    80|  5|    9|1993|1993-09-05|  1|\n",
      "|       Senegal|     6|      MF|         SANE Salif|      S. SANE|   Hannover 96 (GER)|   196|    84| 25|    8|1990|1990-08-25|  1|\n",
      "|        Serbia|    15|      DF|  MILENKOVIC Nikola|   MILENKOVIĆ|ACF Fiorentina (ITA)|   195|    90| 12|   10|1997|1997-10-12|  1|\n",
      "|        Serbia|     1|      GK| STOJKOVIC Vladimir|    STOJKOVIĆ|   FK Partizan (SRB)|   195|    92| 28|    7|1983|1983-07-28|  1|\n",
      "|         Spain|     3|      DF|       PIQUE Gerard|        PIQUÉ|  FC Barcelona (ESP)|   194|    85|  2|    2|1987|1987-02-02|  1|\n",
      "|        Sweden|     1|      GK|        OLSEN Robin|        OLSEN|  FC Kobenhavn (DEN)|   198|    89|  8|    1|1990|1990-01-08|  1|\n",
      "|   Switzerland|    20|      DF|      DJOUROU Johan|      DJOUROU|Antalyaspor AS (TUR)|   192|    90| 18|    1|1987|1987-01-18|  1|\n",
      "|       Tunisia|     1|      GK|BEN MUSTAPHA Farouk| BEN MUSTAPHA|  Al Shabab FC (KSA)|   192|    85|  1|    7|1989|1989-07-01|  1|\n",
      "|       Uruguay|    19|      DF|   COATES Sebastian|       COATES|   Sporting CP (POR)|   196|    89|  7|   10|1990|1990-10-07|  1|\n",
      "+--------------+------+--------+-------------------+-------------+--------------------+------+------+---+-----+----+----------+---+\n",
      "\n"
     ]
    }
   ],
   "source": [
    "# Define the window specification\n",
    "# - partitionBy(col(\"Team\")): partition the data by the \"Team\" column, so each team will have its own separate window\n",
    "# - orderBy(desc(col(\"Height\"))): order the rows within each partition by the \"Height\" column in descending order\n",
    "top1 = Window.partitionBy(col(\"Team\")).orderBy(desc(col(\"Height\")))\n",
    "\n",
    "# Add a new column \"Top\" with ranking values for each row within the partition\n",
    "# - rank().over(top1): computes the rank of each row within its partition based on the specified window\n",
    "# - where(col(\"Top\") == 1): filters the DataFrame to include only the rows where the rank (\"Top\") is 1\n",
    "# - show(50): displays the first 50 rows of the filtered DataFrame\n",
    "df.withColumn(\"Top\", rank().over(top1)).where(col(\"Top\") == 1).show(50)"
   ]
  },
  {
   "cell_type": "markdown",
   "metadata": {},
   "source": [
    "## Describe"
   ]
  },
  {
   "cell_type": "code",
   "execution_count": 73,
   "metadata": {},
   "outputs": [
    {
     "name": "stdout",
     "output_type": "stream",
     "text": [
      "+-------+---------+-----------------+--------+-----------------+----------+--------------------+-----------------+-----------------+------------------+------------------+------------------+\n",
      "|summary|     Team|           Number|Position|FIFA Popular Name|Shirt Name|                Club|           Height|           Weight|               Day|             Month|              Year|\n",
      "+-------+---------+-----------------+--------+-----------------+----------+--------------------+-----------------+-----------------+------------------+------------------+------------------+\n",
      "|  count|      736|              736|     736|              736|       736|                 736|              736|              736|               736|               736|               736|\n",
      "|   mean|     NULL|             12.0|    NULL|             NULL|      NULL|                NULL|182.4076086956522|77.18885869565217|15.793478260869565|5.8790760869565215| 1990.110054347826|\n",
      "| stddev|     NULL|6.637760461599851|    NULL|             NULL|      NULL|                NULL|6.930924233929302|7.233778346883639| 8.761123828732469|3.3782493094684387|3.9074472063626775|\n",
      "|    min|Argentina|                1|      DF|     ABDALLA SAID| A. ASHRAF|    1. FC Köln (GER)|              165|               59|                 1|                 1|              1973|\n",
      "|    max|  Uruguay|               23|      MF|     ZUBER Steven|  ŽIVKOVIĆ|Étoile du Sahel (...|              201|               99|                31|                12|              1999|\n",
      "+-------+---------+-----------------+--------+-----------------+----------+--------------------+-----------------+-----------------+------------------+------------------+------------------+\n",
      "\n"
     ]
    }
   ],
   "source": [
    "# Display summary statistics of the DataFrame for numerical columns\n",
    "# - describe(): computes summary statistics for numerical columns in the DataFrame\n",
    "# - show(): displays the computed statistics in a tabular format\n",
    "df.describe().show()"
   ]
  },
  {
   "cell_type": "code",
   "execution_count": 74,
   "metadata": {},
   "outputs": [
    {
     "name": "stdout",
     "output_type": "stream",
     "text": [
      "+-------+------+-----------------+--------+-----------------+----------+--------------------+-----------------+-----------------+-----------------+-----------------+-----------------+\n",
      "|summary|  Team|           Number|Position|FIFA Popular Name|Shirt Name|                Club|           Height|           Weight|              Day|            Month|             Year|\n",
      "+-------+------+-----------------+--------+-----------------+----------+--------------------+-----------------+-----------------+-----------------+-----------------+-----------------+\n",
      "|  count|    23|               23|      23|               23|        23|                  23|               23|               23|               23|               23|               23|\n",
      "|   mean|  NULL|             12.0|    NULL|             NULL|      NULL|                NULL|180.7826086956522|76.56521739130434|11.26086956521739|6.130434782608695|1989.391304347826|\n",
      "| stddev|  NULL|6.782329983125267|    NULL|             NULL|      NULL|                NULL|7.354383490255254|8.239737898283606|6.876953549252538|2.784769418006175|3.499858833968506|\n",
      "|    min|Brazil|                1|      DF|          ALISSON| A. BECKER|       AS Roma (ITA)|              168|               64|                2|                1|             1984|\n",
      "|    max|Brazil|               23|      MF|          WILLIAN|   WILLIAN|SC Corinthians (BRA)|              195|               92|               25|               10|             1997|\n",
      "+-------+------+-----------------+--------+-----------------+----------+--------------------+-----------------+-----------------+-----------------+-----------------+-----------------+\n",
      "\n"
     ]
    }
   ],
   "source": [
    "# Filter the DataFrame to include only rows where the \"Team\" column is \"Brazil\"\n",
    "# - where(col(\"Team\") == \"Brazil\"): selects rows where the value in the \"Team\" column is equal to \"Brazil\"\n",
    "# - describe(): computes summary statistics for numerical columns in the filtered DataFrame\n",
    "# - show(): displays the computed statistics in a tabular format\n",
    "df.where(col(\"Team\") == \"Brazil\").describe().show()"
   ]
  },
  {
   "cell_type": "markdown",
   "metadata": {},
   "source": [
    "## Aggregation Function Using Window Function"
   ]
  },
  {
   "cell_type": "code",
   "execution_count": 75,
   "metadata": {},
   "outputs": [
    {
     "name": "stdout",
     "output_type": "stream",
     "text": [
      "+--------------+------------------+---+---+\n",
      "|          Team|              mean|max|min|\n",
      "+--------------+------------------+---+---+\n",
      "|        Serbia|186.69565217391303|195|169|\n",
      "|       Denmark| 186.6086956521739|200|171|\n",
      "|       Germany| 185.7826086956522|195|176|\n",
      "|        Sweden| 185.7391304347826|198|177|\n",
      "|       Iceland|185.52173913043478|198|170|\n",
      "|       Belgium|185.34782608695653|199|169|\n",
      "|       Croatia| 185.2608695652174|201|172|\n",
      "|       Nigeria|184.52173913043478|197|172|\n",
      "|       IR Iran|184.47826086956522|194|177|\n",
      "|        Russia| 184.3913043478261|196|173|\n",
      "|       Senegal|183.65217391304347|196|173|\n",
      "|        France|183.30434782608697|197|168|\n",
      "|        Poland|183.17391304347825|195|172|\n",
      "|       Tunisia|183.08695652173913|192|170|\n",
      "|   Switzerland|182.91304347826087|192|165|\n",
      "|       England| 182.7391304347826|196|170|\n",
      "|       Morocco|182.69565217391303|190|167|\n",
      "|        Panama|182.17391304347825|197|165|\n",
      "|Korea Republic| 181.8695652173913|197|170|\n",
      "|       Uruguay|181.04347826086956|196|168|\n",
      "|         Egypt|             181.0|194|169|\n",
      "|     Australia| 180.8695652173913|193|169|\n",
      "|        Brazil| 180.7826086956522|195|168|\n",
      "|      Colombia| 180.7826086956522|194|169|\n",
      "|    Costa Rica|180.69565217391303|196|172|\n",
      "|         Spain|179.91304347826087|194|170|\n",
      "|        Mexico| 179.7826086956522|190|166|\n",
      "|      Portugal| 179.7391304347826|191|168|\n",
      "|         Japan| 178.7826086956522|189|168|\n",
      "|     Argentina|178.43478260869566|199|167|\n",
      "|  Saudi Arabia|177.65217391304347|192|165|\n",
      "|          Peru| 177.6086956521739|189|169|\n",
      "+--------------+------------------+---+---+\n",
      "\n"
     ]
    }
   ],
   "source": [
    "# Define the window specifications\n",
    "# - param: partitions the data by the \"Team\" column and orders rows within each partition by \"Height\" in descending order\n",
    "# - param2: partitions the data by the \"Team\" column without any specific order\n",
    "param = Window.partitionBy(col(\"Team\")).orderBy(desc(col(\"Height\")))\n",
    "param2 = Window.partitionBy(col(\"Team\"))\n",
    "\n",
    "# Add columns with aggregated values and filter to include only the top-ranked rows\n",
    "# - withColumn(\"lineX\", row_number().over(param)): adds a unique sequential number for each row within the team partition, ordered by height\n",
    "# - withColumn(\"mean\", avg(col(\"Height\")).over(param2)): adds the average height for each team\n",
    "# - withColumn(\"max\", max(col(\"Height\")).over(param2)): adds the maximum height for each team\n",
    "# - withColumn(\"min\", min(col(\"Height\")).over(param2)): adds the minimum height for each team\n",
    "# - where(col(\"lineX\") == 1): filters to include only the top-ranked row by height within each team\n",
    "# - select(col(\"Team\"), col(\"mean\"), col(\"max\"), col(\"min\")): selects the specified columns for display\n",
    "# - orderBy(col(\"mean\"), ascending=False): orders teams by average height in descending order\n",
    "# - show(50): displays the first 50 rows\n",
    "df.withColumn(\"lineX\", row_number().over(param)) \\\n",
    "   .withColumn(\"mean\", avg(col(\"Height\")).over(param2)) \\\n",
    "   .withColumn(\"max\", max(col(\"Height\")).over(param2)) \\\n",
    "   .withColumn(\"min\", min(col(\"Height\")).over(param2)) \\\n",
    "   .where(col(\"lineX\") == 1) \\\n",
    "   .select(col(\"Team\"), col(\"mean\"), col(\"max\"), col(\"min\")) \\\n",
    "   .orderBy(col(\"mean\"), ascending=False) \\\n",
    "   .show(50)"
   ]
  }
 ],
 "metadata": {
  "kernelspec": {
   "display_name": "Python 3",
   "language": "python",
   "name": "python3"
  },
  "language_info": {
   "codemirror_mode": {
    "name": "ipython",
    "version": 3
   },
   "file_extension": ".py",
   "mimetype": "text/x-python",
   "name": "python",
   "nbconvert_exporter": "python",
   "pygments_lexer": "ipython3",
   "version": "3.12.3"
  }
 },
 "nbformat": 4,
 "nbformat_minor": 2
}
